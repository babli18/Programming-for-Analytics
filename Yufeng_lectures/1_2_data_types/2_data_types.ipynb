{
 "cells": [
  {
   "cell_type": "markdown",
   "metadata": {},
   "source": [
    "# Basic data types\n",
    "#### Yufeng Huang\n",
    "#### Associate Professor of Marketing, Simon Business School\n",
    "#### July 23 and 25, 2024\n"
   ]
  },
  {
   "cell_type": "markdown",
   "metadata": {},
   "source": [
    "## Introduction\n",
    "- Yesterday we introduced the concept of variables\n",
    "\n",
    "- Miss M is a bookseller who works part-time at the university bookstore. Her wage is $15 per hour. \n",
    "She wants to buy a cell phone worth $800. How many hours does she need to work in order to buy this cell phone?"
   ]
  },
  {
   "cell_type": "code",
   "execution_count": 476,
   "metadata": {},
   "outputs": [],
   "source": [
    "# Miss M's wage as a variable `wage`\n",
    "wage = 15"
   ]
  },
  {
   "cell_type": "code",
   "execution_count": 477,
   "metadata": {},
   "outputs": [
    {
     "name": "stdout",
     "output_type": "stream",
     "text": [
      "No. of Hours Miss M needs to work:  53.33\n"
     ]
    }
   ],
   "source": [
    "# how many hours will she need to earn the money to buy her phone? Declare variable `hours`\n",
    "hours = 800/wage\n",
    "print(f'No. of Hours Miss M needs to work: {hours: .2f}')   "
   ]
  },
  {
   "cell_type": "markdown",
   "metadata": {},
   "source": [
    "- Recall that we use an f-string\n",
    "    - new today: we're showing two digits by using `{n: .2f}` (more on this later)\n",
    "\n",
    "- Now, how many hours would Miss M need if her wage was $20 per hour?\n"
   ]
  },
  {
   "cell_type": "code",
   "execution_count": 478,
   "metadata": {},
   "outputs": [
    {
     "name": "stdout",
     "output_type": "stream",
     "text": [
      "No. of Hours Miss M needs to work:  40.00\n"
     ]
    }
   ],
   "source": [
    "# execute this cell and then execute the cell that has the comment 'hello again'\n",
    "wage = 20\n",
    "\n",
    "# now re-calculate wage and print hours again\n",
    "hours = 800/wage\n",
    "print(f'No. of Hours Miss M needs to work: {hours: .2f}')"
   ]
  },
  {
   "cell_type": "markdown",
   "metadata": {},
   "source": []
  },
  {
   "cell_type": "markdown",
   "metadata": {},
   "source": [
    "## Today -- most important data types and structures in base Python\n",
    "- Four data types\n",
    "    1. boolean\n",
    "    2. integer\n",
    "    3. float\n",
    "    4. string\n",
    "    - typical operations on each of the types\n",
    "    - conversion between data types\n",
    "\n",
    "- Five data structures\n",
    "    1. lists\n",
    "    2. strings (technically a data type, but I'm putting it here for a reason)\n",
    "    3. dictionary\n",
    "    4. tuples\n",
    "    5. sets\n"
   ]
  },
  {
   "cell_type": "markdown",
   "metadata": {},
   "source": [
    "## Numbers (integer and float)\n"
   ]
  },
  {
   "cell_type": "code",
   "execution_count": 479,
   "metadata": {},
   "outputs": [
    {
     "name": "stdout",
     "output_type": "stream",
     "text": [
      "the value of a is 8, and the data type of a is <class 'int'>\n"
     ]
    }
   ],
   "source": [
    "# variable a comes from adding two integers\n",
    "a = 3 + 5\n",
    "\n",
    "# type of the variable\n",
    "print(f\"the value of a is {a}, and the data type of a is {type(a)}\")"
   ]
  },
  {
   "cell_type": "code",
   "execution_count": 480,
   "metadata": {},
   "outputs": [
    {
     "name": "stdout",
     "output_type": "stream",
     "text": [
      "the value of b is 0.6, and the data type of b is <class 'float'>\n"
     ]
    }
   ],
   "source": [
    "# variable b from dividing one number by another\n",
    "b = 3 / 5\n",
    "\n",
    "# type of the variable\n",
    "print(f\"the value of b is {b}, and the data type of b is {type(b)}\")"
   ]
  },
  {
   "cell_type": "markdown",
   "metadata": {},
   "source": [
    "- `type()` returns the type of a variable or data structure\n",
    "- The second case, 0.6 is not an integer, so b is a `float` (real number) instead"
   ]
  },
  {
   "cell_type": "code",
   "execution_count": 481,
   "metadata": {},
   "outputs": [
    {
     "name": "stdout",
     "output_type": "stream",
     "text": [
      "23 35\n"
     ]
    }
   ],
   "source": [
    "# Arithmetic Expressions\n",
    "a = 3 + 4 * 5 \n",
    "b = (3 + 4) * 5\n",
    "\n",
    "# note that order of operation still follows math class\n",
    "print(a, b)"
   ]
  },
  {
   "cell_type": "code",
   "execution_count": 482,
   "metadata": {},
   "outputs": [
    {
     "name": "stdout",
     "output_type": "stream",
     "text": [
      "a = 23\n",
      "b = 35\n",
      "23 35\n"
     ]
    }
   ],
   "source": [
    "# Side note: you can be more elaborate in the print step\n",
    "print(f\"a = {a}\")\n",
    "print(f\"b = {b}\")\n",
    "\n",
    "# but I use the following for simplicity\n",
    "print(a, b)"
   ]
  },
  {
   "cell_type": "code",
   "execution_count": 483,
   "metadata": {},
   "outputs": [
    {
     "name": "stdout",
     "output_type": "stream",
     "text": [
      "5 6 12.399999999999999\n"
     ]
    }
   ],
   "source": [
    "# Algebraic Expressions involving variables\n",
    "x = 5\n",
    "y = 6\n",
    "z = 3*y + (2/x) - y\n",
    "\n",
    "# print\n",
    "print(x, y, z)"
   ]
  },
  {
   "cell_type": "code",
   "execution_count": 484,
   "metadata": {},
   "outputs": [
    {
     "name": "stdout",
     "output_type": "stream",
     "text": [
      "a = 8\n",
      "b = 2.0794415416798357\n",
      "c = 2.08\n",
      "d = 0.8000000000000007\n"
     ]
    }
   ],
   "source": [
    "# Power, log, modulo, and other math functions\n",
    "\n",
    "# power\n",
    "a = 2 ** 3   \n",
    "\n",
    "# log\n",
    "import math as m    # last time we imported math and called it \"math\", this time we call this module \"m\"\n",
    "b = m.log(a)\n",
    "\n",
    "# round (two decimal points)\n",
    "c = round(b, 2)\n",
    "\n",
    "# modulous (remainder after a division)\n",
    "d = c*10 % 5\n",
    "\n",
    "print(f'a = {a}')\n",
    "print(f'b = {b}')\n",
    "print(f'c = {c}')\n",
    "print(f'd = {d}')   # sometimes you'll see the displayed number has \"inaccuracy.\" This is because float numbers are never perfectly accurate\n"
   ]
  },
  {
   "cell_type": "code",
   "execution_count": 485,
   "metadata": {},
   "outputs": [
    {
     "name": "stdout",
     "output_type": "stream",
     "text": [
      "the type of a = 2 is <class 'int'>\n",
      "the type of b = 2.0 is <class 'float'>\n"
     ]
    }
   ],
   "source": [
    "# How to declare float?\n",
    "a = 2\n",
    "print(f\"the type of a = {a} is {type(a)}\")\n",
    "\n",
    "b = 2.\n",
    "print(f\"the type of b = {b} is {type(b)}\")\n"
   ]
  },
  {
   "cell_type": "markdown",
   "metadata": {},
   "source": [
    "## Boolean (True/False)\n",
    "- Logical values (binary, `True` or `False`) are stored as booleans\n",
    "    - note: first letter capitalize\n",
    "- Typical operation is and (`&` or `and`), or (`|` or `or`), not (`not`)\n",
    "    - next week, we'll know that `&` and `|` are bitwise operators, meaning that they can apply onto a whole range of values at the same time"
   ]
  },
  {
   "cell_type": "code",
   "execution_count": 486,
   "metadata": {},
   "outputs": [
    {
     "name": "stdout",
     "output_type": "stream",
     "text": [
      "True\n"
     ]
    }
   ],
   "source": [
    "# Booleans come from true or false statements\n",
    "x = 2\n",
    "print(x > 1)    # is x greater than 1? Yes. Then the value is `True`"
   ]
  },
  {
   "cell_type": "code",
   "execution_count": 487,
   "metadata": {},
   "outputs": [
    {
     "name": "stdout",
     "output_type": "stream",
     "text": [
      "the value of `x > 1` is True, and the type is <class 'bool'>\n"
     ]
    }
   ],
   "source": [
    "# More elaborately\n",
    "print(f\"the value of `x > 1` is {x > 1}, and the type is {type(x > 1)}\")"
   ]
  },
  {
   "cell_type": "code",
   "execution_count": 488,
   "metadata": {},
   "outputs": [
    {
     "name": "stdout",
     "output_type": "stream",
     "text": [
      "x > 1 has the value True\n",
      "is x greater than 1 and smaller than or equal to 3? The answer is True\n",
      "the opposite of x > 0 is False\n"
     ]
    }
   ],
   "source": [
    "# Boolean operators \n",
    "x = 2\n",
    "print(f\"x > 1 has the value {x > 1}\")\n",
    "\n",
    "# two conditions\n",
    "print(f\"is x greater than 1 and smaller than or equal to 3? The answer is {x > 1 and x <= 3}\")  # can be replaced by &\n",
    "\n",
    "# not\n",
    "print(f\"the opposite of x > 0 is {not x > 0}\")\n"
   ]
  },
  {
   "cell_type": "markdown",
   "metadata": {},
   "source": [
    "- More on boolean operators\n",
    "    - we know greater than `>` and greater than or equal to `>=`\n",
    "    - we should also know equal to `==` and not equal to `!=`\n",
    "- In particular\n",
    "    - `==` represents boolean statement (check if two things are equal)\n",
    "    - whereas `=` represents assignment of value to a variale"
   ]
  },
  {
   "cell_type": "code",
   "execution_count": 489,
   "metadata": {},
   "outputs": [
    {
     "name": "stdout",
     "output_type": "stream",
     "text": [
      "False\n",
      "True\n",
      "False\n",
      "True\n"
     ]
    }
   ],
   "source": [
    "a = 2\n",
    "print(a > 2)  \n",
    "print(a >= 2)\n",
    "print(a == 1)   # equal (as a statement)\n",
    "print(a != 1)   # not equal"
   ]
  },
  {
   "cell_type": "code",
   "execution_count": 490,
   "metadata": {},
   "outputs": [],
   "source": [
    "# E.g., try this\n",
    "a = 1"
   ]
  },
  {
   "cell_type": "code",
   "execution_count": 491,
   "metadata": {},
   "outputs": [
    {
     "name": "stdout",
     "output_type": "stream",
     "text": [
      "1\n"
     ]
    }
   ],
   "source": [
    "# Now print a, what happened?\n",
    "print(a)"
   ]
  },
  {
   "cell_type": "markdown",
   "metadata": {},
   "source": [
    "## Strings\n",
    "- Strings are a sequence of characters, such as `\"Yufeng Huang\"` consists of `\"Y\"`, `\"u\"`, and so on\n",
    "- Because it is a sequence, it shares properties with some data structures we'll be looking at\n",
    "- I will explain the sequence property later"
   ]
  },
  {
   "cell_type": "code",
   "execution_count": 492,
   "metadata": {},
   "outputs": [
    {
     "name": "stdout",
     "output_type": "stream",
     "text": [
      "Hello world\n"
     ]
    }
   ],
   "source": [
    "# Create a string \n",
    "s = \"Hello world\"\n",
    "print(s)"
   ]
  },
  {
   "cell_type": "code",
   "execution_count": 493,
   "metadata": {},
   "outputs": [
    {
     "name": "stdout",
     "output_type": "stream",
     "text": [
      "False\n"
     ]
    }
   ],
   "source": [
    "# Create a string that \"looks like\" a number\n",
    "six = \"6\"\n",
    "\n",
    "# Is that a number?\n",
    "print(six == 6)"
   ]
  },
  {
   "cell_type": "markdown",
   "metadata": {},
   "source": [
    " ## Conversion between data types\n",
    " - Two types of conversion\n",
    "    1. explicit conversion based on user input, or \"type casting\"\n",
    "    2. implicit conversion based on context, or \"coersion\""
   ]
  },
  {
   "cell_type": "code",
   "execution_count": 494,
   "metadata": {},
   "outputs": [
    {
     "name": "stdout",
     "output_type": "stream",
     "text": [
      "the type of 1 is <class 'int'>\n"
     ]
    }
   ],
   "source": [
    "# explicit type conversion (type casting)\n",
    "a = 1.      # a float\n",
    "b = int(a)\n",
    "print(f\"the type of {b} is {type(b)}\")"
   ]
  },
  {
   "cell_type": "code",
   "execution_count": 495,
   "metadata": {},
   "outputs": [
    {
     "name": "stdout",
     "output_type": "stream",
     "text": [
      "the type of 0.3333333333333333 is <class 'float'>\n"
     ]
    }
   ],
   "source": [
    "# implicit type conversion (coersion)\n",
    "c = b / 3   # has to be a float, so coerce c as is\n",
    "print(f\"the type of {c} is {type(c)}\")"
   ]
  },
  {
   "cell_type": "code",
   "execution_count": 496,
   "metadata": {},
   "outputs": [
    {
     "name": "stdout",
     "output_type": "stream",
     "text": [
      "1.0\n",
      "True\n",
      "2\n"
     ]
    }
   ],
   "source": [
    "# convert number and booleans\n",
    "a = 1.\n",
    "print(a)    \n",
    "d = bool(a)  # explicit\n",
    "print(d)\n",
    "\n",
    "# then compute d + 1\n",
    "e = d + 1\n",
    "print(e)    # integer, because we coerced d into the more general data type, integer"
   ]
  },
  {
   "cell_type": "code",
   "execution_count": 497,
   "metadata": {},
   "outputs": [
    {
     "name": "stdout",
     "output_type": "stream",
     "text": [
      "True 1 1.0\n"
     ]
    }
   ],
   "source": [
    "# explicitly convert numbers, booleans, and strings\n",
    "a = True\n",
    "b = 1\n",
    "c = 1.\n",
    "print(str(a), str(b), str(c))\n",
    "\n",
    "# no implicit conversion between numeric data types and strings\n",
    "# str(a) + 1  # bug; error code \"can only concatenate str (not \"int\") to str\""
   ]
  },
  {
   "cell_type": "markdown",
   "metadata": {},
   "source": [
    "## Summary for now\n",
    "- Data types: bool, int, float, str\n",
    "    - bool: boolean operators (`&`, `not`, etc.)\n",
    "    - int and float: math operators\n",
    "    - str: we'll largely talk later, but remember that str cannot operate directly with other data types\n",
    "\n",
    "- Conversion: explicit or implicit\n",
    "\n",
    "- Next: understand basic data structures -- **lists**, **strings**, tuples, dictionaries, sets"
   ]
  },
  {
   "cell_type": "markdown",
   "metadata": {},
   "source": [
    "## Lists\n",
    "\n",
    "- Lists are ordered collections of *items* (or *elements*) that are *mutable*, meaning they can be changed after creation\n",
    "\n",
    "- Because they hold items, need an index system for us to find items in them\n",
    "    - the important concept of indexing, slicing, and concatenation\n",
    "    - because strings are sequences, it shares the same rule of indexing, slicing, and concatenation\n",
    "\n",
    "- Because lists are mutable, we can modify a list, including:\n",
    "    - add elements to the list\n",
    "    - remove elements from list\n",
    "    - replace a particular element with another element\n",
    "\n",
    "- Lists can hold items of any data type, including other lists"
   ]
  },
  {
   "cell_type": "markdown",
   "metadata": {},
   "source": [
    "### Creating a List\n",
    "- Use brackets `[]` to create a list"
   ]
  },
  {
   "cell_type": "code",
   "execution_count": 498,
   "metadata": {},
   "outputs": [
    {
     "data": {
      "text/plain": [
       "['January',\n",
       " 'February',\n",
       " 'March',\n",
       " 'April',\n",
       " 'May',\n",
       " 'June',\n",
       " 'July',\n",
       " 'August',\n",
       " 'September',\n",
       " 'October',\n",
       " 'November']"
      ]
     },
     "execution_count": 498,
     "metadata": {},
     "output_type": "execute_result"
    }
   ],
   "source": [
    "# Creating a list\n",
    "months_in_year = [\"January\", \"February\", \"March\", \"April\", \"May\", \"June\", \"July\", \"August\", \"September\", \"October\", \"November\"]\n",
    "months_in_year"
   ]
  },
  {
   "cell_type": "markdown",
   "metadata": {},
   "source": [
    "### Indexing\n",
    "- Each element is associated with an index\n",
    "\n",
    "- In Python, all indices count from zero\n",
    "    - so 0, 1, 2, 3, and so on\n",
    "    - negative index refer to counting from the last, and it starts with -1\n",
    "\n",
    "- Use single bracket with index to get a single element\n",
    "\n",
    "- The function `len` returns the number of elements in the list\n"
   ]
  },
  {
   "cell_type": "code",
   "execution_count": 499,
   "metadata": {},
   "outputs": [
    {
     "name": "stdout",
     "output_type": "stream",
     "text": [
      "January\n"
     ]
    }
   ],
   "source": [
    "# First month of the year\n",
    "print(months_in_year[0])\n",
    "\n",
    "# Sixth month of the year?\n",
    "\n",
    "# Last month of the year?\n"
   ]
  },
  {
   "cell_type": "markdown",
   "metadata": {},
   "source": [
    "### Concatenation\n",
    "- Find that we're missing December, what to do?\n",
    "\n",
    "- Concatenation refers to the combination of two objects (here, two lists) using a plus operator\n"
   ]
  },
  {
   "cell_type": "code",
   "execution_count": 500,
   "metadata": {},
   "outputs": [
    {
     "data": {
      "text/plain": [
       "['January',\n",
       " 'February',\n",
       " 'March',\n",
       " 'April',\n",
       " 'May',\n",
       " 'June',\n",
       " 'July',\n",
       " 'August',\n",
       " 'September',\n",
       " 'October',\n",
       " 'November',\n",
       " 'December']"
      ]
     },
     "execution_count": 500,
     "metadata": {},
     "output_type": "execute_result"
    }
   ],
   "source": [
    "# Create a list `list_december` and concatenate it to the back of `months_in_year`\n",
    "    # note: does not concatenate strings (\"JanuaryDecember\")\n",
    "list_december = [\"December\"]\n",
    "months_in_year = months_in_year + list_december\n",
    "months_in_year"
   ]
  },
  {
   "cell_type": "markdown",
   "metadata": {},
   "source": [
    "### Slicing\n",
    "- Slicing refers to indexing using a range of indices\n",
    "\n",
    "- For example\n",
    "    - find the first three elements\n",
    "    - find even-numbered elements\n",
    "    - ...\n",
    "\n",
    "- Syntax is `my_list[start:stop:step]`\n",
    "    - the resulting list includes the `start` position but stops before the `stop` position\n",
    "    - and in which one can leave arguments empty"
   ]
  },
  {
   "cell_type": "code",
   "execution_count": 501,
   "metadata": {},
   "outputs": [
    {
     "data": {
      "text/plain": [
       "['January', 'February', 'March']"
      ]
     },
     "execution_count": 501,
     "metadata": {},
     "output_type": "execute_result"
    }
   ],
   "source": [
    "months_in_first_quarter = months_in_year[0:3]   # start at 0 (inclusive), stop at 3 (not inclusive), step is 1\n",
    "months_in_first_quarter"
   ]
  },
  {
   "cell_type": "code",
   "execution_count": 502,
   "metadata": {},
   "outputs": [
    {
     "data": {
      "text/plain": [
       "['February', 'April', 'June', 'August', 'October', 'December']"
      ]
     },
     "execution_count": 502,
     "metadata": {},
     "output_type": "execute_result"
    }
   ],
   "source": [
    "even_months = months_in_year[1::2] \n",
    "even_months"
   ]
  },
  {
   "cell_type": "code",
   "execution_count": 503,
   "metadata": {},
   "outputs": [
    {
     "data": {
      "text/plain": [
       "['December',\n",
       " 'November',\n",
       " 'October',\n",
       " 'September',\n",
       " 'August',\n",
       " 'July',\n",
       " 'June',\n",
       " 'May',\n",
       " 'April',\n",
       " 'March',\n",
       " 'February',\n",
       " 'January']"
      ]
     },
     "execution_count": 503,
     "metadata": {},
     "output_type": "execute_result"
    }
   ],
   "source": [
    "reverse_order_of_months = months_in_year[-1::-1]     \n",
    "reverse_order_of_months\n",
    "\n",
    "# leave middle argument empty to go all the way to the first element\n",
    "    # contrast: months_in_year[-1:0:-1]"
   ]
  },
  {
   "cell_type": "code",
   "execution_count": 504,
   "metadata": {},
   "outputs": [
    {
     "data": {
      "text/plain": [
       "12"
      ]
     },
     "execution_count": 504,
     "metadata": {},
     "output_type": "execute_result"
    }
   ],
   "source": [
    "# Length of the list -- use function `len`\n",
    "len(months_in_year)"
   ]
  },
  {
   "cell_type": "markdown",
   "metadata": {},
   "source": [
    "### Adding and removing items from a list"
   ]
  },
  {
   "cell_type": "code",
   "execution_count": 505,
   "metadata": {},
   "outputs": [],
   "source": [
    "# Let's Create a shopping list\n",
    "shopping = []   # this creates an empty list whose name is shopping"
   ]
  },
  {
   "cell_type": "markdown",
   "metadata": {},
   "source": [
    "### Append elements - adding items to list\n",
    "- Use the method `append` to add items to the end of the list\n",
    "    - side note: What is a method? You can loosely see it as a \"function\" in the domain of lists. We'll get to this tomorrow.\n",
    "    - to call a method, connect it with the object (`shopping`) using the dot operator (`.`), and use parenthesis to indicate inputs to the method."
   ]
  },
  {
   "cell_type": "code",
   "execution_count": 506,
   "metadata": {},
   "outputs": [
    {
     "data": {
      "text/plain": [
       "['Yogurt', 'Tomato', 'Onion', 'Garlic', 'Detergent']"
      ]
     },
     "execution_count": 506,
     "metadata": {},
     "output_type": "execute_result"
    }
   ],
   "source": [
    "# add some elements to this list - to do this we use append() which will add items to the end of the list\n",
    "shopping.append(\"Yogurt\")\n",
    "shopping.append(\"Tomato\")\n",
    "shopping.append(\"Onion\")\n",
    "shopping.append(\"Garlic\")\n",
    "shopping.append(\"Detergent\")\n",
    "\n",
    "# See the shopping list\n",
    "shopping"
   ]
  },
  {
   "cell_type": "markdown",
   "metadata": {},
   "source": [
    "### Remove items\n",
    "- Use the method `remove` to remove an item"
   ]
  },
  {
   "cell_type": "code",
   "execution_count": 507,
   "metadata": {},
   "outputs": [
    {
     "data": {
      "text/plain": [
       "['Tomato', 'Onion', 'Garlic', 'Detergent']"
      ]
     },
     "execution_count": 507,
     "metadata": {},
     "output_type": "execute_result"
    }
   ],
   "source": [
    "# To remove Yogurt because the dairy section is too far away from the vegetable section in the supermarket\n",
    "shopping.remove(\"Yogurt\") \n",
    "shopping"
   ]
  },
  {
   "cell_type": "markdown",
   "metadata": {},
   "source": [
    "### Insert items\n",
    "- Use the method `insert(index, element)` to insert an element to a specific position (index) in a list"
   ]
  },
  {
   "cell_type": "code",
   "execution_count": 508,
   "metadata": {},
   "outputs": [
    {
     "data": {
      "text/plain": [
       "['Tomato', 'Onion', 'Garlic', 'Yogurt', 'Milk', 'Detergent']"
      ]
     },
     "execution_count": 508,
     "metadata": {},
     "output_type": "execute_result"
    }
   ],
   "source": [
    "# To insert milk and yogurt because we realized we can walk to the dairy section before we shop for detergents\n",
    "shopping.insert(3, \"Yogurt\")\n",
    "shopping.insert(4, \"Milk\")\n",
    "shopping"
   ]
  },
  {
   "cell_type": "markdown",
   "metadata": {},
   "source": [
    "### Replace items\n",
    "- Lists are mutable, so we can modify its elements\n",
    "- To do so, assign a new value to an element of the list (just like assigning a value to a variable)\n"
   ]
  },
  {
   "cell_type": "code",
   "execution_count": 509,
   "metadata": {},
   "outputs": [
    {
     "data": {
      "text/plain": [
       "['Cherry Tomato', 'Onion', 'Garlic', 'Yogurt', 'Milk', 'Detergent']"
      ]
     },
     "execution_count": 509,
     "metadata": {},
     "output_type": "execute_result"
    }
   ],
   "source": [
    "# Instead of tomatoes, I want cherry tomatoes\n",
    "shopping[0] = \"Cherry Tomato\"\n",
    "shopping"
   ]
  },
  {
   "cell_type": "markdown",
   "metadata": {},
   "source": [
    "## Locating an element by value\n",
    "- `index` locates elements and returns its index"
   ]
  },
  {
   "cell_type": "code",
   "execution_count": 510,
   "metadata": {},
   "outputs": [
    {
     "data": {
      "text/plain": [
       "1"
      ]
     },
     "execution_count": 510,
     "metadata": {},
     "output_type": "execute_result"
    }
   ],
   "source": [
    "# Suppose, instead of buying onions, we need shallots\n",
    "#   but we don't remember where onions are in the list\n",
    "shopping.index(\"Onion\")"
   ]
  },
  {
   "cell_type": "code",
   "execution_count": 511,
   "metadata": {},
   "outputs": [
    {
     "data": {
      "text/plain": [
       "['Cherry Tomato', 'Shallot', 'Garlic', 'Yogurt', 'Milk', 'Detergent']"
      ]
     },
     "execution_count": 511,
     "metadata": {},
     "output_type": "execute_result"
    }
   ],
   "source": [
    "# Then we can replace it with shallots, but we can do this in one step\n",
    "shopping[shopping.index(\"Onion\")] = \"Shallot\"\n",
    "shopping"
   ]
  },
  {
   "cell_type": "markdown",
   "metadata": {},
   "source": [
    "### Lists do not restrict data types\n",
    "- A list can contain anything as its elements\n",
    "\n",
    "- Meaning it does not restrict data types or even structures \n"
   ]
  },
  {
   "cell_type": "code",
   "execution_count": 512,
   "metadata": {},
   "outputs": [
    {
     "data": {
      "text/plain": [
       "[False, True, 2, 3, 4.0, 5.6, 'seven', 'eighty_nine']"
      ]
     },
     "execution_count": 512,
     "metadata": {},
     "output_type": "execute_result"
    }
   ],
   "source": [
    "# A list of booleans, integers, floats, and strings\n",
    "mixed_values = [False, True, 2, 3, 4.0, 5.6, \"seven\", \"eighty_nine\"]\n",
    "mixed_values"
   ]
  },
  {
   "cell_type": "code",
   "execution_count": 513,
   "metadata": {},
   "outputs": [
    {
     "data": {
      "text/plain": [
       "[['Michael', 85], ['Yufeng', 71], ['Anita', 92]]"
      ]
     },
     "execution_count": 513,
     "metadata": {},
     "output_type": "execute_result"
    }
   ],
   "source": [
    "# A list can contain lists\n",
    "list_of_scores = [[\"Michael\", 85], [\"Yufeng\", 71], [\"Anita\", 92]]\n",
    "list_of_scores"
   ]
  },
  {
   "cell_type": "markdown",
   "metadata": {},
   "source": [
    "- In the above, the list of list has a clear value\n",
    "    - each item is an *observation* (a row in the dataset, e.g., `[\"Yufeng\", 71]`)\n",
    "    - each element in an item is a cell that corresponds to a column (e.g., `\"Yufeng\"`)\n",
    "\n",
    "- In this way, we can *represent* a data frame using a list, although doing tabular data operation this way is extremely cumbersome\n",
    "    - I'll leave the point here and return to it next week"
   ]
  },
  {
   "cell_type": "markdown",
   "metadata": {},
   "source": []
  },
  {
   "cell_type": "markdown",
   "metadata": {},
   "source": [
    "## Strings\n",
    "- Strings are sequences of characters enclosed in quotes \n",
    "    - single, double, triple quotes; the type of quotes do not matter\n",
    "\n",
    "- Similar to lists, strings are sequences, and the indexing/slicing/concatenation rules work similarly\n",
    "\n",
    "- Different from lists, strings are immutable, meaning that parts of a string cannot be directly changed by assignment\n",
    "    - instead, need specific functions to do it\n",
    "    - will also introduce string-specific methods"
   ]
  },
  {
   "cell_type": "code",
   "execution_count": 514,
   "metadata": {},
   "outputs": [
    {
     "name": "stdout",
     "output_type": "stream",
     "text": [
      "Welcome\n",
      "Programming for Analytics\n"
     ]
    }
   ],
   "source": [
    "# Creating a string\n",
    "welcome = 'Welcome'\n",
    "print(welcome)\n",
    "this_class = \"Programming for Analytics\"\n",
    "print(this_class)"
   ]
  },
  {
   "cell_type": "markdown",
   "metadata": {},
   "source": [
    "### String concatentation, indexing, and slicing\n",
    "- Concatenation with `+`\n",
    "- Index starts with zero and indicated by brackets `[]`\n",
    "- Slicing with `[start:stop:step]`\n",
    "- Works exactly like lists"
   ]
  },
  {
   "cell_type": "code",
   "execution_count": 515,
   "metadata": {},
   "outputs": [
    {
     "name": "stdout",
     "output_type": "stream",
     "text": [
      "WelcometoProgramming for Analytics!\n"
     ]
    }
   ],
   "source": [
    "# Concatenation\n",
    "greetings = welcome + \"to\" + this_class + \"!\"\n",
    "print(greetings)\n",
    "\n",
    "# Hmmm, how to fix this?\n"
   ]
  },
  {
   "cell_type": "code",
   "execution_count": 516,
   "metadata": {},
   "outputs": [
    {
     "name": "stdout",
     "output_type": "stream",
     "text": [
      "W\n",
      "m\n"
     ]
    }
   ],
   "source": [
    "# Index\n",
    "print(greetings[0])\n",
    "print(greetings[5])"
   ]
  },
  {
   "cell_type": "code",
   "execution_count": 517,
   "metadata": {},
   "outputs": [
    {
     "data": {
      "text/plain": [
       "'Wloeor'"
      ]
     },
     "execution_count": 517,
     "metadata": {},
     "output_type": "execute_result"
    }
   ],
   "source": [
    "# Slicing\n",
    "#   Suppose we want every other character until character 11 (i.e., 0, 2, 4, 6, 8, 10)\n",
    "greetings[0:11:2]\n",
    "\n",
    "# What if we want to find all characters after the first space? "
   ]
  },
  {
   "cell_type": "code",
   "execution_count": 518,
   "metadata": {},
   "outputs": [],
   "source": [
    "# Strings are immutable\n",
    "# greetings[0] = \"w\"  # how about changing the first letter into lower case?"
   ]
  },
  {
   "cell_type": "markdown",
   "metadata": {},
   "source": [
    "### Case Conversion \n",
    "\n",
    "Converting string from lower to upper case or vice versa."
   ]
  },
  {
   "cell_type": "code",
   "execution_count": 519,
   "metadata": {},
   "outputs": [
    {
     "name": "stdout",
     "output_type": "stream",
     "text": [
      "Lower Case: welcometoprogramming for analytics!\n",
      "Upper Case: WELCOMETOPROGRAMMING FOR ANALYTICS!\n"
     ]
    }
   ],
   "source": [
    "# Converting to lower case\n",
    "lower = greetings.lower()\n",
    "print(f\"Lower Case: {lower}\")\n",
    "\n",
    "upper = greetings.upper()\n",
    "print(f\"Upper Case: {upper}\")"
   ]
  },
  {
   "cell_type": "markdown",
   "metadata": {},
   "source": [
    "### Find and Replace\n",
    "\n",
    "- The `find` method searches for a specified substring within a string and returns the lowest index where the substring is found.\n",
    "\n",
    "- The `replace` method replaces occurrences of a specified substring with another substring."
   ]
  },
  {
   "cell_type": "code",
   "execution_count": 520,
   "metadata": {},
   "outputs": [
    {
     "name": "stdout",
     "output_type": "stream",
     "text": [
      "Index of 'for': 21\n",
      "After replacing: WelcometoCoding for Analytics!\n"
     ]
    }
   ],
   "source": [
    "# using find to search the word 'for'\n",
    "str_f = greetings.find(\"for\")\n",
    "print(f\"Index of 'for': {str_f}\")\n",
    "\n",
    "# use replace to replace the word class with course\n",
    "str_r = greetings.replace(\"Programming\", \"Coding\")\n",
    "print(f\"After replacing: {str_r}\")\n"
   ]
  },
  {
   "cell_type": "markdown",
   "metadata": {},
   "source": []
  },
  {
   "cell_type": "markdown",
   "metadata": {},
   "source": [
    "# Other data structures - Dictonary, Tuple, Sets"
   ]
  },
  {
   "cell_type": "markdown",
   "metadata": {},
   "source": [
    "## Dictonary (Dict)"
   ]
  },
  {
   "cell_type": "markdown",
   "metadata": {},
   "source": [
    "A dictionary is an unordered collection of key-value pairs. It is *mutable* and *indexed by keys*\n",
    "\n",
    "- Because it is mutable and indexed, some of the operations above can be applied here\n",
    "    - referencing an element\n",
    "    - replacing an element\n",
    "\n",
    "- Note that it is unordered, so it does not have numeric indices\n",
    "\n",
    "- Note that it is indexed by keys, so keys must be unique"
   ]
  },
  {
   "cell_type": "markdown",
   "metadata": {},
   "source": [
    "### Creating a dictonary\n",
    "- Create a dictionary using `{\"key\": \"value\"}`"
   ]
  },
  {
   "cell_type": "code",
   "execution_count": 521,
   "metadata": {},
   "outputs": [
    {
     "data": {
      "text/plain": [
       "{'name': 'Alice', 'age': 25, 'city': 'Rochester'}"
      ]
     },
     "execution_count": 521,
     "metadata": {},
     "output_type": "execute_result"
    }
   ],
   "source": [
    "# Creating a dictionary - here 'name','age','city' are keys and 'Alice','25', 'Rochester' are values\n",
    "person = {\"name\": \"Alice\", \"age\": 25, \"city\": \"Rochester\"}\n",
    "person"
   ]
  },
  {
   "cell_type": "markdown",
   "metadata": {},
   "source": [
    "### Accessing a value using a key\n",
    "- Elements are index by key, not numeric indices\n",
    "- So access the value by referring to the key"
   ]
  },
  {
   "cell_type": "code",
   "execution_count": 522,
   "metadata": {},
   "outputs": [
    {
     "data": {
      "text/plain": [
       "'Alice'"
      ]
     },
     "execution_count": 522,
     "metadata": {},
     "output_type": "execute_result"
    }
   ],
   "source": [
    "# Accessing a value by key\n",
    "person[\"name\"]"
   ]
  },
  {
   "cell_type": "markdown",
   "metadata": {},
   "source": [
    "### Adding Items to dictonary\n",
    "- One can add items by assigning a key-value pair"
   ]
  },
  {
   "cell_type": "code",
   "execution_count": 523,
   "metadata": {},
   "outputs": [
    {
     "data": {
      "text/plain": [
       "{'name': 'Alice', 'age': 25, 'city': 'Rochester', 'Program': 'Analytics'}"
      ]
     },
     "execution_count": 523,
     "metadata": {},
     "output_type": "execute_result"
    }
   ],
   "source": [
    "# one way to add items to dictonary\n",
    "person[\"Program\"] = \"Analytics\"\n",
    "person"
   ]
  },
  {
   "cell_type": "markdown",
   "metadata": {},
   "source": [
    "### Updating an Item in dictonary"
   ]
  },
  {
   "cell_type": "code",
   "execution_count": 524,
   "metadata": {},
   "outputs": [
    {
     "data": {
      "text/plain": [
       "{'name': 'Alice',\n",
       " 'age': 25,\n",
       " 'city': 'Rochester',\n",
       " 'Program': 'MS Marketing Analytics'}"
      ]
     },
     "execution_count": 524,
     "metadata": {},
     "output_type": "execute_result"
    }
   ],
   "source": [
    "# can assign new values to an existing key, replacing its existing values\n",
    "person[\"Program\"] = \"MS Marketing Analytics\"\n",
    "person\n",
    "\n",
    "# an alternative is to use the `update` method\n",
    "# person.update({\"Program\": \"MS Marketing Analytics\"})"
   ]
  },
  {
   "cell_type": "markdown",
   "metadata": {},
   "source": [
    "### Deleting Items from Dictonary"
   ]
  },
  {
   "cell_type": "code",
   "execution_count": 525,
   "metadata": {},
   "outputs": [
    {
     "name": "stdout",
     "output_type": "stream",
     "text": [
      "Deleting using just key: {'name': 'Alice', 'city': 'Rochester', 'Program': 'MS Marketing Analytics'}\n",
      "Deleting using key-value pair: {'name': 'Alice', 'Program': 'MS Marketing Analytics'}\n"
     ]
    }
   ],
   "source": [
    "# deleting an item from dictonary\n",
    "del person[\"age\"]\n",
    "print(f\"Deleting using just key: {person}\")\n",
    "\n",
    "# Another way to delete an item from dictonary using bothe the key-value pair\n",
    "person.pop(\"city\", \"Rochester\")\n",
    "print(f\"Deleting using key-value pair: {person}\")"
   ]
  },
  {
   "cell_type": "markdown",
   "metadata": {},
   "source": [
    "### Values in a dictionary can be anything, even lists\n",
    "- In the example below, we'll see a way of representing tabular data using a dictionary"
   ]
  },
  {
   "cell_type": "code",
   "execution_count": 526,
   "metadata": {},
   "outputs": [
    {
     "data": {
      "text/plain": [
       "[['Michael', 85], ['Yufeng', 71], ['Anita', 92]]"
      ]
     },
     "execution_count": 526,
     "metadata": {},
     "output_type": "execute_result"
    }
   ],
   "source": [
    "# Remember list_of_scores?\n",
    "list_of_scores"
   ]
  },
  {
   "cell_type": "code",
   "execution_count": 527,
   "metadata": {},
   "outputs": [
    {
     "data": {
      "text/plain": [
       "{'names': ['Michael', 'Yufeng', 'Anita'], 'scores': [85, 71, 92]}"
      ]
     },
     "execution_count": 527,
     "metadata": {},
     "output_type": "execute_result"
    }
   ],
   "source": [
    "# Now construct a dictionary that stores (almost) the same info:\n",
    "dict_of_scores = {\"names\": [\"Michael\", \"Yufeng\", \"Anita\"], \"scores\": [85, 71, 92]}\n",
    "dict_of_scores"
   ]
  },
  {
   "cell_type": "markdown",
   "metadata": {},
   "source": [
    "## Tuple"
   ]
  },
  {
   "cell_type": "markdown",
   "metadata": {},
   "source": [
    "A tuple is an ordered, immutable collection of items. Tuples can hold items of any data type.\n",
    "- Because it is ordered, it is numerically indexed\n",
    "\n",
    "- Because it is immutable, it cannot be altered once it is created\n",
    "\n",
    "- Therefore, tuples are used to store data that need some level of protection\n"
   ]
  },
  {
   "cell_type": "markdown",
   "metadata": {},
   "source": [
    "### Creating a Tuple\n",
    "- Create a tuple using `(value1, value2)`"
   ]
  },
  {
   "cell_type": "code",
   "execution_count": 528,
   "metadata": {},
   "outputs": [
    {
     "data": {
      "text/plain": [
       "(43.1566, -77.6088)"
      ]
     },
     "execution_count": 528,
     "metadata": {},
     "output_type": "execute_result"
    }
   ],
   "source": [
    "# A canonical example for tuples is coordinates\n",
    "rochester = (43.1566, -77.6088)\n",
    "rochester"
   ]
  },
  {
   "cell_type": "markdown",
   "metadata": {},
   "source": [
    "- Elements can be accessed by index, but cannot be modified \n",
    "    - the whole tuple can be deleted, but not its specific elements"
   ]
  },
  {
   "cell_type": "code",
   "execution_count": 529,
   "metadata": {},
   "outputs": [
    {
     "name": "stdout",
     "output_type": "stream",
     "text": [
      "43.1566 -77.6088\n"
     ]
    }
   ],
   "source": [
    "lat_r = rochester[0]    # latitude\n",
    "lon_r = rochester[1]    # longitude\n",
    "print(lat_r, lon_r)"
   ]
  },
  {
   "cell_type": "code",
   "execution_count": 530,
   "metadata": {},
   "outputs": [],
   "source": [
    "# Can we modify rochester?\n",
    "# rochester[0] = rochester[0] + 1"
   ]
  },
  {
   "cell_type": "markdown",
   "metadata": {},
   "source": [
    "- Tuples can be used in combination with other data types\n",
    "- For example: we can add every person's hometown and home coordinates"
   ]
  },
  {
   "cell_type": "code",
   "execution_count": 531,
   "metadata": {},
   "outputs": [
    {
     "data": {
      "text/plain": [
       "{'names': ['Michael', 'Yufeng', 'Anita'],\n",
       " 'scores': [85, 71, 92],\n",
       " 'hometown': ['Chicago', 'Rochester', 'New York'],\n",
       " 'coordinates': [(41.8781, -87.6298), (43.1566, -77.6088), (40.7128, -74.006)]}"
      ]
     },
     "execution_count": 531,
     "metadata": {},
     "output_type": "execute_result"
    }
   ],
   "source": [
    "dict_of_scores = {\"names\": [\"Michael\", \"Yufeng\", \"Anita\"], \n",
    "                  \"scores\": [85, 71, 92],\n",
    "                  \"hometown\": [\"Chicago\", \"Rochester\", \"New York\"],\n",
    "                  \"coordinates\": [(41.8781, -87.6298), (43.1566, -77.6088), (40.7128, -74.0060)]}\n",
    "dict_of_scores"
   ]
  },
  {
   "cell_type": "markdown",
   "metadata": {},
   "source": [
    "## Sets"
   ]
  },
  {
   "cell_type": "markdown",
   "metadata": {},
   "source": [
    "A set is an unordered collection of unique items. Sets are mutable and do not allow duplicate elements.\n",
    "\n",
    "- Because it is unordered, we don't use sets to store elements which we need to locate\n",
    "\n",
    "- Instead, sets are used to:\n",
    "    - check whether an element is in a set, using the `in` operator\n",
    "    - take intersections, unions, and differences"
   ]
  },
  {
   "cell_type": "markdown",
   "metadata": {},
   "source": [
    "### Creating a Set\n",
    "- Create a set using `{element1, element2, element3}`"
   ]
  },
  {
   "cell_type": "code",
   "execution_count": 532,
   "metadata": {},
   "outputs": [
    {
     "data": {
      "text/plain": [
       "{3.14, 42, 'apple', 'galaxy'}"
      ]
     },
     "execution_count": 532,
     "metadata": {},
     "output_type": "execute_result"
    }
   ],
   "source": [
    "# creating a set\n",
    "random_set = {42, \"galaxy\", 3.14, 42, \"apple\"}\n",
    "random_set"
   ]
  },
  {
   "cell_type": "markdown",
   "metadata": {},
   "source": [
    "### Checking whether something is in the set\n",
    "- Note: output is a boolean\n",
    "- Note: `in` operator also works with lists and tuples"
   ]
  },
  {
   "cell_type": "code",
   "execution_count": 533,
   "metadata": {},
   "outputs": [
    {
     "name": "stdout",
     "output_type": "stream",
     "text": [
      "True\n",
      "False\n"
     ]
    }
   ],
   "source": [
    "print(42 in random_set)\n",
    "print(\"orange\" in random_set)"
   ]
  },
  {
   "cell_type": "markdown",
   "metadata": {},
   "source": [
    "### Adding and removing Elements to/from a Set"
   ]
  },
  {
   "cell_type": "code",
   "execution_count": 534,
   "metadata": {},
   "outputs": [
    {
     "data": {
      "text/plain": [
       "{3.14, 42, 'apple', 'galaxy', 'python'}"
      ]
     },
     "execution_count": 534,
     "metadata": {},
     "output_type": "execute_result"
    }
   ],
   "source": [
    "# adding elements to the set\n",
    "random_set.add('python')\n",
    "random_set"
   ]
  },
  {
   "cell_type": "code",
   "execution_count": 535,
   "metadata": {},
   "outputs": [
    {
     "name": "stdout",
     "output_type": "stream",
     "text": [
      "{'apple', 3.14, 42, 'galaxy'}\n"
     ]
    }
   ],
   "source": [
    "# using remove() method to remove an element\n",
    "#   alternative: use the discard() method\n",
    "random_set.remove('python')\n",
    "print(random_set)"
   ]
  },
  {
   "cell_type": "markdown",
   "metadata": {},
   "source": [
    "### Union, intersection, and differences between two sets\n",
    "- The union of two sets contains all elements that belong to **either** set\n",
    "- The intersection of two sets contains all elements that belong to **each** set\n",
    "    - so, union is the boolean or operator `|`, and intersection is the and operator `&`\n",
    "- The difference between set_1 and set_2 contains all elements that belong to set_1 but not set_2"
   ]
  },
  {
   "cell_type": "code",
   "execution_count": 536,
   "metadata": {},
   "outputs": [],
   "source": [
    "# Consider the two sets\n",
    "set_1 = {1, 2, 3, 4, 5}\n",
    "set_2 = {2, 5, 0, 8, 6}"
   ]
  },
  {
   "cell_type": "code",
   "execution_count": 537,
   "metadata": {},
   "outputs": [
    {
     "name": "stdout",
     "output_type": "stream",
     "text": [
      "{0, 1, 2, 3, 4, 5, 6, 8}\n"
     ]
    }
   ],
   "source": [
    "# union of two sets can be done using the or | operator (or the union() method)\n",
    "\n",
    "# Using the | operator\n",
    "union = set_1 | set_2\n",
    "print(union)\n",
    "\n",
    "# # alternative union() method\n",
    "# union = set_1.union(set_2)\n",
    "# print(f'Using Union function: {union}')\n"
   ]
  },
  {
   "cell_type": "code",
   "execution_count": 538,
   "metadata": {},
   "outputs": [
    {
     "name": "stdout",
     "output_type": "stream",
     "text": [
      "{2, 5}\n"
     ]
    }
   ],
   "source": [
    "# Intersection of two sets can be done using the & operator\n",
    "\n",
    "# using the & operator\n",
    "intersection = set_1 & set_2\n",
    "print(intersection)\n",
    "\n",
    "# # alternative: intersection() method\n",
    "# intersection = set_1.intersection(set_2)\n",
    "# print(f'Using Intersection method: {intersection}')\n"
   ]
  },
  {
   "cell_type": "code",
   "execution_count": 539,
   "metadata": {},
   "outputs": [
    {
     "name": "stdout",
     "output_type": "stream",
     "text": [
      "{1, 3, 4}\n"
     ]
    }
   ],
   "source": [
    "# Difference between two sets can be done using the - operator\n",
    "\n",
    "# using - operator\n",
    "difference = set_1 - set_2\n",
    "print(difference)\n",
    "\n",
    "# # Alternative: using difference() method\n",
    "# difference = set_1.difference(set_2)\n",
    "# print(f'Using Difference method: {difference}')\n"
   ]
  },
  {
   "cell_type": "markdown",
   "metadata": {},
   "source": []
  },
  {
   "cell_type": "markdown",
   "metadata": {},
   "source": [
    "## Summary\n",
    "- We've talked about many different data types and structures\n",
    "\n",
    "- Types\n",
    "    - booleans\n",
    "    - integers\n",
    "    - floats\n",
    "    - strings\n",
    "\n",
    "- Structures\n",
    "    - lists *(we mentioned strings because it is a sequence, and it shares some of lists' properties)*\n",
    "    - dictionaries\n",
    "    - tuples\n",
    "    - sets"
   ]
  },
  {
   "cell_type": "markdown",
   "metadata": {},
   "source": [
    "What are the connections between data structures?\n",
    "- lists, tuples and strings are sequences, meaning they are numerically indexed and are sliceable\n",
    "    - `my_sequence[0:5:2]`-- what does this mean?\n",
    "    - `sequence_1 + sequence_2` -- what does this mean?\n",
    "    - in contrast, dictionaries are indexed by element names, `my_dict[\"age\"]`\n",
    "\n",
    "- lists, dictionaries, and sets are mutable, meaning that elements can be modified\n",
    "    - `my_list[0] = 3`\n",
    "    - in contrast, tuples and strings are immutable, meaning that items cannot be modified by assignment\n",
    "\n",
    "- suggest: prioritize understanding how lists work, but also know how other data structures work by contrasting them to lists\n",
    "\n",
    "- sometimes, the same task can be done by different data structures"
   ]
  },
  {
   "cell_type": "code",
   "execution_count": 540,
   "metadata": {},
   "outputs": [
    {
     "data": {
      "text/plain": [
       "False"
      ]
     },
     "execution_count": 540,
     "metadata": {},
     "output_type": "execute_result"
    }
   ],
   "source": [
    "# the set function can be done by lists\n",
    "my_unique_list = [0, 1, 2, 3]\n",
    "4 in my_unique_list # use lists as a set"
   ]
  },
  {
   "cell_type": "code",
   "execution_count": 541,
   "metadata": {},
   "outputs": [],
   "source": [
    "# but because lists do not have all the set properties, so cannot do this:\n",
    "my_unique_list_1 = [0, 1, 2, 3]\n",
    "my_unique_list_2 = [4, 2, 0, 5]\n",
    "# 1 in my_unique_list_1 - my_unique_list_2\n",
    "\n",
    "# how to modify this?\n"
   ]
  }
 ],
 "metadata": {
  "kernelspec": {
   "display_name": "gba464",
   "language": "python",
   "name": "python3"
  },
  "language_info": {
   "codemirror_mode": {
    "name": "ipython",
    "version": 3
   },
   "file_extension": ".py",
   "mimetype": "text/x-python",
   "name": "python",
   "nbconvert_exporter": "python",
   "pygments_lexer": "ipython3",
   "version": "3.9.19"
  }
 },
 "nbformat": 4,
 "nbformat_minor": 2
}
