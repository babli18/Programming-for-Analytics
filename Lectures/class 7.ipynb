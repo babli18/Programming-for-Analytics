{
 "cells": [
  {
   "cell_type": "markdown",
   "metadata": {},
   "source": [
    "# Regular Expressions"
   ]
  },
  {
   "cell_type": "markdown",
   "metadata": {},
   "source": [
    "# Introduction To Regular Expressions:\n",
    "\n",
    "## What is Regular Expressions?\n",
    "Regular expressions define search patterns for text, using a sequence of characters. These patterns can range from simple, such as finding specific words, to complex patterns, like validating email addresses or phone numbers.<br>\n",
    "\n",
    "Regular expressions (regex) are a powerful tool for matching text patterns. They are used across various programming environments, including Python and its libraries like Pandas, for tasks such as searching, replacing, and parsing text.<br>\n",
    "\n",
    "Reference Material: https://www.w3schools.com/python/python_regex.asp\n"
   ]
  },
  {
   "cell_type": "markdown",
   "metadata": {},
   "source": [
    "## RegEx Module\n",
    "\n",
    "Python has a built-in package called `re`, which can be used to work with Regula Expressions."
   ]
  },
  {
   "cell_type": "code",
   "execution_count": 1,
   "metadata": {},
   "outputs": [],
   "source": [
    "import re # library for Regular Expressions\n",
    "import pandas as pd"
   ]
  },
  {
   "cell_type": "code",
   "execution_count": 2,
   "metadata": {},
   "outputs": [
    {
     "name": "stdout",
     "output_type": "stream",
     "text": [
      "['Summer is beautiful in Rochester']\n"
     ]
    }
   ],
   "source": [
    "# An Example in Python\n",
    "text = \"Summer is beautiful in Rochester\"\n",
    "x = re.findall(\"^Summer.*Rochester$\",text) # patter to look for words between Summer and Rochester\n",
    "print(x)"
   ]
  },
  {
   "cell_type": "code",
   "execution_count": 3,
   "metadata": {},
   "outputs": [
    {
     "name": "stdout",
     "output_type": "stream",
     "text": [
      "  text\n",
      "0  bat\n",
      "1  cat\n"
     ]
    }
   ],
   "source": [
    "# A Pandas Example\n",
    "df = pd.DataFrame({'text': ['bat', 'cat', 'rat']})\n",
    "\n",
    "# Filtering rows that match a regex\n",
    "filtered_df = df[df['text'].str.contains('^[bc]at$')]\n",
    "print(filtered_df)"
   ]
  },
  {
   "cell_type": "markdown",
   "metadata": {},
   "source": [
    "## RegEx Functions\n",
    "\n",
    "The `re` module offers a set of functions that allows us to search a string for a match:<br>\n",
    "* `findall` : Returns a list containing all matches.\n",
    "* `search` : Returns a *Match object* if there is a match anywhere in the string.\n",
    "* `split` : Returns a list where the string has been split at each match.\n",
    "* `sub` : replace one or many matches with a string.\n",
    "\n",
    "Will have examples after we get cover some basic elements of Regular Expression."
   ]
  },
  {
   "cell_type": "markdown",
   "metadata": {},
   "source": [
    "## Meta Characters\n",
    "Meta Characters are charaters with special meaning.\n",
    "\n",
    "![class 7](meta_characters.png)\n",
    "source:W3 School"
   ]
  },
  {
   "cell_type": "code",
   "execution_count": 4,
   "metadata": {},
   "outputs": [
    {
     "name": "stdout",
     "output_type": "stream",
     "text": [
      "charaters from q-z: ['r', 's', 't', 'u', 'y', 'r', 'u', 'r', 'x', 'r', 's', 's', 's', 's', 'y', 't', 't', 'x', 'r', 's', 's', 's', 'r', 'u', 'y']\n",
      "Any character \".\" : ['re ', 'reg', 'r e', 'res', 'res', 're ']\n",
      "Specified no of occurances : ['expressions']\n",
      "Either: ['expresssion', 'expressions']\n"
     ]
    }
   ],
   "source": [
    "txt = \"We are studying regular expresssions in python and the expressions are funky\"\n",
    "print(f'charaters from q-z: {re.findall(\"[q-z]\",txt)}')\n",
    "print(f'Any character \\\".\\\" : {re.findall(\"r..\",txt)}')\n",
    "print(f'Specified no of occurances : {re.findall(\"expre.{2}ions\",txt)}')\n",
    "print(f'Either: {re.findall(\"expressions|expresssion\",txt)}')"
   ]
  },
  {
   "cell_type": "code",
   "execution_count": 5,
   "metadata": {},
   "outputs": [
    {
     "name": "stdout",
     "output_type": "stream",
     "text": [
      "Text starts with We\n"
     ]
    }
   ],
   "source": [
    "m = re.findall(\"^We\",txt)\n",
    "if m:\n",
    "    print(\"Text starts with We\")\n",
    "\n",
    "m = re.findall(\"python$\",txt)\n",
    "if m:\n",
    "    print(\"The text ends with Python\") "
   ]
  },
  {
   "cell_type": "code",
   "execution_count": 6,
   "metadata": {},
   "outputs": [
    {
     "name": "stdout",
     "output_type": "stream",
     "text": [
      "Find 0 or more occurance: ['', 'o', '', '', 'o', '', '', '', '', 'o', '', '', '', '', '', '', '', 'o', '', '', '', '', '', '', '', '', '', '', '', '', '', '', '', '', '', '', '', '', '', '', '', '', '', '', '', '', '', '', '', '', '', '', '', '', '', '', '', '', '']\n",
      "Find 1 or more occurance: ['10', '100', '1000']\n",
      "Find 0 or 1 occurance:['t', 't', 'tr', 't', 't']\n"
     ]
    }
   ],
   "source": [
    "txt = \"Do you know the top 5, 10, 100, 1000 trends in the market?\"\n",
    "print(f'Find 0 or more occurance: {re.findall(\"o*\",txt)}')\n",
    "print(f'Find 1 or more occurance: {re.findall(\"10+\",txt)}')\n",
    "print(f'Find 0 or 1 occurance:{re.findall(\"tr?\",txt)}')"
   ]
  },
  {
   "cell_type": "markdown",
   "metadata": {},
   "source": [
    "## Sets\n",
    "\n",
    "A set is a set of characters inside a pair of square brackets [] with a special meaning.<br>\n",
    "\n",
    "![class 7](sets.png)\n",
    "source:W3 School\n"
   ]
  },
  {
   "cell_type": "code",
   "execution_count": 7,
   "metadata": {},
   "outputs": [
    {
     "name": "stdout",
     "output_type": "stream",
     "text": [
      "['a', 'y', 'a', 'p', 'a']\n",
      "['I', 's', 't', 'i', 'n', 'r', 't', 'm', 'e', 'n', 't', '3', 'A', ',', '9', '0', 'B', 'e', 'd', 'f', 'o', 'r', 'd', 'S', 't', ',', 'N', 'e', 'w', 'Y', 'o', 'r', 'k', ',', 'N', 'Y', '1', '0', '0', '1', '4']\n",
      "['3', '0', '1', '0', '0', '1', '4']\n",
      "['I', 'a', 'i', 'a', 'a', 'm', 'e', 'B', 'e', 'd', 'f', 'd', 'S', 'N', 'e', 'Y', 'k', 'N', 'Y']\n",
      "['01']\n",
      "['3A']\n"
     ]
    }
   ],
   "source": [
    "txt = \"I stay in apartment 3A,90 Bedford St, New York, NY 10014 \"\n",
    "print(f'{re.findall(\"[apy]\",txt)}')\n",
    "print(f'{re.findall(\"[^ apy]\",txt)}')\n",
    "print(f'{re.findall(\"[0-5]\",txt)}')\n",
    "print(f'{re.findall(\"[a-mB-Y]\",txt)}')\n",
    "print(f'{re.findall(\"[0-5][1-4]\",txt)}')\n",
    "print(f'{re.findall(\"[0-3][A-Z]\",txt)}')"
   ]
  },
  {
   "cell_type": "markdown",
   "metadata": {},
   "source": [
    "## Special Sequences\n",
    "\n",
    "A special sequence is a `\\` followed by one of the characters in the list below, and has a special meaning.\n",
    "\n",
    "![class 7](special_sequence.png)\n",
    "\n",
    "source:W3 School"
   ]
  },
  {
   "cell_type": "code",
   "execution_count": 8,
   "metadata": {},
   "outputs": [
    {
     "name": "stdout",
     "output_type": "stream",
     "text": [
      "Meet me at 1234 Main St. at 12:00 pm.\n",
      "['me']\n",
      "[]\n",
      "['1', '2', '3', '4', '1', '2', '0', '0']\n",
      "['M', 'e', 'e', 't', ' ', 'm', 'e', ' ', 'a', 't', ' ', ' ', 'M', 'a', 'i', 'n', ' ', 'S', 't', '.', ' ', 'a', 't', ' ', ':', ' ', 'p', 'm', '.']\n",
      "[' ', ' ', ' ', ' ', ' ', ' ', ' ', ' ']\n",
      "['M', 'e', 'e', 't', 'm', 'e', 'a', 't', '1', '2', '3', '4', 'M', 'a', 'i', 'n', 'S', 't', '.', 'a', 't', '1', '2', ':', '0', '0', 'p', 'm', '.']\n",
      "['M', 'e', 'e', 't', 'm', 'e', 'a', 't', '1', '2', '3', '4', 'M', 'a', 'i', 'n', 'S', 't', 'a', 't', '1', '2', '0', '0', 'p', 'm']\n",
      "[' ', ' ', ' ', ' ', ' ', '.', ' ', ' ', ':', ' ', '.']\n",
      "['pm.']\n"
     ]
    }
   ],
   "source": [
    "txt = \"Meet me at 1234 Main St. at 12:00 pm.\"\n",
    "print(re.search(r'\\AMeet', txt).string)\n",
    "print(re.findall(r'\\bme\\b', txt))\n",
    "print(re.findall(r'\\BSt\\b', txt))\n",
    "print(re.findall(r'\\d', txt))\n",
    "print(re.findall(r'\\D', txt))\n",
    "print(re.findall(r'\\s', txt))\n",
    "print(re.findall(r'\\S', txt))\n",
    "print(re.findall(r'\\w', txt))\n",
    "print(re.findall(r'\\W', txt))\n",
    "print(re.findall(r'pm.\\Z', txt))"
   ]
  },
  {
   "cell_type": "markdown",
   "metadata": {},
   "source": [
    "# RegEx Functions - How to use them."
   ]
  },
  {
   "cell_type": "markdown",
   "metadata": {},
   "source": [
    "## findall()\n",
    "\n",
    "The findall() function in Python is used to find all occurrences of a pattern in a string. It returns a list of all matches found. If the pattern is not found, it returns an empty list."
   ]
  },
  {
   "cell_type": "code",
   "execution_count": 9,
   "metadata": {},
   "outputs": [
    {
     "name": "stdout",
     "output_type": "stream",
     "text": [
      "['wa', 'wa']\n",
      "['90', '10014']\n"
     ]
    }
   ],
   "source": [
    "txt = \"I want to watch Deadpool and wolverine this weekend.\"\n",
    "x = re.findall(\"wa\",txt)\n",
    "print(x)\n",
    "\n",
    "address = \"90 Bedford St, New York, NY 10014\"\n",
    "x = re.findall(r'\\d+',address)\n",
    "print(x)"
   ]
  },
  {
   "cell_type": "markdown",
   "metadata": {},
   "source": [
    "## search()\n",
    "Searches the string for a match, and returns a `Match object` if there is a match.\n",
    "If there is more than one match, only the first occurrence of the match will be returned.\n",
    "\n",
    "The Match object has properties and methods used to retrieve information about the search, and the result:\n",
    "* `span()` returns a tuple containing the start-, and end positions of the match.\n",
    "* `string` returns the string passed into the function.\n",
    "* `group()` returns the part of the string where there was a match.\n"
   ]
  },
  {
   "cell_type": "code",
   "execution_count": 10,
   "metadata": {},
   "outputs": [
    {
     "name": "stdout",
     "output_type": "stream",
     "text": [
      "text: burger\n",
      "(8, 14)\n",
      "classic burgers are nice but cheese burgers are amazing.\n",
      "number: 10014\n",
      "<re.Match object; span=(13, 18), match='10014'>\n"
     ]
    }
   ],
   "source": [
    "txt = \"classic burgers are nice but cheese burgers are amazing.\"\n",
    "x = re.search(\"burger\",txt)\n",
    "if x:\n",
    "    print(\"text:\", x.group()) # replace \"burger with some other word that does not exist in string\"\n",
    "    print(x.span()) \n",
    "    print(x.string)\n",
    "\n",
    "numbers = \"New York, NY 10014\"\n",
    "x = re.search(r'\\d+',numbers)\n",
    "if x:\n",
    "    print(\"number:\", x.group())\n",
    "\n",
    "print(x) #match object"
   ]
  },
  {
   "cell_type": "markdown",
   "metadata": {},
   "source": [
    "## match()\n",
    "Checks if the beginning of the string matches the regex pattern. Returns a match object if it does, or None if it doesn't.\n",
    "\n",
    "Alt. Explanation:\n",
    "The match() function in Python's re module is used to determine if a regex pattern matches at the beginning of a string. Unlike search(), which looks for a match anywhere in the string, match() only checks at the start."
   ]
  },
  {
   "cell_type": "code",
   "execution_count": 11,
   "metadata": {},
   "outputs": [
    {
     "name": "stdout",
     "output_type": "stream",
     "text": [
      "text begins with: classic\n",
      "number at start: 123\n"
     ]
    }
   ],
   "source": [
    "txt = \"classic burgers are nice but cheese burgers are amazing.\"\n",
    "x = re.match(\"classic\",txt)\n",
    "if x:\n",
    "    print(\"text begins with:\", x.group()) \n",
    "\n",
    "numbers = \"123 New York, NY 10014\"\n",
    "x = re.match(r'\\d+',numbers)\n",
    "if x:\n",
    "    print(\"number at start:\", x.group()) # remove 123 from the string and check the answer"
   ]
  },
  {
   "cell_type": "markdown",
   "metadata": {},
   "source": [
    "Key Differences between search() and match()\n",
    "\n",
    "1. Position Sesitivity:\n",
    "    * **re.search()** looks through the whole string for a match.\n",
    "    * **re.match()** only checks from the beginning of the string.\n",
    "\n",
    "2. Common User:\n",
    "    * **re.search()** is used when the location of the match in the string is not important.\n",
    "    * **re.match()** is used when the match must be anchored at the start of the string."
   ]
  },
  {
   "cell_type": "markdown",
   "metadata": {},
   "source": [
    "## split()\n",
    "\n",
    "Returns a list where the string has been split at each match."
   ]
  },
  {
   "cell_type": "code",
   "execution_count": 12,
   "metadata": {},
   "outputs": [
    {
     "name": "stdout",
     "output_type": "stream",
     "text": [
      "['It was the best of times', ' it was the worst of times', ' it was the age of wisdom', ' it was the age of foolishness', ' it was the epoch of belief', ' it was the epoch of incredulity', ' it was the season of light', ' it was the season of darkness', ' it was the spring of hope', ' it was the winter of despair.']\n",
      "['It was the best of times', ' it was the worst of times', ' it was the age of wisdom, it was the age of foolishness, it was the epoch of belief, it was the epoch of incredulity, it was the season of light, it was the season of darkness, it was the spring of hope, it was the winter of despair.']\n"
     ]
    }
   ],
   "source": [
    "txt = \"It was the best of times, it was the worst of times, it was the age of wisdom, it was the age of foolishness, it was the epoch of belief, it was the epoch of incredulity, it was the season of light, it was the season of darkness, it was the spring of hope, it was the winter of despair.\"\n",
    "x = re.split(',',txt)\n",
    "print(x)\n",
    "\n",
    "x = re.split(',',txt,2) # controlling the number of splits\n",
    "print(x)"
   ]
  },
  {
   "cell_type": "markdown",
   "metadata": {},
   "source": [
    "## sub()\n",
    "\n",
    "The sub() function replaces the matches with the text of your choice."
   ]
  },
  {
   "cell_type": "code",
   "execution_count": 13,
   "metadata": {},
   "outputs": [
    {
     "name": "stdout",
     "output_type": "stream",
     "text": [
      "I0shop0at0Wegmans\n",
      "I0shop at Wegmans\n"
     ]
    }
   ],
   "source": [
    "txt = \"I shop at Wegmans\"\n",
    "x = re.sub(\"\\s\",\"0\",txt)\n",
    "print(x)\n",
    "\n",
    "x = re.sub(\"\\s\",\"0\",txt,1) # controlling the number of substitution\n",
    "print(x)"
   ]
  },
  {
   "cell_type": "markdown",
   "metadata": {},
   "source": [
    "# RegEx in Pandas\n",
    "\n",
    "To use regular expressions (regex) with Pandas, you typically employ the str accessor with methods like<br>\n",
    "`str.contains()`<br>\n",
    "`str.extract()`<br> \n",
    "`str.findall()`<br>\n",
    "`str.replace()`<br> \n",
    "`str.match()`<br>\n",
    "`str.count()`<br>\n"
   ]
  },
  {
   "cell_type": "code",
   "execution_count": 14,
   "metadata": {},
   "outputs": [],
   "source": [
    "df = pd.read_excel(\"simon_fall_2024.xlsx\")"
   ]
  },
  {
   "cell_type": "markdown",
   "metadata": {},
   "source": [
    "## str.contains()\n",
    "\n",
    "The str.contains() function in Pandas is used to determine if each string in a Series contains a particular substring or pattern, often defined by a regular expression. It returns a Series of boolean values (True or False), indicating whether the pattern is found in each string."
   ]
  },
  {
   "cell_type": "code",
   "execution_count": 15,
   "metadata": {},
   "outputs": [],
   "source": [
    "df['Mon'] = df['Meeting Patterns'].str.contains(r'\\bMon').fillna(False).astype(int)\n",
    "df['Tue'] = df['Meeting Patterns'].str.contains(r'\\bTues').fillna(False).astype(int)\n",
    "df['Wed'] = df['Meeting Patterns'].str.contains(r'\\bWed').fillna(False).astype(int)\n",
    "df['Thu'] = df['Meeting Patterns'].str.contains(r'\\bThurs').fillna(False).astype(int)"
   ]
  },
  {
   "cell_type": "code",
   "execution_count": 16,
   "metadata": {},
   "outputs": [
    {
     "data": {
      "text/html": [
       "<div>\n",
       "<style scoped>\n",
       "    .dataframe tbody tr th:only-of-type {\n",
       "        vertical-align: middle;\n",
       "    }\n",
       "\n",
       "    .dataframe tbody tr th {\n",
       "        vertical-align: top;\n",
       "    }\n",
       "\n",
       "    .dataframe thead th {\n",
       "        text-align: right;\n",
       "    }\n",
       "</style>\n",
       "<table border=\"1\" class=\"dataframe\">\n",
       "  <thead>\n",
       "    <tr style=\"text-align: right;\">\n",
       "      <th></th>\n",
       "      <th>Course Subjects</th>\n",
       "      <th>Academic Period</th>\n",
       "      <th>Section</th>\n",
       "      <th>Instructors</th>\n",
       "      <th>Format</th>\n",
       "      <th>Delivery Mode</th>\n",
       "      <th>Meeting Patterns</th>\n",
       "      <th>Times</th>\n",
       "      <th>Course Tags</th>\n",
       "      <th>Units</th>\n",
       "      <th>Mon</th>\n",
       "      <th>Tue</th>\n",
       "      <th>Wed</th>\n",
       "      <th>Thu</th>\n",
       "    </tr>\n",
       "  </thead>\n",
       "  <tbody>\n",
       "    <tr>\n",
       "      <th>0</th>\n",
       "      <td>Accounting</td>\n",
       "      <td>Fall A 2024 Simon</td>\n",
       "      <td>ACC 401-11A - Corporate Financial Accounting</td>\n",
       "      <td>Timothy Hungerford</td>\n",
       "      <td>Lecture</td>\n",
       "      <td>In-Person</td>\n",
       "      <td>Mon/Wed</td>\n",
       "      <td>8:40 AM - 10:10 AM</td>\n",
       "      <td>NaN</td>\n",
       "      <td>2.5</td>\n",
       "      <td>1</td>\n",
       "      <td>0</td>\n",
       "      <td>1</td>\n",
       "      <td>0</td>\n",
       "    </tr>\n",
       "    <tr>\n",
       "      <th>1</th>\n",
       "      <td>Accounting</td>\n",
       "      <td>Fall A 2024 Simon</td>\n",
       "      <td>ACC 401-12A - Corporate Financial Accounting</td>\n",
       "      <td>Timothy Hungerford</td>\n",
       "      <td>Lecture</td>\n",
       "      <td>In-Person</td>\n",
       "      <td>Mon/Wed</td>\n",
       "      <td>10:30 AM - 12:00 PM</td>\n",
       "      <td>NaN</td>\n",
       "      <td>2.5</td>\n",
       "      <td>1</td>\n",
       "      <td>0</td>\n",
       "      <td>1</td>\n",
       "      <td>0</td>\n",
       "    </tr>\n",
       "    <tr>\n",
       "      <th>2</th>\n",
       "      <td>Accounting</td>\n",
       "      <td>Fall A 2024 Simon</td>\n",
       "      <td>ACC 401-13A - Corporate Financial Accounting</td>\n",
       "      <td>Vivek Pandey</td>\n",
       "      <td>Lecture</td>\n",
       "      <td>In-Person</td>\n",
       "      <td>Tues/Thurs</td>\n",
       "      <td>10:30 AM - 12:00 PM</td>\n",
       "      <td>NaN</td>\n",
       "      <td>2.5</td>\n",
       "      <td>0</td>\n",
       "      <td>1</td>\n",
       "      <td>0</td>\n",
       "      <td>1</td>\n",
       "    </tr>\n",
       "    <tr>\n",
       "      <th>3</th>\n",
       "      <td>Accounting</td>\n",
       "      <td>Fall A 2024 Simon</td>\n",
       "      <td>ACC 401-14A - Corporate Financial Accounting</td>\n",
       "      <td>Vivek Pandey</td>\n",
       "      <td>Lecture</td>\n",
       "      <td>In-Person</td>\n",
       "      <td>Tues/Thurs</td>\n",
       "      <td>8:40 AM - 10:10 AM</td>\n",
       "      <td>NaN</td>\n",
       "      <td>2.5</td>\n",
       "      <td>0</td>\n",
       "      <td>1</td>\n",
       "      <td>0</td>\n",
       "      <td>1</td>\n",
       "    </tr>\n",
       "    <tr>\n",
       "      <th>4</th>\n",
       "      <td>Accounting</td>\n",
       "      <td>Fall A 2024 Simon</td>\n",
       "      <td>ACC 410-11A - Managerial Accounting and Perfor...</td>\n",
       "      <td>Sudarshan Jayaraman</td>\n",
       "      <td>Lecture</td>\n",
       "      <td>In-Person</td>\n",
       "      <td>Tues/Thurs</td>\n",
       "      <td>10:30 AM - 12:00 PM</td>\n",
       "      <td>STEM</td>\n",
       "      <td>2.5</td>\n",
       "      <td>0</td>\n",
       "      <td>1</td>\n",
       "      <td>0</td>\n",
       "      <td>1</td>\n",
       "    </tr>\n",
       "    <tr>\n",
       "      <th>...</th>\n",
       "      <td>...</td>\n",
       "      <td>...</td>\n",
       "      <td>...</td>\n",
       "      <td>...</td>\n",
       "      <td>...</td>\n",
       "      <td>...</td>\n",
       "      <td>...</td>\n",
       "      <td>...</td>\n",
       "      <td>...</td>\n",
       "      <td>...</td>\n",
       "      <td>...</td>\n",
       "      <td>...</td>\n",
       "      <td>...</td>\n",
       "      <td>...</td>\n",
       "    </tr>\n",
       "    <tr>\n",
       "      <th>131</th>\n",
       "      <td>Competitive and Organization Strategy</td>\n",
       "      <td>Fall B 2024 Simon</td>\n",
       "      <td>STR 423-14B - Pricing Policies</td>\n",
       "      <td>Greg Shaffer</td>\n",
       "      <td>Lecture</td>\n",
       "      <td>In-Person</td>\n",
       "      <td>Tues/Thurs</td>\n",
       "      <td>1:40 PM - 3:10 PM</td>\n",
       "      <td>STEM</td>\n",
       "      <td>2.5</td>\n",
       "      <td>0</td>\n",
       "      <td>1</td>\n",
       "      <td>0</td>\n",
       "      <td>1</td>\n",
       "    </tr>\n",
       "    <tr>\n",
       "      <th>132</th>\n",
       "      <td>Competitive and Organization Strategy</td>\n",
       "      <td>Fall B 2024 Simon</td>\n",
       "      <td>STR 423-Lab14 - Pricing Policies-Lab</td>\n",
       "      <td>NaN</td>\n",
       "      <td>Laboratory</td>\n",
       "      <td>In-Person</td>\n",
       "      <td>Thursday</td>\n",
       "      <td>3:30 PM - 4:30 PM</td>\n",
       "      <td>STEM</td>\n",
       "      <td>0.0</td>\n",
       "      <td>0</td>\n",
       "      <td>0</td>\n",
       "      <td>0</td>\n",
       "      <td>1</td>\n",
       "    </tr>\n",
       "    <tr>\n",
       "      <th>133</th>\n",
       "      <td>Competitive and Organization Strategy</td>\n",
       "      <td>Fall B 2024 Simon</td>\n",
       "      <td>STR 424-80B - Human Resource Strategy</td>\n",
       "      <td>Barry Friedman</td>\n",
       "      <td>Lecture</td>\n",
       "      <td>Hybrid</td>\n",
       "      <td>Wednesday</td>\n",
       "      <td>5:40 PM - 9:00 PM</td>\n",
       "      <td>NaN</td>\n",
       "      <td>2.5</td>\n",
       "      <td>0</td>\n",
       "      <td>0</td>\n",
       "      <td>1</td>\n",
       "      <td>0</td>\n",
       "    </tr>\n",
       "    <tr>\n",
       "      <th>134</th>\n",
       "      <td>Competitive and Organization Strategy</td>\n",
       "      <td>Fall A 2024 Simon</td>\n",
       "      <td>STR 427-80A - Organizational Behavior</td>\n",
       "      <td>Barry Friedman</td>\n",
       "      <td>Lecture</td>\n",
       "      <td>Hybrid</td>\n",
       "      <td>Wednesday</td>\n",
       "      <td>5:40 PM - 9:00 PM</td>\n",
       "      <td>NaN</td>\n",
       "      <td>2.5</td>\n",
       "      <td>0</td>\n",
       "      <td>0</td>\n",
       "      <td>1</td>\n",
       "      <td>0</td>\n",
       "    </tr>\n",
       "    <tr>\n",
       "      <th>135</th>\n",
       "      <td>Competitive and Organization Strategy</td>\n",
       "      <td>Fall A 2024 Simon</td>\n",
       "      <td>STR 428-80A - Strategy Beyond Markets</td>\n",
       "      <td>David Primo</td>\n",
       "      <td>Lecture</td>\n",
       "      <td>In-Person</td>\n",
       "      <td>Tuesday</td>\n",
       "      <td>5:40 PM - 9:00 PM</td>\n",
       "      <td>NaN</td>\n",
       "      <td>2.5</td>\n",
       "      <td>0</td>\n",
       "      <td>1</td>\n",
       "      <td>0</td>\n",
       "      <td>0</td>\n",
       "    </tr>\n",
       "  </tbody>\n",
       "</table>\n",
       "<p>136 rows × 14 columns</p>\n",
       "</div>"
      ],
      "text/plain": [
       "                           Course Subjects    Academic Period  \\\n",
       "0                               Accounting  Fall A 2024 Simon   \n",
       "1                               Accounting  Fall A 2024 Simon   \n",
       "2                               Accounting  Fall A 2024 Simon   \n",
       "3                               Accounting  Fall A 2024 Simon   \n",
       "4                               Accounting  Fall A 2024 Simon   \n",
       "..                                     ...                ...   \n",
       "131  Competitive and Organization Strategy  Fall B 2024 Simon   \n",
       "132  Competitive and Organization Strategy  Fall B 2024 Simon   \n",
       "133  Competitive and Organization Strategy  Fall B 2024 Simon   \n",
       "134  Competitive and Organization Strategy  Fall A 2024 Simon   \n",
       "135  Competitive and Organization Strategy  Fall A 2024 Simon   \n",
       "\n",
       "                                               Section          Instructors  \\\n",
       "0         ACC 401-11A - Corporate Financial Accounting   Timothy Hungerford   \n",
       "1         ACC 401-12A - Corporate Financial Accounting   Timothy Hungerford   \n",
       "2         ACC 401-13A - Corporate Financial Accounting         Vivek Pandey   \n",
       "3         ACC 401-14A - Corporate Financial Accounting         Vivek Pandey   \n",
       "4    ACC 410-11A - Managerial Accounting and Perfor...  Sudarshan Jayaraman   \n",
       "..                                                 ...                  ...   \n",
       "131                     STR 423-14B - Pricing Policies         Greg Shaffer   \n",
       "132               STR 423-Lab14 - Pricing Policies-Lab                  NaN   \n",
       "133              STR 424-80B - Human Resource Strategy       Barry Friedman   \n",
       "134              STR 427-80A - Organizational Behavior       Barry Friedman   \n",
       "135              STR 428-80A - Strategy Beyond Markets          David Primo   \n",
       "\n",
       "         Format Delivery Mode Meeting Patterns                Times  \\\n",
       "0       Lecture     In-Person         Mon/Wed    8:40 AM - 10:10 AM   \n",
       "1       Lecture     In-Person         Mon/Wed   10:30 AM - 12:00 PM   \n",
       "2       Lecture     In-Person      Tues/Thurs   10:30 AM - 12:00 PM   \n",
       "3       Lecture     In-Person      Tues/Thurs    8:40 AM - 10:10 AM   \n",
       "4       Lecture     In-Person      Tues/Thurs   10:30 AM - 12:00 PM   \n",
       "..          ...           ...              ...                  ...   \n",
       "131     Lecture     In-Person      Tues/Thurs     1:40 PM - 3:10 PM   \n",
       "132  Laboratory     In-Person        Thursday     3:30 PM - 4:30 PM   \n",
       "133     Lecture        Hybrid       Wednesday     5:40 PM - 9:00 PM   \n",
       "134     Lecture        Hybrid       Wednesday     5:40 PM - 9:00 PM   \n",
       "135     Lecture     In-Person         Tuesday     5:40 PM - 9:00 PM   \n",
       "\n",
       "    Course Tags  Units  Mon  Tue  Wed  Thu  \n",
       "0           NaN    2.5    1    0    1    0  \n",
       "1           NaN    2.5    1    0    1    0  \n",
       "2           NaN    2.5    0    1    0    1  \n",
       "3           NaN    2.5    0    1    0    1  \n",
       "4          STEM    2.5    0    1    0    1  \n",
       "..          ...    ...  ...  ...  ...  ...  \n",
       "131        STEM    2.5    0    1    0    1  \n",
       "132        STEM    0.0    0    0    0    1  \n",
       "133         NaN    2.5    0    0    1    0  \n",
       "134         NaN    2.5    0    0    1    0  \n",
       "135         NaN    2.5    0    1    0    0  \n",
       "\n",
       "[136 rows x 14 columns]"
      ]
     },
     "execution_count": 16,
     "metadata": {},
     "output_type": "execute_result"
    }
   ],
   "source": [
    "df"
   ]
  },
  {
   "cell_type": "markdown",
   "metadata": {},
   "source": [
    "## str.extract()\n",
    "\n",
    "The str.extract() function in Pandas is used to extract specific patterns from each string in a Series using regular expressions. It captures the matched groups in the pattern and returns them as a DataFrame. This function is particularly useful when you need to extract specific parts of a string, such as dates, phone numbers, or any other structured information."
   ]
  },
  {
   "cell_type": "code",
   "execution_count": 17,
   "metadata": {},
   "outputs": [],
   "source": [
    "df['Start Time'] = df['Times'].str.extract(r'(\\d{1,2}:\\d{2}\\s[APM]{2})')"
   ]
  },
  {
   "cell_type": "code",
   "execution_count": 18,
   "metadata": {},
   "outputs": [],
   "source": [
    "df['First Name'] = df['Instructors'].str.extract(r'^(\\w+)')\n",
    "df['Last Name'] = df['Instructors'].str.extract(r'(\\w+)$')"
   ]
  },
  {
   "cell_type": "markdown",
   "metadata": {},
   "source": [
    "## str.findall()\n",
    "\n",
    "The str.findall() function in Pandas is used to find all occurrences of a pattern in each string of a Series using regular expressions. It returns a Series of lists, where each list contains all the matches found in the corresponding string."
   ]
  },
  {
   "cell_type": "code",
   "execution_count": 19,
   "metadata": {},
   "outputs": [],
   "source": [
    "df['Instructors Initials'] = df['Instructors'].str.findall(r'\\b\\w').apply(lambda x: ''.join(x) if isinstance(x, list) else '')"
   ]
  },
  {
   "cell_type": "markdown",
   "metadata": {},
   "source": [
    "## str.replace()\n",
    "\n",
    "The str.replace() function in Pandas is used to replace occurrences of a specified pattern (or substring) within each string in a Series. It can be used with a literal string or a regular expression."
   ]
  },
  {
   "cell_type": "code",
   "execution_count": 20,
   "metadata": {},
   "outputs": [],
   "source": [
    "df['Format'] = df['Format'].str.replace('Laboratory', 'Lab', case=False)"
   ]
  },
  {
   "cell_type": "code",
   "execution_count": 21,
   "metadata": {},
   "outputs": [
    {
     "data": {
      "text/html": [
       "<div>\n",
       "<style scoped>\n",
       "    .dataframe tbody tr th:only-of-type {\n",
       "        vertical-align: middle;\n",
       "    }\n",
       "\n",
       "    .dataframe tbody tr th {\n",
       "        vertical-align: top;\n",
       "    }\n",
       "\n",
       "    .dataframe thead th {\n",
       "        text-align: right;\n",
       "    }\n",
       "</style>\n",
       "<table border=\"1\" class=\"dataframe\">\n",
       "  <thead>\n",
       "    <tr style=\"text-align: right;\">\n",
       "      <th></th>\n",
       "      <th>Course Subjects</th>\n",
       "      <th>Academic Period</th>\n",
       "      <th>Section</th>\n",
       "      <th>Instructors</th>\n",
       "      <th>Format</th>\n",
       "      <th>Delivery Mode</th>\n",
       "      <th>Meeting Patterns</th>\n",
       "      <th>Times</th>\n",
       "      <th>Course Tags</th>\n",
       "      <th>Units</th>\n",
       "      <th>Mon</th>\n",
       "      <th>Tue</th>\n",
       "      <th>Wed</th>\n",
       "      <th>Thu</th>\n",
       "      <th>Start Time</th>\n",
       "      <th>First Name</th>\n",
       "      <th>Last Name</th>\n",
       "      <th>Instructors Initials</th>\n",
       "    </tr>\n",
       "  </thead>\n",
       "  <tbody>\n",
       "    <tr>\n",
       "      <th>0</th>\n",
       "      <td>Accounting</td>\n",
       "      <td>Fall A 2024 Simon</td>\n",
       "      <td>ACC 401-11A - Corporate Financial Accounting</td>\n",
       "      <td>Timothy Hungerford</td>\n",
       "      <td>Lecture</td>\n",
       "      <td>In-Person</td>\n",
       "      <td>Mon/Wed</td>\n",
       "      <td>8:40 AM - 10:10 AM</td>\n",
       "      <td>NaN</td>\n",
       "      <td>2.5</td>\n",
       "      <td>1</td>\n",
       "      <td>0</td>\n",
       "      <td>1</td>\n",
       "      <td>0</td>\n",
       "      <td>8:40 AM</td>\n",
       "      <td>Timothy</td>\n",
       "      <td>Hungerford</td>\n",
       "      <td>TH</td>\n",
       "    </tr>\n",
       "    <tr>\n",
       "      <th>1</th>\n",
       "      <td>Accounting</td>\n",
       "      <td>Fall A 2024 Simon</td>\n",
       "      <td>ACC 401-12A - Corporate Financial Accounting</td>\n",
       "      <td>Timothy Hungerford</td>\n",
       "      <td>Lecture</td>\n",
       "      <td>In-Person</td>\n",
       "      <td>Mon/Wed</td>\n",
       "      <td>10:30 AM - 12:00 PM</td>\n",
       "      <td>NaN</td>\n",
       "      <td>2.5</td>\n",
       "      <td>1</td>\n",
       "      <td>0</td>\n",
       "      <td>1</td>\n",
       "      <td>0</td>\n",
       "      <td>10:30 AM</td>\n",
       "      <td>Timothy</td>\n",
       "      <td>Hungerford</td>\n",
       "      <td>TH</td>\n",
       "    </tr>\n",
       "    <tr>\n",
       "      <th>2</th>\n",
       "      <td>Accounting</td>\n",
       "      <td>Fall A 2024 Simon</td>\n",
       "      <td>ACC 401-13A - Corporate Financial Accounting</td>\n",
       "      <td>Vivek Pandey</td>\n",
       "      <td>Lecture</td>\n",
       "      <td>In-Person</td>\n",
       "      <td>Tues/Thurs</td>\n",
       "      <td>10:30 AM - 12:00 PM</td>\n",
       "      <td>NaN</td>\n",
       "      <td>2.5</td>\n",
       "      <td>0</td>\n",
       "      <td>1</td>\n",
       "      <td>0</td>\n",
       "      <td>1</td>\n",
       "      <td>10:30 AM</td>\n",
       "      <td>Vivek</td>\n",
       "      <td>Pandey</td>\n",
       "      <td>VP</td>\n",
       "    </tr>\n",
       "    <tr>\n",
       "      <th>3</th>\n",
       "      <td>Accounting</td>\n",
       "      <td>Fall A 2024 Simon</td>\n",
       "      <td>ACC 401-14A - Corporate Financial Accounting</td>\n",
       "      <td>Vivek Pandey</td>\n",
       "      <td>Lecture</td>\n",
       "      <td>In-Person</td>\n",
       "      <td>Tues/Thurs</td>\n",
       "      <td>8:40 AM - 10:10 AM</td>\n",
       "      <td>NaN</td>\n",
       "      <td>2.5</td>\n",
       "      <td>0</td>\n",
       "      <td>1</td>\n",
       "      <td>0</td>\n",
       "      <td>1</td>\n",
       "      <td>8:40 AM</td>\n",
       "      <td>Vivek</td>\n",
       "      <td>Pandey</td>\n",
       "      <td>VP</td>\n",
       "    </tr>\n",
       "    <tr>\n",
       "      <th>4</th>\n",
       "      <td>Accounting</td>\n",
       "      <td>Fall A 2024 Simon</td>\n",
       "      <td>ACC 410-11A - Managerial Accounting and Perfor...</td>\n",
       "      <td>Sudarshan Jayaraman</td>\n",
       "      <td>Lecture</td>\n",
       "      <td>In-Person</td>\n",
       "      <td>Tues/Thurs</td>\n",
       "      <td>10:30 AM - 12:00 PM</td>\n",
       "      <td>STEM</td>\n",
       "      <td>2.5</td>\n",
       "      <td>0</td>\n",
       "      <td>1</td>\n",
       "      <td>0</td>\n",
       "      <td>1</td>\n",
       "      <td>10:30 AM</td>\n",
       "      <td>Sudarshan</td>\n",
       "      <td>Jayaraman</td>\n",
       "      <td>SJ</td>\n",
       "    </tr>\n",
       "  </tbody>\n",
       "</table>\n",
       "</div>"
      ],
      "text/plain": [
       "  Course Subjects    Academic Period  \\\n",
       "0      Accounting  Fall A 2024 Simon   \n",
       "1      Accounting  Fall A 2024 Simon   \n",
       "2      Accounting  Fall A 2024 Simon   \n",
       "3      Accounting  Fall A 2024 Simon   \n",
       "4      Accounting  Fall A 2024 Simon   \n",
       "\n",
       "                                             Section          Instructors  \\\n",
       "0       ACC 401-11A - Corporate Financial Accounting   Timothy Hungerford   \n",
       "1       ACC 401-12A - Corporate Financial Accounting   Timothy Hungerford   \n",
       "2       ACC 401-13A - Corporate Financial Accounting         Vivek Pandey   \n",
       "3       ACC 401-14A - Corporate Financial Accounting         Vivek Pandey   \n",
       "4  ACC 410-11A - Managerial Accounting and Perfor...  Sudarshan Jayaraman   \n",
       "\n",
       "    Format Delivery Mode Meeting Patterns                Times Course Tags  \\\n",
       "0  Lecture     In-Person         Mon/Wed    8:40 AM - 10:10 AM         NaN   \n",
       "1  Lecture     In-Person         Mon/Wed   10:30 AM - 12:00 PM         NaN   \n",
       "2  Lecture     In-Person      Tues/Thurs   10:30 AM - 12:00 PM         NaN   \n",
       "3  Lecture     In-Person      Tues/Thurs    8:40 AM - 10:10 AM         NaN   \n",
       "4  Lecture     In-Person      Tues/Thurs   10:30 AM - 12:00 PM        STEM   \n",
       "\n",
       "   Units  Mon  Tue  Wed  Thu Start Time First Name   Last Name  \\\n",
       "0    2.5    1    0    1    0    8:40 AM    Timothy  Hungerford   \n",
       "1    2.5    1    0    1    0   10:30 AM    Timothy  Hungerford   \n",
       "2    2.5    0    1    0    1   10:30 AM      Vivek      Pandey   \n",
       "3    2.5    0    1    0    1    8:40 AM      Vivek      Pandey   \n",
       "4    2.5    0    1    0    1   10:30 AM  Sudarshan   Jayaraman   \n",
       "\n",
       "  Instructors Initials  \n",
       "0                   TH  \n",
       "1                   TH  \n",
       "2                   VP  \n",
       "3                   VP  \n",
       "4                   SJ  "
      ]
     },
     "execution_count": 21,
     "metadata": {},
     "output_type": "execute_result"
    }
   ],
   "source": [
    "df.head(5)"
   ]
  },
  {
   "cell_type": "markdown",
   "metadata": {},
   "source": [
    "## str.match()\n",
    "\n",
    "Matches each string in the Series/Index against a regular expression."
   ]
  },
  {
   "cell_type": "code",
   "execution_count": 22,
   "metadata": {},
   "outputs": [
    {
     "data": {
      "text/plain": [
       "0       True\n",
       "1       True\n",
       "2       True\n",
       "3       True\n",
       "4       True\n",
       "       ...  \n",
       "131    False\n",
       "132    False\n",
       "133    False\n",
       "134    False\n",
       "135    False\n",
       "Name: Section, Length: 136, dtype: bool"
      ]
     },
     "execution_count": 22,
     "metadata": {},
     "output_type": "execute_result"
    }
   ],
   "source": [
    "df['Section'].str.match(r'^ACC')"
   ]
  },
  {
   "cell_type": "markdown",
   "metadata": {},
   "source": [
    "## str.count()\n",
    "\n",
    "Counts occurrences of a pattern in each string in the Series/Index."
   ]
  },
  {
   "cell_type": "code",
   "execution_count": 23,
   "metadata": {},
   "outputs": [
    {
     "data": {
      "text/plain": [
       "0      3\n",
       "1      3\n",
       "2      3\n",
       "3      3\n",
       "4      6\n",
       "      ..\n",
       "131    0\n",
       "132    2\n",
       "133    2\n",
       "134    4\n",
       "135    2\n",
       "Name: Section, Length: 136, dtype: int64"
      ]
     },
     "execution_count": 23,
     "metadata": {},
     "output_type": "execute_result"
    }
   ],
   "source": [
    "df['Section'].str.count(r'a')"
   ]
  },
  {
   "cell_type": "markdown",
   "metadata": {},
   "source": [
    "## str.find() \n",
    "Returns the index of the first occurrence of a substring. If not found, returns -1."
   ]
  },
  {
   "cell_type": "code",
   "execution_count": 24,
   "metadata": {},
   "outputs": [
    {
     "data": {
      "text/plain": [
       "0      1\n",
       "1      1\n",
       "2      1\n",
       "3      1\n",
       "4      1\n",
       "      ..\n",
       "131    1\n",
       "132   -1\n",
       "133    1\n",
       "134    1\n",
       "135    1\n",
       "Name: Format, Length: 136, dtype: int64"
      ]
     },
     "execution_count": 24,
     "metadata": {},
     "output_type": "execute_result"
    }
   ],
   "source": [
    "df['Format'].str.find('e')"
   ]
  },
  {
   "cell_type": "markdown",
   "metadata": {},
   "source": [
    "## str.rfind()\n",
    "Returns the index of the last occurrence of a substring. If not found, returns -1."
   ]
  },
  {
   "cell_type": "code",
   "execution_count": 25,
   "metadata": {},
   "outputs": [
    {
     "data": {
      "text/plain": [
       "0      6\n",
       "1      6\n",
       "2      6\n",
       "3      6\n",
       "4      6\n",
       "      ..\n",
       "131    6\n",
       "132   -1\n",
       "133    6\n",
       "134    6\n",
       "135    6\n",
       "Name: Format, Length: 136, dtype: int64"
      ]
     },
     "execution_count": 25,
     "metadata": {},
     "output_type": "execute_result"
    }
   ],
   "source": [
    "df['Format'].str.rfind('e')"
   ]
  }
 ],
 "metadata": {
  "kernelspec": {
   "display_name": "Python 3",
   "language": "python",
   "name": "python3"
  },
  "language_info": {
   "codemirror_mode": {
    "name": "ipython",
    "version": 3
   },
   "file_extension": ".py",
   "mimetype": "text/x-python",
   "name": "python",
   "nbconvert_exporter": "python",
   "pygments_lexer": "ipython3",
   "version": "3.11.5"
  }
 },
 "nbformat": 4,
 "nbformat_minor": 2
}
