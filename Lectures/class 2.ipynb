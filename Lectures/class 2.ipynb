{
 "cells": [
  {
   "cell_type": "markdown",
   "metadata": {},
   "source": [
    "# Topics - Lists, Strings, Concatenation, Indexing and Slicing"
   ]
  },
  {
   "cell_type": "markdown",
   "metadata": {},
   "source": [
    "## Lists"
   ]
  },
  {
   "cell_type": "markdown",
   "metadata": {},
   "source": [
    "Lists are ordered collections of *items* (elements) that are *mutable*, meaning they can be changed after creation. \n",
    "Lists can hold items of any data type, including other lists.\n",
    "\n",
    "Some operations you can do with lists -\n",
    "* Add items to the list.\n",
    "* Remove items from list.\n",
    "* Accessing a particular item in the list."
   ]
  },
  {
   "cell_type": "markdown",
   "metadata": {},
   "source": [
    "### Creating a List"
   ]
  },
  {
   "cell_type": "code",
   "execution_count": 97,
   "metadata": {},
   "outputs": [
    {
     "data": {
      "text/plain": [
       "['January',\n",
       " 'February',\n",
       " 'March',\n",
       " 'April',\n",
       " 'May',\n",
       " 'June',\n",
       " 'July',\n",
       " 'August',\n",
       " 'September',\n",
       " 'October',\n",
       " 'November',\n",
       " 'December']"
      ]
     },
     "execution_count": 97,
     "metadata": {},
     "output_type": "execute_result"
    }
   ],
   "source": [
    "# Creating a list\n",
    "months = ['January','February','March','April','May','June','July','August','September','October','November','December']\n",
    "months"
   ]
  },
  {
   "cell_type": "markdown",
   "metadata": {},
   "source": [
    "### List Operations"
   ]
  },
  {
   "cell_type": "code",
   "execution_count": 98,
   "metadata": {},
   "outputs": [],
   "source": [
    "# Let's Create a list where we can do some operation.\n",
    "shopping = [] # this creates an empty list whose name is shopping"
   ]
  },
  {
   "cell_type": "markdown",
   "metadata": {},
   "source": [
    "### Append Items - Adding Items to list"
   ]
  },
  {
   "cell_type": "code",
   "execution_count": 99,
   "metadata": {},
   "outputs": [
    {
     "data": {
      "text/plain": [
       "['Yogurt', 'Tomato', 'Onion', 'Garlic', 'Spinach']"
      ]
     },
     "execution_count": 99,
     "metadata": {},
     "output_type": "execute_result"
    }
   ],
   "source": [
    "#Let's add some elements to this list - to do this we use append() which will add elements to the end of the list\n",
    "shopping.append('Yogurt')\n",
    "shopping.append('Tomato')\n",
    "shopping.append('Onion')\n",
    "shopping.append('Garlic')\n",
    "shopping.append('Spinach')\n",
    "\n",
    "# If you keep executing this cell you will see all 4 items appending to the list repeatedly.\n",
    "shopping"
   ]
  },
  {
   "cell_type": "markdown",
   "metadata": {},
   "source": [
    "### Remove Items"
   ]
  },
  {
   "cell_type": "code",
   "execution_count": 100,
   "metadata": {},
   "outputs": [
    {
     "data": {
      "text/plain": [
       "['Yogurt', 'Onion', 'Garlic', 'Spinach']"
      ]
     },
     "execution_count": 100,
     "metadata": {},
     "output_type": "execute_result"
    }
   ],
   "source": [
    "# To delete Items from the list we the delete()\n",
    "# Suppose we want to delete 'tomato' from our shopping list\n",
    "shopping.remove('Tomato') \n",
    "shopping"
   ]
  },
  {
   "cell_type": "markdown",
   "metadata": {},
   "source": [
    "### Accessing an Item by index"
   ]
  },
  {
   "cell_type": "code",
   "execution_count": 101,
   "metadata": {},
   "outputs": [
    {
     "name": "stdout",
     "output_type": "stream",
     "text": [
      "Onion\n"
     ]
    }
   ],
   "source": [
    "# Accessing an item by index\n",
    "print(shopping[1])"
   ]
  },
  {
   "cell_type": "markdown",
   "metadata": {},
   "source": [
    "## Strings"
   ]
  },
  {
   "cell_type": "markdown",
   "metadata": {},
   "source": [
    "Strings are sequences of characters enclosed in quotes (single, double, or triple quotes). Strings are immutable, meaning they cannot be changed after creation."
   ]
  },
  {
   "cell_type": "code",
   "execution_count": 6,
   "metadata": {},
   "outputs": [
    {
     "data": {
      "text/plain": [
       "'Welcome to Programming for Analytics Class'"
      ]
     },
     "execution_count": 6,
     "metadata": {},
     "output_type": "execute_result"
    }
   ],
   "source": [
    "# Creating a string\n",
    "greetings = 'Welcome to Programming for Analytics Class'\n",
    "greetings"
   ]
  },
  {
   "cell_type": "markdown",
   "metadata": {},
   "source": [
    "### Case Conversion \n",
    "\n",
    "Converting string from lower to upper case or vice versa."
   ]
  },
  {
   "cell_type": "code",
   "execution_count": 85,
   "metadata": {},
   "outputs": [
    {
     "name": "stdout",
     "output_type": "stream",
     "text": [
      "Lower Case: welcome to programming for analytics class\n",
      "Upper Case: WELCOME TO PROGRAMMING FOR ANALYTICS CLASS\n"
     ]
    }
   ],
   "source": [
    "# Converting to lower case\n",
    "lower = greetings.lower()\n",
    "print(f'Lower Case: {lower}')\n",
    "\n",
    "upper = greetings.upper()\n",
    "print(f'Upper Case: {upper}')"
   ]
  },
  {
   "cell_type": "markdown",
   "metadata": {},
   "source": [
    "### Find and Replace\n",
    "\n",
    "The find() method searches for a specified substring within a string and returns the lowest index where the substring is found.\n",
    "\n",
    "The replace() method replaces occurrences of a specified substring with another substring."
   ]
  },
  {
   "cell_type": "code",
   "execution_count": 91,
   "metadata": {},
   "outputs": [
    {
     "name": "stdout",
     "output_type": "stream",
     "text": [
      "Index of for: 23\n",
      "The greeting after replacing words: Welcome to Programming for Analytics course\n"
     ]
    }
   ],
   "source": [
    "# using find to search the word 'for'\n",
    "f = greetings.find('for')\n",
    "print(f'Index of for: {f}')\n",
    "\n",
    "# use replace to replace the word class with course\n",
    "r = greetings.replace('Class','course')\n",
    "print(f'The greeting after replacing words: {r}')\n"
   ]
  },
  {
   "cell_type": "markdown",
   "metadata": {},
   "source": [
    "## Concatenation"
   ]
  },
  {
   "cell_type": "markdown",
   "metadata": {},
   "source": [
    "Concatenation is combining two or more strings (or lists) into one."
   ]
  },
  {
   "cell_type": "markdown",
   "metadata": {},
   "source": [
    "### String Concatenation"
   ]
  },
  {
   "cell_type": "code",
   "execution_count": 7,
   "metadata": {},
   "outputs": [
    {
     "data": {
      "text/plain": [
       "'Welcome to Programming for Analytics Class - 2024'"
      ]
     },
     "execution_count": 7,
     "metadata": {},
     "output_type": "execute_result"
    }
   ],
   "source": [
    "full_greetings = greetings + \" - 2024\"\n",
    "\n",
    "full_greetings"
   ]
  },
  {
   "cell_type": "markdown",
   "metadata": {},
   "source": [
    "### List Concatenation"
   ]
  },
  {
   "cell_type": "code",
   "execution_count": 8,
   "metadata": {},
   "outputs": [
    {
     "data": {
      "text/plain": [
       "[1, 3, 5, 7, 9, 2, 4, 6, 8, 10]"
      ]
     },
     "execution_count": 8,
     "metadata": {},
     "output_type": "execute_result"
    }
   ],
   "source": [
    "odd = [1,3,5,7,9]\n",
    "even = [2,4,6,8,10]\n",
    "com_nos = odd + even\n",
    "com_nos"
   ]
  },
  {
   "cell_type": "markdown",
   "metadata": {},
   "source": [
    "## Indexing"
   ]
  },
  {
   "cell_type": "markdown",
   "metadata": {},
   "source": [
    "Indexing is accessing an element at a specific position in a string or list.\n",
    "* The Index starts from 0 i.e the first character/item has an index of 0."
   ]
  },
  {
   "cell_type": "markdown",
   "metadata": {},
   "source": [
    "### String Indexing"
   ]
  },
  {
   "cell_type": "code",
   "execution_count": 13,
   "metadata": {},
   "outputs": [
    {
     "name": "stdout",
     "output_type": "stream",
     "text": [
      "t\n"
     ]
    }
   ],
   "source": [
    "# String indexing\n",
    "print(greetings[8])"
   ]
  },
  {
   "cell_type": "markdown",
   "metadata": {},
   "source": [
    "### List Indexing"
   ]
  },
  {
   "cell_type": "code",
   "execution_count": 10,
   "metadata": {},
   "outputs": [
    {
     "name": "stdout",
     "output_type": "stream",
     "text": [
      "5\n"
     ]
    }
   ],
   "source": [
    "# List Indexing\n",
    "print(com_nos[2])"
   ]
  },
  {
   "cell_type": "markdown",
   "metadata": {},
   "source": [
    "## Slicing\n",
    "Slicing is extracting a portion of a string or list."
   ]
  },
  {
   "cell_type": "markdown",
   "metadata": {},
   "source": [
    "### String Slicing"
   ]
  },
  {
   "cell_type": "code",
   "execution_count": 11,
   "metadata": {},
   "outputs": [
    {
     "name": "stdout",
     "output_type": "stream",
     "text": [
      "Welco\n"
     ]
    }
   ],
   "source": [
    "# String slicing\n",
    "print(greetings[0:5])"
   ]
  },
  {
   "cell_type": "markdown",
   "metadata": {},
   "source": [
    "### List Slicing"
   ]
  },
  {
   "cell_type": "code",
   "execution_count": 12,
   "metadata": {},
   "outputs": [
    {
     "name": "stdout",
     "output_type": "stream",
     "text": [
      "[9, 2, 4, 6, 8]\n"
     ]
    }
   ],
   "source": [
    "# List slicing\n",
    "print(com_nos[4:9])"
   ]
  },
  {
   "cell_type": "markdown",
   "metadata": {},
   "source": [
    "# Special Mentions - Dictonary, Tuple, Sets"
   ]
  },
  {
   "cell_type": "markdown",
   "metadata": {},
   "source": [
    "## Dictonary (Dict)"
   ]
  },
  {
   "cell_type": "markdown",
   "metadata": {},
   "source": [
    "A dictionary is an unordered collection of key-value pairs. It is mutable and indexed by keys.\n",
    "\n",
    "Pro and Con of Dictonary - \n",
    "\n",
    "Pros: \n",
    "* Fast lookups and inserts based on keys.\n",
    "* Keys can be any immutable type.\n",
    "\n",
    "Cons:\n",
    "* Unordered.\n",
    "* Keys must be unique."
   ]
  },
  {
   "cell_type": "markdown",
   "metadata": {},
   "source": [
    "### Creating a dictonary"
   ]
  },
  {
   "cell_type": "code",
   "execution_count": 59,
   "metadata": {},
   "outputs": [
    {
     "data": {
      "text/plain": [
       "{'name': 'Alice', 'age': 25, 'city': 'Rochester'}"
      ]
     },
     "execution_count": 59,
     "metadata": {},
     "output_type": "execute_result"
    }
   ],
   "source": [
    "# Creating a dictionary - here 'name','age','city' are keys and 'Alice','25', 'Rochester' are values\n",
    "person = {\"name\": \"Alice\", \"age\": 25, \"city\": \"Rochester\"}\n",
    "person"
   ]
  },
  {
   "cell_type": "markdown",
   "metadata": {},
   "source": [
    "### Adding Items to dictonary"
   ]
  },
  {
   "cell_type": "code",
   "execution_count": 48,
   "metadata": {},
   "outputs": [
    {
     "data": {
      "text/plain": [
       "{'name': 'Alice', 'age': 25, 'city': 'Rochester', 'Program': 'Analytics'}"
      ]
     },
     "execution_count": 48,
     "metadata": {},
     "output_type": "execute_result"
    }
   ],
   "source": [
    "# one way to add items to dictonary\n",
    "person['Program']='Analytics'\n",
    "person"
   ]
  },
  {
   "cell_type": "markdown",
   "metadata": {},
   "source": [
    "### Updating an Item in dictonary"
   ]
  },
  {
   "cell_type": "code",
   "execution_count": 49,
   "metadata": {},
   "outputs": [
    {
     "data": {
      "text/plain": [
       "{'name': 'Alice',\n",
       " 'age': 25,\n",
       " 'city': 'Rochester',\n",
       " 'Program': 'MS Marketing Analytics'}"
      ]
     },
     "execution_count": 49,
     "metadata": {},
     "output_type": "execute_result"
    }
   ],
   "source": [
    "# updating an value of a specific key in the dictonary, if no such pair exists \n",
    "# then it will add it as a new item\n",
    "person.update({'Program':'MS Marketing Analytics'})\n",
    "person"
   ]
  },
  {
   "cell_type": "markdown",
   "metadata": {},
   "source": [
    "### Deleting Items from Dictonary"
   ]
  },
  {
   "cell_type": "code",
   "execution_count": 50,
   "metadata": {},
   "outputs": [
    {
     "name": "stdout",
     "output_type": "stream",
     "text": [
      "Deleting using just key: {'name': 'Alice', 'city': 'Rochester', 'Program': 'MS Marketing Analytics'}\n",
      "Deleting using key-value pair: {'name': 'Alice', 'Program': 'MS Marketing Analytics'}\n"
     ]
    }
   ],
   "source": [
    "# deleting an item from dictonary\n",
    "del person['age']\n",
    "print(f'Deleting using just key: {person}')\n",
    "\n",
    "# Another way to delete an item from dictonary using bothe the key-value pair\n",
    "person.pop('city','Rochester')\n",
    "print(f'Deleting using key-value pair: {person}')"
   ]
  },
  {
   "cell_type": "markdown",
   "metadata": {},
   "source": [
    "### Accessing a Value using Specific Key"
   ]
  },
  {
   "cell_type": "code",
   "execution_count": 51,
   "metadata": {},
   "outputs": [
    {
     "data": {
      "text/plain": [
       "'Alice'"
      ]
     },
     "execution_count": 51,
     "metadata": {},
     "output_type": "execute_result"
    }
   ],
   "source": [
    "# Accessing a value by key\n",
    "person[\"name\"]"
   ]
  },
  {
   "cell_type": "markdown",
   "metadata": {},
   "source": [
    "## Tuple"
   ]
  },
  {
   "cell_type": "markdown",
   "metadata": {},
   "source": [
    "A tuple is an ordered, immutable collection of items. Tuples can hold items of any data type.\n",
    "\n",
    "Pros:\n",
    "\n",
    "* Immutable (cannot be changed).\n",
    "* Can be used as keys in dictionaries.\n",
    "\n",
    "Cons:\n",
    "* Cannot be modified after creation.\n",
    "* Less flexible than lists.\n"
   ]
  },
  {
   "cell_type": "markdown",
   "metadata": {},
   "source": [
    "### Creating a Tuple"
   ]
  },
  {
   "cell_type": "code",
   "execution_count": 55,
   "metadata": {},
   "outputs": [
    {
     "name": "stdout",
     "output_type": "stream",
     "text": [
      "(42, 'galaxy', 3.14)\n"
     ]
    }
   ],
   "source": [
    "# Creating a tuple\n",
    "random_list = (42,'galaxy',3.14)\n",
    "print(random_list)"
   ]
  },
  {
   "cell_type": "code",
   "execution_count": 57,
   "metadata": {},
   "outputs": [
    {
     "data": {
      "text/plain": [
       "'galaxy'"
      ]
     },
     "execution_count": 57,
     "metadata": {},
     "output_type": "execute_result"
    }
   ],
   "source": [
    "### Accesing a tuple element\n",
    "random_list[1]"
   ]
  },
  {
   "cell_type": "markdown",
   "metadata": {},
   "source": [
    "## Sets"
   ]
  },
  {
   "cell_type": "markdown",
   "metadata": {},
   "source": [
    "A set is an unordered collection of unique items. Sets are mutable and do not allow duplicate elements."
   ]
  },
  {
   "cell_type": "markdown",
   "metadata": {},
   "source": [
    "### Creating a Set"
   ]
  },
  {
   "cell_type": "code",
   "execution_count": 61,
   "metadata": {},
   "outputs": [
    {
     "data": {
      "text/plain": [
       "{3.14, 42, 'Akame', 'apple', 'galaxy'}"
      ]
     },
     "execution_count": 61,
     "metadata": {},
     "output_type": "execute_result"
    }
   ],
   "source": [
    "# creating a set\n",
    "random_set = {42, 'galaxy', 3.14, 42, 'apple', 'Akame'}\n",
    "random_set"
   ]
  },
  {
   "cell_type": "markdown",
   "metadata": {},
   "source": [
    "### Adding Elements to Set"
   ]
  },
  {
   "cell_type": "code",
   "execution_count": 62,
   "metadata": {},
   "outputs": [
    {
     "data": {
      "text/plain": [
       "{3.14, 42, 'Akame', 'apple', 'galaxy', 'python'}"
      ]
     },
     "execution_count": 62,
     "metadata": {},
     "output_type": "execute_result"
    }
   ],
   "source": [
    "# adding elements to the set\n",
    "random_set.add('python')\n",
    "random_set.add('galaxy')\n",
    "\n",
    "random_set"
   ]
  },
  {
   "cell_type": "markdown",
   "metadata": {},
   "source": [
    "### Removing Elements from Set"
   ]
  },
  {
   "cell_type": "code",
   "execution_count": 63,
   "metadata": {},
   "outputs": [
    {
     "name": "stdout",
     "output_type": "stream",
     "text": [
      "{'galaxy', 3.14, 'apple', 'Akame', 42}\n",
      "{'galaxy', 3.14, 'apple', 'Akame', 42}\n"
     ]
    }
   ],
   "source": [
    "# You can remove elements using the remove() or discard() method. \n",
    "\n",
    "# using remove() method\n",
    "random_set.remove('python')\n",
    "print(random_set)\n",
    "\n",
    "# using discard() method\n",
    "random_set.discard('python')\n",
    "print(random_set)"
   ]
  },
  {
   "cell_type": "markdown",
   "metadata": {},
   "source": [
    "***NOTE** : After executing the above cell, comment the line where we are using the discard() method and run the code again. It will throw an error. Now Uncomment the lines you previously commented and comment the lines where we use the remove method. It will not throw an error (Unless you messed up). The remove() method raises an error if the element does not exist, while discard() does not.*"
   ]
  },
  {
   "cell_type": "code",
   "execution_count": 67,
   "metadata": {},
   "outputs": [],
   "source": [
    "# Consider the two sets (change the values as you wish)\n",
    "set1 = {1, 2, 3, 4, 5}\n",
    "set2 = {2, 5, 0, 8, 6}"
   ]
  },
  {
   "cell_type": "markdown",
   "metadata": {},
   "source": [
    "### Union of Sets\n",
    "The union of two sets is a set containing all unique elements from both sets."
   ]
  },
  {
   "cell_type": "code",
   "execution_count": 71,
   "metadata": {},
   "outputs": [
    {
     "name": "stdout",
     "output_type": "stream",
     "text": [
      "Using Union function: {0, 1, 2, 3, 4, 5, 6, 8}\n",
      "Using | function: {0, 1, 2, 3, 4, 5, 6, 8}\n"
     ]
    }
   ],
   "source": [
    "# union of two sets can be done using union()method or | operator\n",
    "\n",
    "# union() method\n",
    "union = set1.union(set2)\n",
    "print(f'Using Union function: {union}')\n",
    "\n",
    "# Another way to perform union operation\n",
    "union = set1 | set2\n",
    "print(f'Using | operator: {union}')\n"
   ]
  },
  {
   "cell_type": "markdown",
   "metadata": {},
   "source": [
    "### Intersection of Sets\n",
    "\n",
    "The intersection of two sets is a set containing only the elements that are present in both sets."
   ]
  },
  {
   "cell_type": "code",
   "execution_count": 74,
   "metadata": {},
   "outputs": [
    {
     "name": "stdout",
     "output_type": "stream",
     "text": [
      "Using Intersection method: {2, 5}\n",
      "Using & method: {2, 5}\n"
     ]
    }
   ],
   "source": [
    "# Intersection of two sets can be done using intersection() method or & operator\n",
    "\n",
    "#intersection() method\n",
    "intersection = set1.intersection(set2)\n",
    "print(f'Using Intersection method: {intersection}')\n",
    "\n",
    "# & method\n",
    "intersection = set1 & set2\n",
    "print(f'Using & operator: {intersection}')\n"
   ]
  },
  {
   "cell_type": "markdown",
   "metadata": {},
   "source": [
    "### Difference between Sets\n",
    "The difference of two sets is a set containing elements that are in the first set but not in the second."
   ]
  },
  {
   "cell_type": "code",
   "execution_count": 75,
   "metadata": {},
   "outputs": [
    {
     "name": "stdout",
     "output_type": "stream",
     "text": [
      "Using Difference method: {1, 3, 4}\n",
      "Using - operator: {1, 3, 4}\n"
     ]
    }
   ],
   "source": [
    "# Difference between two sets can be done using difference() method or - operator\n",
    "\n",
    "#using difference() method\n",
    "difference = set1.difference(set2)\n",
    "print(f'Using Difference method: {difference}')\n",
    "\n",
    "# using - operator\n",
    "difference = set1 - set2\n",
    "print(f'Using - operator: {difference}')"
   ]
  },
  {
   "cell_type": "markdown",
   "metadata": {},
   "source": [
    "### Sub sets and Supers Sets"
   ]
  },
  {
   "cell_type": "code",
   "execution_count": 81,
   "metadata": {},
   "outputs": [
    {
     "name": "stdout",
     "output_type": "stream",
     "text": [
      "Is set 3 subset of set 1: True\n",
      "Is set 2 subset of set 1: False\n",
      "Is set 1 superset of set 3: True\n"
     ]
    }
   ],
   "source": [
    "set3 = {2,5}\n",
    "\n",
    "print(f'Is set 3 subset of set 1: {set3.issubset(set1)}')\n",
    "print(f'Is set 2 subset of set 1: {set2.issubset(set1)}')\n",
    "print(f'Is set 1 superset of set 3: {set1.issuperset(set3)}')\n"
   ]
  }
 ],
 "metadata": {
  "kernelspec": {
   "display_name": "Python 3",
   "language": "python",
   "name": "python3"
  },
  "language_info": {
   "codemirror_mode": {
    "name": "ipython",
    "version": 3
   },
   "file_extension": ".py",
   "mimetype": "text/x-python",
   "name": "python",
   "nbconvert_exporter": "python",
   "pygments_lexer": "ipython3",
   "version": "3.11.5"
  }
 },
 "nbformat": 4,
 "nbformat_minor": 2
}
