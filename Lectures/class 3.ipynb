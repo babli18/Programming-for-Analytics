{
 "cells": [
  {
   "cell_type": "markdown",
   "metadata": {},
   "source": [
    "# Topics - Control Structures (Conditionals and Loop), Nested Structures, Lists Comprehension, Functions, Class, Methods"
   ]
  },
  {
   "cell_type": "markdown",
   "metadata": {},
   "source": [
    "## Flow Control\n",
    "\n",
    "Flow control refers to the order in which individual statements, instructions, or function calls are executed or evaluated in a script. The natural flow of code usually follows a top-to-bottom, left-to-right order, but can be altered using control structures like conditionals and loops."
   ]
  },
  {
   "cell_type": "markdown",
   "metadata": {},
   "source": [
    "## Conditionals (if/else)\n",
    "\n",
    "Conditionals allow you to execute certain pieces of code based on whether a condition is true or false.\n",
    "\n",
    "There are primarily 3 kinds of Conditional statements.\n",
    "1. if Statement\n",
    "2. if-else statement\n",
    "3. if-elif-else statement\n"
   ]
  },
  {
   "cell_type": "markdown",
   "metadata": {},
   "source": [
    "### if statement\n",
    "\n",
    "An if statement is used to test a specific condition. If the condition is true, the block of code inside the if statement is executed."
   ]
  },
  {
   "cell_type": "code",
   "execution_count": 1,
   "metadata": {},
   "outputs": [
    {
     "name": "stdout",
     "output_type": "stream",
     "text": [
      "X is greater than 5\n"
     ]
    }
   ],
   "source": [
    "x = 10\n",
    "\n",
    "if x > 5:\n",
    "    print('X is greater than 5')"
   ]
  },
  {
   "cell_type": "markdown",
   "metadata": {},
   "source": [
    "### if-else statement\n",
    "\n",
    "An if-else statement is used to test a condition and execute one block of code if the condition is true and another block of code if the condition is false."
   ]
  },
  {
   "cell_type": "code",
   "execution_count": 2,
   "metadata": {},
   "outputs": [
    {
     "name": "stdout",
     "output_type": "stream",
     "text": [
      "y is greater than 5\n"
     ]
    }
   ],
   "source": [
    "y = 6\n",
    "\n",
    "if y > 5:\n",
    "    print ('y is greater than 5')\n",
    "else:\n",
    "    print('y is less than 5')\n",
    "\n",
    "# try this by changing value of y = 5 and see the result.\n",
    "\n",
    "# Another Example of if else\n",
    "# t = False\n",
    "# if t:\n",
    "#     print(\"T is True\")\n",
    "# else:\n",
    "#     print(\"T is False\")"
   ]
  },
  {
   "cell_type": "markdown",
   "metadata": {},
   "source": [
    "### if-else-if statement\n",
    "\n",
    "An if-elif-else statement (short for \"else if\") is used to test multiple conditions. <br> The first condition that evaluates to true will have its corresponding block of code executed. If none of the conditions are true, the else block is executed."
   ]
  },
  {
   "cell_type": "code",
   "execution_count": 3,
   "metadata": {},
   "outputs": [
    {
     "name": "stdout",
     "output_type": "stream",
     "text": [
      "63 is between 60 and 70\n"
     ]
    }
   ],
   "source": [
    "z =  63\n",
    "\n",
    "if z > 100:\n",
    "    print(f'{z} is greter than 100')\n",
    "elif z < 70 or z >= 60:\n",
    "    print (f'{z} is between 60 and 70')\n",
    "else:\n",
    "    print (f'{z} is less than 60')"
   ]
  },
  {
   "cell_type": "markdown",
   "metadata": {},
   "source": [
    "## Loops\n",
    "\n",
    "* Loops allow you to execute a block of code multiple times.<br>\n",
    "* In Python, there are two primary kinds of loops:  \n",
    "1. *for* loops  \n",
    "2. *while* loops.<br>\n",
    "* Additionally, Python offers control flow tools such as *break*, *continue*, and *else statements* that can be used with loops to manage the flow more precisely."
   ]
  },
  {
   "cell_type": "markdown",
   "metadata": {},
   "source": [
    "### for loops\n",
    "\n",
    "The for loop is used to iterate over a sequence (such as a list, tuple, dictionary, set, or string) and execute a block of code for each item in the sequence."
   ]
  },
  {
   "cell_type": "code",
   "execution_count": 4,
   "metadata": {},
   "outputs": [
    {
     "name": "stdout",
     "output_type": "stream",
     "text": [
      "0\n",
      "1\n",
      "2\n",
      "3\n",
      "4\n"
     ]
    }
   ],
   "source": [
    "# Lets print the first five nos:\n",
    "\n",
    "for i in range(5):\n",
    "   print(i)\n",
    "\n",
    "# to print the nos in a specific range in a descending order use\n",
    "# for i in range(10, 0, -1): # this print nos from 1 to 10 in descending order \n",
    "#     print(i)\n",
    "\n",
    "# Note you will observe in both the case that the range in first example is 0-5 and \n",
    "# next is 10 to 0 but 5 and 0 are not printed because the way 'for' syntax works is it always computes index from 0 to n-1 for a range 0 to n.(0 inclusive, n-1 non inclusive)"
   ]
  },
  {
   "cell_type": "code",
   "execution_count": 5,
   "metadata": {},
   "outputs": [
    {
     "name": "stdout",
     "output_type": "stream",
     "text": [
      "apple\n",
      "burger\n",
      "tomato\n",
      "rice\n",
      "pizza\n",
      "chocolate\n"
     ]
    }
   ],
   "source": [
    "# for loops with lists\n",
    "food = ['apple','burger','tomato','rice','pizza','chocolate']\n",
    "\n",
    "for f in food:\n",
    "    print(f)\n",
    "\n",
    "# Another way of printing reversed list\n",
    "# for f in reversed(food):\n",
    "#     print(f)"
   ]
  },
  {
   "cell_type": "markdown",
   "metadata": {},
   "source": [
    "### while loop\n",
    "\n",
    "The while loop is used to execute a block of code as long as a specified condition is true."
   ]
  },
  {
   "cell_type": "code",
   "execution_count": 6,
   "metadata": {},
   "outputs": [
    {
     "name": "stdout",
     "output_type": "stream",
     "text": [
      "0\n",
      "1\n",
      "2\n",
      "3\n",
      "4\n"
     ]
    }
   ],
   "source": [
    "count = 0\n",
    "while count < 5:\n",
    "    print(count)\n",
    "    count+=1"
   ]
  },
  {
   "cell_type": "markdown",
   "metadata": {},
   "source": [
    "### Control Flow Tools (break, continue)"
   ]
  },
  {
   "cell_type": "markdown",
   "metadata": {},
   "source": [
    "#### break statement\n",
    "\n",
    "The break statement is used to exit a loop prematurely when a certain condition is met."
   ]
  },
  {
   "cell_type": "code",
   "execution_count": 7,
   "metadata": {},
   "outputs": [
    {
     "name": "stdout",
     "output_type": "stream",
     "text": [
      "1\n",
      "5\n",
      "2\n",
      "Found a number greater than 5: 8\n"
     ]
    }
   ],
   "source": [
    "numbers = [1, 5, 2, 8, 3]\n",
    "for number in numbers:\n",
    "    if number > 5:\n",
    "        print(f\"Found a number greater than 5: {number}\")\n",
    "        break  # Exit the loop after finding the first number\n",
    "    print(number)"
   ]
  },
  {
   "cell_type": "markdown",
   "metadata": {},
   "source": [
    "#### continue statement\n",
    "Skips the current iteration of the loop and moves on to the next one."
   ]
  },
  {
   "cell_type": "code",
   "execution_count": 8,
   "metadata": {},
   "outputs": [
    {
     "name": "stdout",
     "output_type": "stream",
     "text": [
      "I like apple!\n",
      "I like cherry!\n",
      "I like orange!\n"
     ]
    }
   ],
   "source": [
    "fruits = [\"apple\", \"banana\", \"cherry\", \"orange\"]\n",
    "for fruit in fruits:\n",
    "    if fruit == \"banana\":\n",
    "        continue  # Skip processing bananas\n",
    "    print(f\"I like {fruit}!\")"
   ]
  },
  {
   "cell_type": "markdown",
   "metadata": {},
   "source": [
    "Both break and continue only affect the loop they are used within.<br>\n",
    "They offer more control over how your loops iterate and what actions are performed within each iteration."
   ]
  },
  {
   "cell_type": "markdown",
   "metadata": {},
   "source": [
    "## Nested Structure (Conditional and Loops)\n",
    "\n",
    "You can nest conditionals and loops within each other to create more complex flow control.\n"
   ]
  },
  {
   "cell_type": "markdown",
   "metadata": {},
   "source": [
    "### Nested Conditions (if-else)"
   ]
  },
  {
   "cell_type": "code",
   "execution_count": 9,
   "metadata": {},
   "outputs": [
    {
     "name": "stdout",
     "output_type": "stream",
     "text": [
      "You can vote in the US Elections\n"
     ]
    }
   ],
   "source": [
    "age = 25\n",
    "citizen = 'USA'\n",
    "\n",
    "if age >= 18:\n",
    "    if citizen == 'USA':\n",
    "        print('You can vote in the US Elections')\n",
    "    else:\n",
    "        print(\"You can vote, but verify your country's  age restriction\")\n",
    "else: \n",
    "    print('Oops, you are too young to vote.')"
   ]
  },
  {
   "cell_type": "markdown",
   "metadata": {},
   "source": [
    "### Nested Loops"
   ]
  },
  {
   "cell_type": "code",
   "execution_count": 10,
   "metadata": {},
   "outputs": [
    {
     "name": "stdout",
     "output_type": "stream",
     "text": [
      "Shopping List:\n",
      "- apples\n",
      "- bananas\n",
      "Shopping List:\n",
      "- milk\n",
      "- bread\n",
      "- cheese\n"
     ]
    }
   ],
   "source": [
    "shopping_cart = [\n",
    "    [\"apples\", \"bananas\"],\n",
    "    [\"milk\", \"bread\", \"cheese\"],\n",
    "]\n",
    "\n",
    "for item_list in shopping_cart:  # Outer loop iterates through each list within shopping_cart\n",
    "    print(\"Shopping List:\")\n",
    "    for item in item_list:  # Inner loop iterates through each item within the current list\n",
    "        print(f\"- {item}\")"
   ]
  },
  {
   "cell_type": "markdown",
   "metadata": {},
   "source": [
    "### Nested Conditionals and Loops"
   ]
  },
  {
   "cell_type": "code",
   "execution_count": 11,
   "metadata": {},
   "outputs": [
    {
     "name": "stdout",
     "output_type": "stream",
     "text": [
      "1 equals 1\n",
      "1 does not equal 2\n",
      "1 does not equal 3\n",
      "2 does not equal 1\n",
      "2 equals 2\n",
      "2 does not equal 3\n",
      "3 does not equal 1\n",
      "3 does not equal 2\n",
      "3 equals 3\n"
     ]
    }
   ],
   "source": [
    "for i in range(1, 4):\n",
    "    for j in range(1, 4):\n",
    "        if i == j:\n",
    "            print(f\"{i} equals {j}\")\n",
    "        else:\n",
    "            print(f\"{i} does not equal {j}\")\n"
   ]
  },
  {
   "cell_type": "markdown",
   "metadata": {},
   "source": [
    "## Lists Comprehension\n",
    "\n",
    "List comprehension is a concise way to create lists in Python.<br>\n",
    "It allows you to generate a new list by applying an expression to each item in an existing iterable (like a list or a range) and optionally filter items using a condition.\n",
    "\n",
    "Syntax: \n",
    "\n",
    "[*expression* for *item* in *iterable* if *condition*]\n",
    "* `expression` is the value or operation applied to each item.\n",
    "* `item` is the variable representing each element in the iterable.\n",
    "* `iterable` is the collection of items to loop over.\n",
    "* `condition` is an optional filter that determines if an item should be included.\n",
    "\n"
   ]
  },
  {
   "cell_type": "code",
   "execution_count": 12,
   "metadata": {},
   "outputs": [
    {
     "name": "stdout",
     "output_type": "stream",
     "text": [
      "[0, 1, 4, 9, 16, 25, 36, 49, 64, 81, 100]\n"
     ]
    }
   ],
   "source": [
    "squares = [x**2 for x in range(11)]\n",
    "print(squares)\n",
    "\n",
    "# printing even nos\n",
    "# evens = [x for x in range(10) if x % 2 == 0]\n",
    "# print(evens)"
   ]
  },
  {
   "cell_type": "markdown",
   "metadata": {},
   "source": [
    "## Functions\n",
    "\n",
    "Functions are reusable blocks of code that perform a specific task.<br>\n",
    "They promote modularity, making your code cleaner, easier to understand, and maintainable."
   ]
  },
  {
   "cell_type": "code",
   "execution_count": 13,
   "metadata": {},
   "outputs": [
    {
     "name": "stdout",
     "output_type": "stream",
     "text": [
      "Hello, Yufeng\n"
     ]
    }
   ],
   "source": [
    "# this is how you define a function - you use 'def' keyword followed by the name you want to give to a function and parantheses to define a function.\n",
    "# the variable 'name' inside paranthesis is called parameter(s)\n",
    "def greet(name):\n",
    "    \"\"\" This function greets the person by name \"\"\" #another way to comment - these cooments are mostly used to descibe purpose of the function\n",
    "    print(f'Hello, {name}')\n",
    "\n",
    "#this is how you would call a function (function call)\n",
    "greet('Yufeng')\n",
    "\n",
    "\n",
    "# #Another Example\n",
    "# def product(n,m):\n",
    "#     p = m*n\n",
    "#     return  p\n",
    "\n",
    "# pro = product(5,6)\n",
    "\n",
    "# print(f'The Product of 5 and 6 is {pro}')"
   ]
  },
  {
   "cell_type": "markdown",
   "metadata": {},
   "source": [
    "## Object Oriented programming (OOP)\n",
    "Object-Oriented Programming (OOP) is a programming paradigm that uses *objects* and *classes* to organize and structure code in a more modular and reusable way."
   ]
  },
  {
   "cell_type": "markdown",
   "metadata": {},
   "source": [
    "## Class and Methods\n",
    "\n",
    "`Class` : Think of a class as a blueprint for creating things. For example, if you have a blueprint for a car, you can make many cars from that blueprint.<br>\n",
    "`Object` : An object is an actual thing you create using the blueprint. So, using the car blueprint, each car you make is an object.<br>\n",
    "`Method` : Methods are functions that are *defined inside a class* and are used to *perform actions or operations on objects created from that class*. They are like skills or abilities that the objects have."
   ]
  },
  {
   "cell_type": "markdown",
   "metadata": {},
   "source": [
    "### Creating a Class and Methods"
   ]
  },
  {
   "cell_type": "code",
   "execution_count": 14,
   "metadata": {},
   "outputs": [],
   "source": [
    "# Let's create a class called Dog to understand the concepts\n",
    "# to create the class we use the following keyword 'class' followed by the name you want to give a class, in this case 'Dog'\n",
    "# attribute - information about the object and are used to define characterstics\n",
    "class Dog:\n",
    "    # This is a method called __init__ which is used to initialize the object\n",
    "    def __init__(self,name,age):\n",
    "        self.name = name # Attribute: name of the dog\n",
    "        self.age = age   # Attribute: age of the dog\n",
    "\n",
    "    # Adding Some methods to our class 'Dog'\n",
    "    # These methods define what actions the dog can perform.\n",
    "\n",
    "    # Method to make the dog bark\n",
    "    def bark(self):\n",
    "        return f\"{self.name} says woof!\"\n",
    "    \n",
    "    # Method to get the dog's age in dog years\n",
    "    def get_dog_years(self):\n",
    "        return self.age * 7\n"
   ]
  },
  {
   "cell_type": "markdown",
   "metadata": {},
   "source": [
    "`self` Parameter: The first parameter of a method is always self, which refers to the instance of the class (the object).<br> \n",
    "It allows methods to access attributes and other methods on the same object."
   ]
  },
  {
   "cell_type": "markdown",
   "metadata": {},
   "source": [
    "### Creating Objects"
   ]
  },
  {
   "cell_type": "code",
   "execution_count": 15,
   "metadata": {},
   "outputs": [],
   "source": [
    "# Now lets Create a dog using the 'Dog' Class.\n",
    "my_dog = Dog('Rex',5) # this create a dog named 'Rex' who is 5 years old\n",
    "my_other_dog = Dog('Orion',4) # create a dog name 'Orion' who is 4 years old"
   ]
  },
  {
   "cell_type": "markdown",
   "metadata": {},
   "source": [
    "### Calling Methods"
   ]
  },
  {
   "cell_type": "code",
   "execution_count": 16,
   "metadata": {},
   "outputs": [
    {
     "name": "stdout",
     "output_type": "stream",
     "text": [
      "Rex says woof!\n",
      "35\n",
      "Orion says woof!\n"
     ]
    }
   ],
   "source": [
    "# Now lets use the method to make our dog do things.\n",
    "print(my_dog.bark()) # calling the bark method for Rex\n",
    "print(my_dog.get_dog_years()) # calling the for Rex\n",
    "\n",
    "print(my_other_dog.bark()) # calling the bark method for Orion"
   ]
  },
  {
   "cell_type": "markdown",
   "metadata": {},
   "source": [
    "Calling Methods: Methods are called on an object using the dot `.` notation."
   ]
  }
 ],
 "metadata": {
  "kernelspec": {
   "display_name": "Python 3",
   "language": "python",
   "name": "python3"
  },
  "language_info": {
   "codemirror_mode": {
    "name": "ipython",
    "version": 3
   },
   "file_extension": ".py",
   "mimetype": "text/x-python",
   "name": "python",
   "nbconvert_exporter": "python",
   "pygments_lexer": "ipython3",
   "version": "3.11.5"
  }
 },
 "nbformat": 4,
 "nbformat_minor": 2
}
