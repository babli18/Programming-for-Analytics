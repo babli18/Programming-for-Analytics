{
 "cells": [
  {
   "cell_type": "markdown",
   "metadata": {},
   "source": [
    "# Topics - Pandas, Series, DataFrame, Accessing Data, Quering Rows and Columns, Operations Between Columns and IO operations"
   ]
  },
  {
   "cell_type": "markdown",
   "metadata": {},
   "source": [
    "# Pandas\n",
    "\n",
    "The pandas library is useful for dealing with ***structured data***.<br>\n",
    "\n",
    "What is structured data? <br>\n",
    "Data that is stored in tables, csv files, Excel Spreadsheets or database tables, is all structured.<br>\n",
    "\n",
    "Unstructured data consists of free form text, images,sound or video.<br>\n",
    "\n",
    "If you are using structured data pandas will be a great utility to you.\n"
   ]
  },
  {
   "cell_type": "markdown",
   "metadata": {},
   "source": [
    "## Importing Pandas\n",
    "\n",
    "Most users of pandas library will use an import alias so they can refer to it as **pd**"
   ]
  },
  {
   "cell_type": "code",
   "execution_count": 48,
   "metadata": {},
   "outputs": [],
   "source": [
    "import pandas as pd"
   ]
  },
  {
   "cell_type": "markdown",
   "metadata": {},
   "source": [
    "# Series\n",
    "\n",
    "Series is a one-dimensional labeled array capable of holding any data type (integers, floats, strings, objects, etc.). It is essentially a column in a spreadsheet or a single-dimensional NumPy array with additional functionalities.<br>\n",
    "\n",
    "Key Characteristics:\n",
    "* One-dimensional: Data is arranged in a single column.\n",
    "* Labeled: Each element has an associated label (index).\n",
    "* Immutable: size immutable.\n",
    "\n",
    "NOTE: When we say that series can hold any data type, we mean to say that the entire column can be of any datatype not individual values in the entire column.\n",
    "\n",
    "![class 5](series_anatomy.png)\n",
    "Image Source - Pandas Cookbook"
   ]
  },
  {
   "cell_type": "markdown",
   "metadata": {},
   "source": [
    "## Creating a Series "
   ]
  },
  {
   "cell_type": "code",
   "execution_count": 49,
   "metadata": {},
   "outputs": [
    {
     "name": "stdout",
     "output_type": "stream",
     "text": [
      "Series from a list:\n",
      "0    a\n",
      "1    e\n",
      "2    i\n",
      "3    o\n",
      "4    u\n",
      "dtype: object\n",
      "Series from numpy array:\n",
      "0    1\n",
      "1    2\n",
      "2    3\n",
      "3    4\n",
      "4    5\n",
      "dtype: int64\n",
      "Series from a dictionary:\n",
      "a    1\n",
      "b    2\n",
      "c    3\n",
      "dtype: int64\n"
     ]
    }
   ],
   "source": [
    "# creating a series from listed data\n",
    "data = ['a','e','i','o','u']\n",
    "s = pd.Series(data)\n",
    "print(f'Series from a list:\\n{s}')\n",
    "\n",
    "# From a NumPy array\n",
    "import numpy as np\n",
    "data = np.array([1, 2, 3, 4, 5])\n",
    "s = pd.Series(data)\n",
    "print(f'Series from numpy array:\\n{s}')\n",
    "\n",
    "# From a dictionary\n",
    "data = {'a': 1, 'b': 2, 'c': 3}\n",
    "s = pd.Series(data)\n",
    "print(f'Series from a dictionary:\\n{s}')"
   ]
  },
  {
   "cell_type": "markdown",
   "metadata": {},
   "source": [
    "NOTE: More methods and operation will be talked about in later course."
   ]
  },
  {
   "cell_type": "markdown",
   "metadata": {},
   "source": [
    "# Data Frame"
   ]
  },
  {
   "cell_type": "markdown",
   "metadata": {},
   "source": [
    "## Introduction to Data Frame\n",
    "\n",
    "* A DataFrame is essentially a two-dimensional labeled data structure with columns of potentially different types.<br>\n",
    "* In simple terms - DataFrame: A table of data with rows and columns, where each column is a Series.\n",
    "* Visually They appear like table consisting od *Rows* and *Columns*.<br>\n",
    "* Hiding beneath the surface are the three components: *`index`*, *`column`*, *`data`*.\n",
    "\n",
    "![class 6](anatomy_dataframe.png)\n",
    "\n",
    "*`Index Labels`* and *`Column name`* refer to the individual memeber of index and columns,respectively.<br>\n",
    "`Index` refers to the Index label as a whole and `Column` refers to the column name as a whole.\n",
    "\n",
    "The labels in index and column names allow for pulling out data based on the index and column name. The index is also used for *alighment*. When multiple Series or DataFrames are combined, the indexes align first before any calculation occurs.\n",
    "\n",
    "Collectively, the columns and the index are know as the axes.<br>\n",
    "**Index - Axis 0**<br>\n",
    "**Columns - Axis 1**\n",
    "\n",
    "Pandas uses **NaN** (Not a number) *to represent missing values (including to represnt a missing string value)*.\n",
    "\n",
    "The three consecutive dots, `...` represent that there is atleast one column that exists but could not be displayed due to display limit."
   ]
  },
  {
   "cell_type": "markdown",
   "metadata": {},
   "source": [
    "### Creating DataFrames\n",
    "\n",
    "There are multiple ways to create a dataframe using the DataFrame() object.\n",
    "\n",
    "NOTE: You can also create dataframe when you read a file which will be thought later in class."
   ]
  },
  {
   "cell_type": "code",
   "execution_count": 50,
   "metadata": {},
   "outputs": [
    {
     "name": "stdout",
     "output_type": "stream",
     "text": [
      "DataFrame using Dict:\n",
      "      Name  Age         City\n",
      "0    Alice   25     New York\n",
      "1      Bob   30  Los Angeles\n",
      "2  Charlie   35      Chicago\n",
      "DataFrame using Numpy array:\n",
      "      Name Age         City\n",
      "0    Alice  25     New York\n",
      "1      Bob  30  Los Angeles\n",
      "2  Charlie  35      Chicago\n",
      "DataFrame using Lists of List:\n",
      "      Name  Age         City\n",
      "0    Alice   25     New York\n",
      "1      Bob   30  Los Angeles\n",
      "2  Charlie   35      Chicago\n"
     ]
    }
   ],
   "source": [
    "# Creating DataFrame using Dictonary \n",
    "data = {\n",
    "    'Name': ['Alice', 'Bob', 'Charlie'],\n",
    "    'Age': [25, 30, 35],\n",
    "    'City': ['New York', 'Los Angeles', 'Chicago']\n",
    "}\n",
    "df = pd.DataFrame(data)\n",
    "print(f'DataFrame using Dict:\\n{df}')\n",
    "\n",
    "# Creating DataFrame using numpy arrays\n",
    "data = np.array([\n",
    "    ['Alice', 25, 'New York'],\n",
    "    ['Bob', 30, 'Los Angeles'],\n",
    "    ['Charlie', 35, 'Chicago']\n",
    "])\n",
    "df = pd.DataFrame(data, columns=['Name', 'Age', 'City'])\n",
    "print(f'DataFrame using Numpy array:\\n{df}')\n",
    "\n",
    "# Creating DataFrame using list of lists\n",
    "data = [\n",
    "    ['Alice', 25, 'New York'],\n",
    "    ['Bob', 30, 'Los Angeles'],\n",
    "    ['Charlie', 35, 'Chicago']\n",
    "]\n",
    "df = pd.DataFrame(data, columns=['Name', 'Age', 'City'])\n",
    "print(f'DataFrame using Lists of List:\\n{df}')"
   ]
  },
  {
   "cell_type": "markdown",
   "metadata": {},
   "source": [
    "### DataFrame Attributes\n",
    "\n",
    "DataFrame attributes provide metadata and basic information about the DataFrame.<br>\n",
    "Some of the DataFrame attributes are:\n",
    "`df.shape`, \n",
    "`df.columns`, \n",
    "`df.index` ,\n",
    "`df.dtypes` ,\n",
    "`df.size` \n",
    "\n",
    "NOTE: \n",
    "1. You can use the print statement to print these variable or just execute the variable to see the values.\n",
    "2. You do not necessarily have to name your data frame to *df* you can give it a different name. Just like in Algebra to find unknow you use 'x' but you can name the unknow variable any other alphabet."
   ]
  },
  {
   "cell_type": "markdown",
   "metadata": {},
   "source": [
    "#### `df.shape` - Returns a tuple representing the dimensionality of the DataFrame.<br>"
   ]
  },
  {
   "cell_type": "code",
   "execution_count": 51,
   "metadata": {},
   "outputs": [
    {
     "name": "stdout",
     "output_type": "stream",
     "text": [
      "DataFrame:\n",
      "           Region  No. of Tourists  Average Temperature (F)\n",
      "0         Europe         30000000                       55\n",
      "1  North America         25000000                       65\n",
      "2           Asia         45000000                       75\n",
      "3         Africa         15000000                       85\n",
      "4  South America         22000000                       75\n",
      "\n",
      "Shape of Data Frame: (5, 3)\n"
     ]
    }
   ],
   "source": [
    "data = {\n",
    "    'Region': ['Europe', 'North America', 'Asia', 'Africa', 'South America'],\n",
    "    'No. of Tourists': [30000000, 25000000, 45000000, 15000000, 22000000],\n",
    "    'Average Temperature (F)': [55, 65, 75, 85, 75]\n",
    "}\n",
    "df = pd.DataFrame(data)\n",
    "print('DataFrame:\\n',df)\n",
    "\n",
    "print(f'')\n",
    "print(f'Shape of Data Frame: {df.shape}') # shape of the dataframe\n"
   ]
  },
  {
   "cell_type": "markdown",
   "metadata": {},
   "source": [
    "#### `df.columns` - Returns an Index object containing the column labels.<br>"
   ]
  },
  {
   "cell_type": "code",
   "execution_count": 52,
   "metadata": {},
   "outputs": [
    {
     "data": {
      "text/plain": [
       "Index(['Region', 'No. of Tourists', 'Average Temperature (F)'], dtype='object')"
      ]
     },
     "execution_count": 52,
     "metadata": {},
     "output_type": "execute_result"
    }
   ],
   "source": [
    "#print(f'Columns of Data Frame: {df.columns}') # gices the column names of the datagrame\n",
    "df.columns"
   ]
  },
  {
   "cell_type": "markdown",
   "metadata": {},
   "source": [
    "#### `df.index` - Returns an Index object containing the row labels.<br>"
   ]
  },
  {
   "cell_type": "code",
   "execution_count": 53,
   "metadata": {},
   "outputs": [
    {
     "data": {
      "text/plain": [
       "RangeIndex(start=0, stop=5, step=1)"
      ]
     },
     "execution_count": 53,
     "metadata": {},
     "output_type": "execute_result"
    }
   ],
   "source": [
    "#print(f'Index of Data Frame: {df.index}') #gives the index of the dataframe\n",
    "df.index"
   ]
  },
  {
   "cell_type": "code",
   "execution_count": 54,
   "metadata": {},
   "outputs": [
    {
     "data": {
      "text/plain": [
       "RangeIndex(start=0, stop=5, step=1)"
      ]
     },
     "execution_count": 54,
     "metadata": {},
     "output_type": "execute_result"
    }
   ],
   "source": [
    "# to find the index of a series you can do it the following way\n",
    "\n",
    "df['Region'].index"
   ]
  },
  {
   "cell_type": "markdown",
   "metadata": {},
   "source": [
    "#### `df.dtypes` - Returns the data types of each column.<br>"
   ]
  },
  {
   "cell_type": "code",
   "execution_count": 55,
   "metadata": {},
   "outputs": [
    {
     "data": {
      "text/plain": [
       "Region                     object\n",
       "No. of Tourists             int64\n",
       "Average Temperature (F)     int64\n",
       "dtype: object"
      ]
     },
     "execution_count": 55,
     "metadata": {},
     "output_type": "execute_result"
    }
   ],
   "source": [
    "#print(f'Data-types of columns of Data Frame: {df.dtypes}') #returns the datatype of the dataframe\n",
    "df.dtypes"
   ]
  },
  {
   "cell_type": "code",
   "execution_count": 56,
   "metadata": {},
   "outputs": [
    {
     "data": {
      "text/plain": [
       "dtype('O')"
      ]
     },
     "execution_count": 56,
     "metadata": {},
     "output_type": "execute_result"
    }
   ],
   "source": [
    "# to find the datatype of the series\n",
    "df['Region'].dtype #change the city name to 'No. of Tourist and see the datatype"
   ]
  },
  {
   "cell_type": "markdown",
   "metadata": {},
   "source": [
    "#### `df.size` - Returns the number of elements in the DataFrame.<br>"
   ]
  },
  {
   "cell_type": "code",
   "execution_count": 57,
   "metadata": {},
   "outputs": [
    {
     "data": {
      "text/plain": [
       "15"
      ]
     },
     "execution_count": 57,
     "metadata": {},
     "output_type": "execute_result"
    }
   ],
   "source": [
    "#print(f'Size of Data Frame: {df.size}') #returns the length of the dataframe\n",
    "df.size"
   ]
  },
  {
   "cell_type": "markdown",
   "metadata": {},
   "source": [
    "#### `df.min()` - Return the minmum value"
   ]
  },
  {
   "cell_type": "code",
   "execution_count": 58,
   "metadata": {},
   "outputs": [
    {
     "data": {
      "text/plain": [
       "15000000"
      ]
     },
     "execution_count": 58,
     "metadata": {},
     "output_type": "execute_result"
    }
   ],
   "source": [
    "df['No. of Tourists'].min()"
   ]
  },
  {
   "cell_type": "markdown",
   "metadata": {},
   "source": [
    "#### `df.max()` - Returns the maximmum value"
   ]
  },
  {
   "cell_type": "code",
   "execution_count": 59,
   "metadata": {},
   "outputs": [
    {
     "data": {
      "text/plain": [
       "85"
      ]
     },
     "execution_count": 59,
     "metadata": {},
     "output_type": "execute_result"
    }
   ],
   "source": [
    "df['Average Temperature (F)'].max()"
   ]
  },
  {
   "cell_type": "markdown",
   "metadata": {},
   "source": [
    "#### `df.unique()` - The .unique method will return a NumPy array with the unique values."
   ]
  },
  {
   "cell_type": "code",
   "execution_count": 60,
   "metadata": {},
   "outputs": [
    {
     "data": {
      "text/plain": [
       "array([55, 65, 75, 85])"
      ]
     },
     "execution_count": 60,
     "metadata": {},
     "output_type": "execute_result"
    }
   ],
   "source": [
    "df['Average Temperature (F)'].unique()"
   ]
  },
  {
   "cell_type": "markdown",
   "metadata": {},
   "source": [
    "### DataFrame and Series Methods\n",
    "`head()`<br>\n",
    "`tail()`<br>\n",
    "`info()`<br>\n",
    "`describe()`<br>\n",
    "`drop()`<br>\n",
    "`value_counts()`<br>\n",
    "`rename()`\n"
   ]
  },
  {
   "cell_type": "markdown",
   "metadata": {},
   "source": [
    "#### `head()`: Shows the first n rows of the dataframe.<br>"
   ]
  },
  {
   "cell_type": "code",
   "execution_count": 61,
   "metadata": {},
   "outputs": [
    {
     "name": "stdout",
     "output_type": "stream",
     "text": [
      "First 5 rows of the data\n",
      "          Region  No. of Tourists  Average Temperature (F)\n",
      "0         Europe         30000000                       55\n",
      "1  North America         25000000                       65\n",
      "2           Asia         45000000                       75\n",
      "3         Africa         15000000                       85\n",
      "4  South America         22000000                       75\n"
     ]
    }
   ],
   "source": [
    "# Data containing popular cities and some information regarding City, state, population, temp.\n",
    "# this is not a true data and has been created for understanding the concept purpose\n",
    "data = {\n",
    "    'City Name': ['New York City', 'Los Angeles', 'Chicago', 'Houston', 'Phoenix', 'Philadelphia', 'San Antonio', 'San Diego', 'Dallas', 'San Jose'],\n",
    "    'State Name': ['New York', 'California', 'Illinois', 'Texas', 'Arizona', 'Pennsylvania', 'Texas', 'California', 'Texas', None],\n",
    "    'Population (approx.)': [8400000, 4000000, 2700000, 2300000, 1600000, 1600000, 1500000, 1400000, 1400000, 1000000],\n",
    "    'Average Temperature (F)': [52, 64, 51, 69, 78, 54, 72, 67, 66, 62],\n",
    "    'Average Income (USD)': [73000, 68000, None, 65000, 58000,None, 55000, 70000, 63000, None]\n",
    "}\n",
    "city_df = pd.DataFrame(data)\n",
    "\n",
    "\n",
    "# use head() to get the first n rows of dataframe\n",
    "print(f'First 5 rows of the data\\n{df.head(5)}') #replace 5 with any other number to see the results"
   ]
  },
  {
   "cell_type": "markdown",
   "metadata": {},
   "source": [
    "#### `tail()`: Shows the last n rows of the dataframe.<br>"
   ]
  },
  {
   "cell_type": "code",
   "execution_count": 62,
   "metadata": {},
   "outputs": [
    {
     "name": "stdout",
     "output_type": "stream",
     "text": [
      "Last 6 rows of the data\n",
      "      City Name    State Name  Population (approx.)  Average Temperature (F)  \\\n",
      "4       Phoenix       Arizona               1600000                       78   \n",
      "5  Philadelphia  Pennsylvania               1600000                       54   \n",
      "6   San Antonio         Texas               1500000                       72   \n",
      "7     San Diego    California               1400000                       67   \n",
      "8        Dallas         Texas               1400000                       66   \n",
      "9      San Jose          None               1000000                       62   \n",
      "\n",
      "   Average Income (USD)  \n",
      "4               58000.0  \n",
      "5                   NaN  \n",
      "6               55000.0  \n",
      "7               70000.0  \n",
      "8               63000.0  \n",
      "9                   NaN  \n"
     ]
    }
   ],
   "source": [
    "# use tail to get the last n rows of the dataframe\n",
    "print(f'Last 6 rows of the data\\n{city_df.tail(6)}') # replace 6 with any no. to see the results"
   ]
  },
  {
   "cell_type": "markdown",
   "metadata": {},
   "source": [
    "#### `info()`: Provides a summary of the DataFrame, including the index dtype, column dtypes, non-null values, and memory usage.<br>"
   ]
  },
  {
   "cell_type": "code",
   "execution_count": 63,
   "metadata": {},
   "outputs": [
    {
     "name": "stdout",
     "output_type": "stream",
     "text": [
      "<class 'pandas.core.frame.DataFrame'>\n",
      "RangeIndex: 10 entries, 0 to 9\n",
      "Data columns (total 5 columns):\n",
      " #   Column                   Non-Null Count  Dtype  \n",
      "---  ------                   --------------  -----  \n",
      " 0   City Name                10 non-null     object \n",
      " 1   State Name               9 non-null      object \n",
      " 2   Population (approx.)     10 non-null     int64  \n",
      " 3   Average Temperature (F)  10 non-null     int64  \n",
      " 4   Average Income (USD)     7 non-null      float64\n",
      "dtypes: float64(1), int64(2), object(2)\n",
      "memory usage: 532.0+ bytes\n"
     ]
    }
   ],
   "source": [
    "city_df.info()"
   ]
  },
  {
   "cell_type": "markdown",
   "metadata": {},
   "source": [
    "#### `describe()`: Generates descriptive statistics that summarize the central tendency, dispersion, and shape of a dataset’s distribution, excluding NaN values.<br>"
   ]
  },
  {
   "cell_type": "code",
   "execution_count": 64,
   "metadata": {},
   "outputs": [
    {
     "data": {
      "text/html": [
       "<div>\n",
       "<style scoped>\n",
       "    .dataframe tbody tr th:only-of-type {\n",
       "        vertical-align: middle;\n",
       "    }\n",
       "\n",
       "    .dataframe tbody tr th {\n",
       "        vertical-align: top;\n",
       "    }\n",
       "\n",
       "    .dataframe thead th {\n",
       "        text-align: right;\n",
       "    }\n",
       "</style>\n",
       "<table border=\"1\" class=\"dataframe\">\n",
       "  <thead>\n",
       "    <tr style=\"text-align: right;\">\n",
       "      <th></th>\n",
       "      <th>Population (approx.)</th>\n",
       "      <th>Average Temperature (F)</th>\n",
       "      <th>Average Income (USD)</th>\n",
       "    </tr>\n",
       "  </thead>\n",
       "  <tbody>\n",
       "    <tr>\n",
       "      <th>count</th>\n",
       "      <td>1.000000e+01</td>\n",
       "      <td>10.000000</td>\n",
       "      <td>7.000000</td>\n",
       "    </tr>\n",
       "    <tr>\n",
       "      <th>mean</th>\n",
       "      <td>2.590000e+06</td>\n",
       "      <td>63.500000</td>\n",
       "      <td>64571.428571</td>\n",
       "    </tr>\n",
       "    <tr>\n",
       "      <th>std</th>\n",
       "      <td>2.219835e+06</td>\n",
       "      <td>8.897565</td>\n",
       "      <td>6451.282634</td>\n",
       "    </tr>\n",
       "    <tr>\n",
       "      <th>min</th>\n",
       "      <td>1.000000e+06</td>\n",
       "      <td>51.000000</td>\n",
       "      <td>55000.000000</td>\n",
       "    </tr>\n",
       "    <tr>\n",
       "      <th>25%</th>\n",
       "      <td>1.425000e+06</td>\n",
       "      <td>56.000000</td>\n",
       "      <td>60500.000000</td>\n",
       "    </tr>\n",
       "    <tr>\n",
       "      <th>50%</th>\n",
       "      <td>1.600000e+06</td>\n",
       "      <td>65.000000</td>\n",
       "      <td>65000.000000</td>\n",
       "    </tr>\n",
       "    <tr>\n",
       "      <th>75%</th>\n",
       "      <td>2.600000e+06</td>\n",
       "      <td>68.500000</td>\n",
       "      <td>69000.000000</td>\n",
       "    </tr>\n",
       "    <tr>\n",
       "      <th>max</th>\n",
       "      <td>8.400000e+06</td>\n",
       "      <td>78.000000</td>\n",
       "      <td>73000.000000</td>\n",
       "    </tr>\n",
       "  </tbody>\n",
       "</table>\n",
       "</div>"
      ],
      "text/plain": [
       "       Population (approx.)  Average Temperature (F)  Average Income (USD)\n",
       "count          1.000000e+01                10.000000              7.000000\n",
       "mean           2.590000e+06                63.500000          64571.428571\n",
       "std            2.219835e+06                 8.897565           6451.282634\n",
       "min            1.000000e+06                51.000000          55000.000000\n",
       "25%            1.425000e+06                56.000000          60500.000000\n",
       "50%            1.600000e+06                65.000000          65000.000000\n",
       "75%            2.600000e+06                68.500000          69000.000000\n",
       "max            8.400000e+06                78.000000          73000.000000"
      ]
     },
     "execution_count": 64,
     "metadata": {},
     "output_type": "execute_result"
    }
   ],
   "source": [
    "city_df.describe()"
   ]
  },
  {
   "cell_type": "markdown",
   "metadata": {},
   "source": [
    "#### `drop()`: Drops specified labels from rows or columns.<br>\n"
   ]
  },
  {
   "cell_type": "code",
   "execution_count": 65,
   "metadata": {},
   "outputs": [
    {
     "data": {
      "text/html": [
       "<div>\n",
       "<style scoped>\n",
       "    .dataframe tbody tr th:only-of-type {\n",
       "        vertical-align: middle;\n",
       "    }\n",
       "\n",
       "    .dataframe tbody tr th {\n",
       "        vertical-align: top;\n",
       "    }\n",
       "\n",
       "    .dataframe thead th {\n",
       "        text-align: right;\n",
       "    }\n",
       "</style>\n",
       "<table border=\"1\" class=\"dataframe\">\n",
       "  <thead>\n",
       "    <tr style=\"text-align: right;\">\n",
       "      <th></th>\n",
       "      <th>City Name</th>\n",
       "      <th>State Name</th>\n",
       "      <th>Population (approx.)</th>\n",
       "      <th>Average Temperature (F)</th>\n",
       "      <th>Average Income (USD)</th>\n",
       "    </tr>\n",
       "  </thead>\n",
       "  <tbody>\n",
       "    <tr>\n",
       "      <th>0</th>\n",
       "      <td>New York City</td>\n",
       "      <td>New York</td>\n",
       "      <td>8400000</td>\n",
       "      <td>52</td>\n",
       "      <td>73000.0</td>\n",
       "    </tr>\n",
       "    <tr>\n",
       "      <th>1</th>\n",
       "      <td>Los Angeles</td>\n",
       "      <td>California</td>\n",
       "      <td>4000000</td>\n",
       "      <td>64</td>\n",
       "      <td>68000.0</td>\n",
       "    </tr>\n",
       "    <tr>\n",
       "      <th>2</th>\n",
       "      <td>Chicago</td>\n",
       "      <td>Illinois</td>\n",
       "      <td>2700000</td>\n",
       "      <td>51</td>\n",
       "      <td>NaN</td>\n",
       "    </tr>\n",
       "    <tr>\n",
       "      <th>3</th>\n",
       "      <td>Houston</td>\n",
       "      <td>Texas</td>\n",
       "      <td>2300000</td>\n",
       "      <td>69</td>\n",
       "      <td>65000.0</td>\n",
       "    </tr>\n",
       "    <tr>\n",
       "      <th>4</th>\n",
       "      <td>Phoenix</td>\n",
       "      <td>Arizona</td>\n",
       "      <td>1600000</td>\n",
       "      <td>78</td>\n",
       "      <td>58000.0</td>\n",
       "    </tr>\n",
       "    <tr>\n",
       "      <th>5</th>\n",
       "      <td>Philadelphia</td>\n",
       "      <td>Pennsylvania</td>\n",
       "      <td>1600000</td>\n",
       "      <td>54</td>\n",
       "      <td>NaN</td>\n",
       "    </tr>\n",
       "    <tr>\n",
       "      <th>6</th>\n",
       "      <td>San Antonio</td>\n",
       "      <td>Texas</td>\n",
       "      <td>1500000</td>\n",
       "      <td>72</td>\n",
       "      <td>55000.0</td>\n",
       "    </tr>\n",
       "    <tr>\n",
       "      <th>7</th>\n",
       "      <td>San Diego</td>\n",
       "      <td>California</td>\n",
       "      <td>1400000</td>\n",
       "      <td>67</td>\n",
       "      <td>70000.0</td>\n",
       "    </tr>\n",
       "    <tr>\n",
       "      <th>8</th>\n",
       "      <td>Dallas</td>\n",
       "      <td>Texas</td>\n",
       "      <td>1400000</td>\n",
       "      <td>66</td>\n",
       "      <td>63000.0</td>\n",
       "    </tr>\n",
       "    <tr>\n",
       "      <th>9</th>\n",
       "      <td>San Jose</td>\n",
       "      <td>None</td>\n",
       "      <td>1000000</td>\n",
       "      <td>62</td>\n",
       "      <td>NaN</td>\n",
       "    </tr>\n",
       "  </tbody>\n",
       "</table>\n",
       "</div>"
      ],
      "text/plain": [
       "       City Name    State Name  Population (approx.)  Average Temperature (F)  \\\n",
       "0  New York City      New York               8400000                       52   \n",
       "1    Los Angeles    California               4000000                       64   \n",
       "2        Chicago      Illinois               2700000                       51   \n",
       "3        Houston         Texas               2300000                       69   \n",
       "4        Phoenix       Arizona               1600000                       78   \n",
       "5   Philadelphia  Pennsylvania               1600000                       54   \n",
       "6    San Antonio         Texas               1500000                       72   \n",
       "7      San Diego    California               1400000                       67   \n",
       "8         Dallas         Texas               1400000                       66   \n",
       "9       San Jose          None               1000000                       62   \n",
       "\n",
       "   Average Income (USD)  \n",
       "0               73000.0  \n",
       "1               68000.0  \n",
       "2                   NaN  \n",
       "3               65000.0  \n",
       "4               58000.0  \n",
       "5                   NaN  \n",
       "6               55000.0  \n",
       "7               70000.0  \n",
       "8               63000.0  \n",
       "9                   NaN  "
      ]
     },
     "execution_count": 65,
     "metadata": {},
     "output_type": "execute_result"
    }
   ],
   "source": [
    "# Let's delete the column 'Average Income(USD)'\n",
    "city_df.drop(columns = ['Average Income (USD)'],axis = 1,inplace = False) \n",
    "city_df\n",
    "\n",
    "#If the column does not exist it will throw an error.\n",
    "#modify the inplace = True and print the df(DataFrame) in the next cell to see the results\n",
    "#city_df.drop(5,axis=0)"
   ]
  },
  {
   "cell_type": "markdown",
   "metadata": {},
   "source": [
    "When `inplace = False` , which is the default, then the operation is performed and it returns a copy of the object. You then need to save it to something. When `inplace = True` , the data is modified in place, which means it will return nothing and the dataframe is now updated"
   ]
  },
  {
   "cell_type": "markdown",
   "metadata": {},
   "source": [
    "#### `value_counts()`: Returns a Series containing counts of unique values."
   ]
  },
  {
   "cell_type": "code",
   "execution_count": 66,
   "metadata": {},
   "outputs": [
    {
     "name": "stdout",
     "output_type": "stream",
     "text": [
      "object     2\n",
      "int64      2\n",
      "float64    1\n",
      "Name: count, dtype: int64\n",
      "\n",
      "State Name\n",
      "Texas           3\n",
      "California      2\n",
      "New York        1\n",
      "Illinois        1\n",
      "Arizona         1\n",
      "Pennsylvania    1\n",
      "Name: count, dtype: int64\n"
     ]
    }
   ],
   "source": [
    "#The .value_counts method returns the count of all the data types in the DataFrame \n",
    "# when called on the .dtypes attribute.\n",
    "dtypes_count=city_df.dtypes.value_counts() \n",
    "print(dtypes_count)\n",
    "\n",
    "print(f'')\n",
    "u_state_count=city_df['State Name'].value_counts() #gives count of unique states from the dataframe\n",
    "print(f'{u_state_count}')"
   ]
  },
  {
   "cell_type": "markdown",
   "metadata": {},
   "source": [
    "#### `rename()` - This method allows you to rename columns or index labels with a dictionary mapping of old names to new names."
   ]
  },
  {
   "cell_type": "code",
   "execution_count": 67,
   "metadata": {},
   "outputs": [
    {
     "data": {
      "text/html": [
       "<div>\n",
       "<style scoped>\n",
       "    .dataframe tbody tr th:only-of-type {\n",
       "        vertical-align: middle;\n",
       "    }\n",
       "\n",
       "    .dataframe tbody tr th {\n",
       "        vertical-align: top;\n",
       "    }\n",
       "\n",
       "    .dataframe thead th {\n",
       "        text-align: right;\n",
       "    }\n",
       "</style>\n",
       "<table border=\"1\" class=\"dataframe\">\n",
       "  <thead>\n",
       "    <tr style=\"text-align: right;\">\n",
       "      <th></th>\n",
       "      <th>city_name</th>\n",
       "      <th>state_name</th>\n",
       "      <th>population_approx</th>\n",
       "      <th>avg.temp_f</th>\n",
       "      <th>avg_income_usd</th>\n",
       "    </tr>\n",
       "  </thead>\n",
       "  <tbody>\n",
       "    <tr>\n",
       "      <th>0</th>\n",
       "      <td>New York City</td>\n",
       "      <td>New York</td>\n",
       "      <td>8400000</td>\n",
       "      <td>52</td>\n",
       "      <td>73000.0</td>\n",
       "    </tr>\n",
       "    <tr>\n",
       "      <th>1</th>\n",
       "      <td>Los Angeles</td>\n",
       "      <td>California</td>\n",
       "      <td>4000000</td>\n",
       "      <td>64</td>\n",
       "      <td>68000.0</td>\n",
       "    </tr>\n",
       "    <tr>\n",
       "      <th>2</th>\n",
       "      <td>Chicago</td>\n",
       "      <td>Illinois</td>\n",
       "      <td>2700000</td>\n",
       "      <td>51</td>\n",
       "      <td>NaN</td>\n",
       "    </tr>\n",
       "    <tr>\n",
       "      <th>3</th>\n",
       "      <td>Houston</td>\n",
       "      <td>Texas</td>\n",
       "      <td>2300000</td>\n",
       "      <td>69</td>\n",
       "      <td>65000.0</td>\n",
       "    </tr>\n",
       "    <tr>\n",
       "      <th>4</th>\n",
       "      <td>Phoenix</td>\n",
       "      <td>Arizona</td>\n",
       "      <td>1600000</td>\n",
       "      <td>78</td>\n",
       "      <td>58000.0</td>\n",
       "    </tr>\n",
       "    <tr>\n",
       "      <th>5</th>\n",
       "      <td>Philadelphia</td>\n",
       "      <td>Pennsylvania</td>\n",
       "      <td>1600000</td>\n",
       "      <td>54</td>\n",
       "      <td>NaN</td>\n",
       "    </tr>\n",
       "    <tr>\n",
       "      <th>6</th>\n",
       "      <td>San Antonio</td>\n",
       "      <td>Texas</td>\n",
       "      <td>1500000</td>\n",
       "      <td>72</td>\n",
       "      <td>55000.0</td>\n",
       "    </tr>\n",
       "    <tr>\n",
       "      <th>7</th>\n",
       "      <td>San Diego</td>\n",
       "      <td>California</td>\n",
       "      <td>1400000</td>\n",
       "      <td>67</td>\n",
       "      <td>70000.0</td>\n",
       "    </tr>\n",
       "    <tr>\n",
       "      <th>8</th>\n",
       "      <td>Dallas</td>\n",
       "      <td>Texas</td>\n",
       "      <td>1400000</td>\n",
       "      <td>66</td>\n",
       "      <td>63000.0</td>\n",
       "    </tr>\n",
       "    <tr>\n",
       "      <th>9</th>\n",
       "      <td>San Jose</td>\n",
       "      <td>None</td>\n",
       "      <td>1000000</td>\n",
       "      <td>62</td>\n",
       "      <td>NaN</td>\n",
       "    </tr>\n",
       "  </tbody>\n",
       "</table>\n",
       "</div>"
      ],
      "text/plain": [
       "       city_name    state_name  population_approx  avg.temp_f  avg_income_usd\n",
       "0  New York City      New York            8400000          52         73000.0\n",
       "1    Los Angeles    California            4000000          64         68000.0\n",
       "2        Chicago      Illinois            2700000          51             NaN\n",
       "3        Houston         Texas            2300000          69         65000.0\n",
       "4        Phoenix       Arizona            1600000          78         58000.0\n",
       "5   Philadelphia  Pennsylvania            1600000          54             NaN\n",
       "6    San Antonio         Texas            1500000          72         55000.0\n",
       "7      San Diego    California            1400000          67         70000.0\n",
       "8         Dallas         Texas            1400000          66         63000.0\n",
       "9       San Jose          None            1000000          62             NaN"
      ]
     },
     "execution_count": 67,
     "metadata": {},
     "output_type": "execute_result"
    }
   ],
   "source": [
    "# lets rename all the columns \n",
    "city_df.rename(columns={\n",
    "    'City Name':'city_name',\n",
    "    'State Name':'state_name',\n",
    "    'Population (approx.)':'population_approx',\n",
    "    'Average Temperature (F)':'avg.temp_f',\n",
    "    'Average Income (USD)':'avg_income_usd'\n",
    "    }, inplace = True)\n",
    "\n",
    "city_df"
   ]
  },
  {
   "cell_type": "markdown",
   "metadata": {},
   "source": [
    "# Accesing Data, Quering Rows and Columns"
   ]
  },
  {
   "cell_type": "markdown",
   "metadata": {},
   "source": [
    "### Selecting Columns"
   ]
  },
  {
   "cell_type": "code",
   "execution_count": 68,
   "metadata": {},
   "outputs": [
    {
     "data": {
      "text/plain": [
       "0        New York\n",
       "1      California\n",
       "2        Illinois\n",
       "3           Texas\n",
       "4         Arizona\n",
       "5    Pennsylvania\n",
       "6           Texas\n",
       "7      California\n",
       "8           Texas\n",
       "9            None\n",
       "Name: state_name, dtype: object"
      ]
     },
     "execution_count": 68,
     "metadata": {},
     "output_type": "execute_result"
    }
   ],
   "source": [
    "city_df['state_name'] #selecting single column"
   ]
  },
  {
   "cell_type": "code",
   "execution_count": 69,
   "metadata": {},
   "outputs": [
    {
     "data": {
      "text/html": [
       "<div>\n",
       "<style scoped>\n",
       "    .dataframe tbody tr th:only-of-type {\n",
       "        vertical-align: middle;\n",
       "    }\n",
       "\n",
       "    .dataframe tbody tr th {\n",
       "        vertical-align: top;\n",
       "    }\n",
       "\n",
       "    .dataframe thead th {\n",
       "        text-align: right;\n",
       "    }\n",
       "</style>\n",
       "<table border=\"1\" class=\"dataframe\">\n",
       "  <thead>\n",
       "    <tr style=\"text-align: right;\">\n",
       "      <th></th>\n",
       "      <th>city_name</th>\n",
       "      <th>avg.temp_f</th>\n",
       "      <th>state_name</th>\n",
       "    </tr>\n",
       "  </thead>\n",
       "  <tbody>\n",
       "    <tr>\n",
       "      <th>0</th>\n",
       "      <td>New York City</td>\n",
       "      <td>52</td>\n",
       "      <td>New York</td>\n",
       "    </tr>\n",
       "    <tr>\n",
       "      <th>1</th>\n",
       "      <td>Los Angeles</td>\n",
       "      <td>64</td>\n",
       "      <td>California</td>\n",
       "    </tr>\n",
       "    <tr>\n",
       "      <th>2</th>\n",
       "      <td>Chicago</td>\n",
       "      <td>51</td>\n",
       "      <td>Illinois</td>\n",
       "    </tr>\n",
       "    <tr>\n",
       "      <th>3</th>\n",
       "      <td>Houston</td>\n",
       "      <td>69</td>\n",
       "      <td>Texas</td>\n",
       "    </tr>\n",
       "    <tr>\n",
       "      <th>4</th>\n",
       "      <td>Phoenix</td>\n",
       "      <td>78</td>\n",
       "      <td>Arizona</td>\n",
       "    </tr>\n",
       "    <tr>\n",
       "      <th>5</th>\n",
       "      <td>Philadelphia</td>\n",
       "      <td>54</td>\n",
       "      <td>Pennsylvania</td>\n",
       "    </tr>\n",
       "    <tr>\n",
       "      <th>6</th>\n",
       "      <td>San Antonio</td>\n",
       "      <td>72</td>\n",
       "      <td>Texas</td>\n",
       "    </tr>\n",
       "    <tr>\n",
       "      <th>7</th>\n",
       "      <td>San Diego</td>\n",
       "      <td>67</td>\n",
       "      <td>California</td>\n",
       "    </tr>\n",
       "    <tr>\n",
       "      <th>8</th>\n",
       "      <td>Dallas</td>\n",
       "      <td>66</td>\n",
       "      <td>Texas</td>\n",
       "    </tr>\n",
       "    <tr>\n",
       "      <th>9</th>\n",
       "      <td>San Jose</td>\n",
       "      <td>62</td>\n",
       "      <td>None</td>\n",
       "    </tr>\n",
       "  </tbody>\n",
       "</table>\n",
       "</div>"
      ],
      "text/plain": [
       "       city_name  avg.temp_f    state_name\n",
       "0  New York City          52      New York\n",
       "1    Los Angeles          64    California\n",
       "2        Chicago          51      Illinois\n",
       "3        Houston          69         Texas\n",
       "4        Phoenix          78       Arizona\n",
       "5   Philadelphia          54  Pennsylvania\n",
       "6    San Antonio          72         Texas\n",
       "7      San Diego          67    California\n",
       "8         Dallas          66         Texas\n",
       "9       San Jose          62          None"
      ]
     },
     "execution_count": 69,
     "metadata": {},
     "output_type": "execute_result"
    }
   ],
   "source": [
    "city_df[['city_name','avg.temp_f','state_name']] #selecting multiple columns"
   ]
  },
  {
   "cell_type": "markdown",
   "metadata": {},
   "source": [
    "### `loc` Method\n",
    "\n",
    "loc is label-based, which means that you have to specify rows and columns based on their labels."
   ]
  },
  {
   "cell_type": "code",
   "execution_count": 70,
   "metadata": {},
   "outputs": [
    {
     "data": {
      "text/plain": [
       "0        New York\n",
       "1      California\n",
       "2        Illinois\n",
       "3           Texas\n",
       "4         Arizona\n",
       "5    Pennsylvania\n",
       "6           Texas\n",
       "7      California\n",
       "8           Texas\n",
       "9            None\n",
       "Name: state_name, dtype: object"
      ]
     },
     "execution_count": 70,
     "metadata": {},
     "output_type": "execute_result"
    }
   ],
   "source": [
    "#Let's Use the above city example\n",
    "city_df.loc[:,\"state_name\"] #print all the rows of the colum 'state_name'"
   ]
  },
  {
   "cell_type": "code",
   "execution_count": 71,
   "metadata": {},
   "outputs": [
    {
     "data": {
      "text/plain": [
       "city_name            New York City\n",
       "state_name                New York\n",
       "population_approx          8400000\n",
       "avg.temp_f                      52\n",
       "avg_income_usd             73000.0\n",
       "Name: 0, dtype: object"
      ]
     },
     "execution_count": 71,
     "metadata": {},
     "output_type": "execute_result"
    }
   ],
   "source": [
    "city_df.loc[0] #Print only the first row"
   ]
  },
  {
   "cell_type": "code",
   "execution_count": 72,
   "metadata": {},
   "outputs": [
    {
     "data": {
      "text/html": [
       "<div>\n",
       "<style scoped>\n",
       "    .dataframe tbody tr th:only-of-type {\n",
       "        vertical-align: middle;\n",
       "    }\n",
       "\n",
       "    .dataframe tbody tr th {\n",
       "        vertical-align: top;\n",
       "    }\n",
       "\n",
       "    .dataframe thead th {\n",
       "        text-align: right;\n",
       "    }\n",
       "</style>\n",
       "<table border=\"1\" class=\"dataframe\">\n",
       "  <thead>\n",
       "    <tr style=\"text-align: right;\">\n",
       "      <th></th>\n",
       "      <th>city_name</th>\n",
       "      <th>state_name</th>\n",
       "      <th>population_approx</th>\n",
       "      <th>avg.temp_f</th>\n",
       "      <th>avg_income_usd</th>\n",
       "    </tr>\n",
       "  </thead>\n",
       "  <tbody>\n",
       "    <tr>\n",
       "      <th>0</th>\n",
       "      <td>New York City</td>\n",
       "      <td>New York</td>\n",
       "      <td>8400000</td>\n",
       "      <td>52</td>\n",
       "      <td>73000.0</td>\n",
       "    </tr>\n",
       "    <tr>\n",
       "      <th>1</th>\n",
       "      <td>Los Angeles</td>\n",
       "      <td>California</td>\n",
       "      <td>4000000</td>\n",
       "      <td>64</td>\n",
       "      <td>68000.0</td>\n",
       "    </tr>\n",
       "    <tr>\n",
       "      <th>2</th>\n",
       "      <td>Chicago</td>\n",
       "      <td>Illinois</td>\n",
       "      <td>2700000</td>\n",
       "      <td>51</td>\n",
       "      <td>NaN</td>\n",
       "    </tr>\n",
       "    <tr>\n",
       "      <th>3</th>\n",
       "      <td>Houston</td>\n",
       "      <td>Texas</td>\n",
       "      <td>2300000</td>\n",
       "      <td>69</td>\n",
       "      <td>65000.0</td>\n",
       "    </tr>\n",
       "    <tr>\n",
       "      <th>4</th>\n",
       "      <td>Phoenix</td>\n",
       "      <td>Arizona</td>\n",
       "      <td>1600000</td>\n",
       "      <td>78</td>\n",
       "      <td>58000.0</td>\n",
       "    </tr>\n",
       "    <tr>\n",
       "      <th>5</th>\n",
       "      <td>Philadelphia</td>\n",
       "      <td>Pennsylvania</td>\n",
       "      <td>1600000</td>\n",
       "      <td>54</td>\n",
       "      <td>NaN</td>\n",
       "    </tr>\n",
       "  </tbody>\n",
       "</table>\n",
       "</div>"
      ],
      "text/plain": [
       "       city_name    state_name  population_approx  avg.temp_f  avg_income_usd\n",
       "0  New York City      New York            8400000          52         73000.0\n",
       "1    Los Angeles    California            4000000          64         68000.0\n",
       "2        Chicago      Illinois            2700000          51             NaN\n",
       "3        Houston         Texas            2300000          69         65000.0\n",
       "4        Phoenix       Arizona            1600000          78         58000.0\n",
       "5   Philadelphia  Pennsylvania            1600000          54             NaN"
      ]
     },
     "execution_count": 72,
     "metadata": {},
     "output_type": "execute_result"
    }
   ],
   "source": [
    "city_df.loc[0:5] #print the first 6 rows"
   ]
  },
  {
   "cell_type": "code",
   "execution_count": 73,
   "metadata": {},
   "outputs": [
    {
     "data": {
      "text/html": [
       "<div>\n",
       "<style scoped>\n",
       "    .dataframe tbody tr th:only-of-type {\n",
       "        vertical-align: middle;\n",
       "    }\n",
       "\n",
       "    .dataframe tbody tr th {\n",
       "        vertical-align: top;\n",
       "    }\n",
       "\n",
       "    .dataframe thead th {\n",
       "        text-align: right;\n",
       "    }\n",
       "</style>\n",
       "<table border=\"1\" class=\"dataframe\">\n",
       "  <thead>\n",
       "    <tr style=\"text-align: right;\">\n",
       "      <th></th>\n",
       "      <th>city_name</th>\n",
       "      <th>population_approx</th>\n",
       "    </tr>\n",
       "  </thead>\n",
       "  <tbody>\n",
       "    <tr>\n",
       "      <th>0</th>\n",
       "      <td>New York City</td>\n",
       "      <td>8400000</td>\n",
       "    </tr>\n",
       "    <tr>\n",
       "      <th>1</th>\n",
       "      <td>Los Angeles</td>\n",
       "      <td>4000000</td>\n",
       "    </tr>\n",
       "    <tr>\n",
       "      <th>2</th>\n",
       "      <td>Chicago</td>\n",
       "      <td>2700000</td>\n",
       "    </tr>\n",
       "  </tbody>\n",
       "</table>\n",
       "</div>"
      ],
      "text/plain": [
       "       city_name  population_approx\n",
       "0  New York City            8400000\n",
       "1    Los Angeles            4000000\n",
       "2        Chicago            2700000"
      ]
     },
     "execution_count": 73,
     "metadata": {},
     "output_type": "execute_result"
    }
   ],
   "source": [
    "city_df.loc[0:2,['city_name','population_approx']] #prints mutiple rows and columns"
   ]
  },
  {
   "cell_type": "markdown",
   "metadata": {},
   "source": [
    "### `iloc` Method\n",
    "\n",
    "It is an integer-based, which means you have to specify rows and columns by their integer position."
   ]
  },
  {
   "cell_type": "code",
   "execution_count": 74,
   "metadata": {},
   "outputs": [
    {
     "data": {
      "text/plain": [
       "city_name            Phoenix\n",
       "state_name           Arizona\n",
       "population_approx    1600000\n",
       "avg.temp_f                78\n",
       "avg_income_usd       58000.0\n",
       "Name: 4, dtype: object"
      ]
     },
     "execution_count": 74,
     "metadata": {},
     "output_type": "execute_result"
    }
   ],
   "source": [
    "city_df.iloc[4] #selecting a single row by interger position"
   ]
  },
  {
   "cell_type": "code",
   "execution_count": 75,
   "metadata": {},
   "outputs": [
    {
     "data": {
      "text/html": [
       "<div>\n",
       "<style scoped>\n",
       "    .dataframe tbody tr th:only-of-type {\n",
       "        vertical-align: middle;\n",
       "    }\n",
       "\n",
       "    .dataframe tbody tr th {\n",
       "        vertical-align: top;\n",
       "    }\n",
       "\n",
       "    .dataframe thead th {\n",
       "        text-align: right;\n",
       "    }\n",
       "</style>\n",
       "<table border=\"1\" class=\"dataframe\">\n",
       "  <thead>\n",
       "    <tr style=\"text-align: right;\">\n",
       "      <th></th>\n",
       "      <th>city_name</th>\n",
       "      <th>state_name</th>\n",
       "      <th>population_approx</th>\n",
       "      <th>avg.temp_f</th>\n",
       "      <th>avg_income_usd</th>\n",
       "    </tr>\n",
       "  </thead>\n",
       "  <tbody>\n",
       "    <tr>\n",
       "      <th>2</th>\n",
       "      <td>Chicago</td>\n",
       "      <td>Illinois</td>\n",
       "      <td>2700000</td>\n",
       "      <td>51</td>\n",
       "      <td>NaN</td>\n",
       "    </tr>\n",
       "    <tr>\n",
       "      <th>3</th>\n",
       "      <td>Houston</td>\n",
       "      <td>Texas</td>\n",
       "      <td>2300000</td>\n",
       "      <td>69</td>\n",
       "      <td>65000.0</td>\n",
       "    </tr>\n",
       "    <tr>\n",
       "      <th>4</th>\n",
       "      <td>Phoenix</td>\n",
       "      <td>Arizona</td>\n",
       "      <td>1600000</td>\n",
       "      <td>78</td>\n",
       "      <td>58000.0</td>\n",
       "    </tr>\n",
       "  </tbody>\n",
       "</table>\n",
       "</div>"
      ],
      "text/plain": [
       "  city_name state_name  population_approx  avg.temp_f  avg_income_usd\n",
       "2   Chicago   Illinois            2700000          51             NaN\n",
       "3   Houston      Texas            2300000          69         65000.0\n",
       "4   Phoenix    Arizona            1600000          78         58000.0"
      ]
     },
     "execution_count": 75,
     "metadata": {},
     "output_type": "execute_result"
    }
   ],
   "source": [
    "city_df.iloc[2:5] #selecting multiple rows"
   ]
  },
  {
   "cell_type": "code",
   "execution_count": 76,
   "metadata": {},
   "outputs": [
    {
     "data": {
      "text/plain": [
       "0    52\n",
       "1    64\n",
       "2    51\n",
       "3    69\n",
       "4    78\n",
       "5    54\n",
       "6    72\n",
       "7    67\n",
       "8    66\n",
       "9    62\n",
       "Name: avg.temp_f, dtype: int64"
      ]
     },
     "execution_count": 76,
     "metadata": {},
     "output_type": "execute_result"
    }
   ],
   "source": [
    "city_df.iloc[:,3] #Selecting all rows but a single column"
   ]
  },
  {
   "cell_type": "code",
   "execution_count": 77,
   "metadata": {},
   "outputs": [
    {
     "data": {
      "text/html": [
       "<div>\n",
       "<style scoped>\n",
       "    .dataframe tbody tr th:only-of-type {\n",
       "        vertical-align: middle;\n",
       "    }\n",
       "\n",
       "    .dataframe tbody tr th {\n",
       "        vertical-align: top;\n",
       "    }\n",
       "\n",
       "    .dataframe thead th {\n",
       "        text-align: right;\n",
       "    }\n",
       "</style>\n",
       "<table border=\"1\" class=\"dataframe\">\n",
       "  <thead>\n",
       "    <tr style=\"text-align: right;\">\n",
       "      <th></th>\n",
       "      <th>city_name</th>\n",
       "      <th>state_name</th>\n",
       "      <th>population_approx</th>\n",
       "    </tr>\n",
       "  </thead>\n",
       "  <tbody>\n",
       "    <tr>\n",
       "      <th>3</th>\n",
       "      <td>Houston</td>\n",
       "      <td>Texas</td>\n",
       "      <td>2300000</td>\n",
       "    </tr>\n",
       "    <tr>\n",
       "      <th>4</th>\n",
       "      <td>Phoenix</td>\n",
       "      <td>Arizona</td>\n",
       "      <td>1600000</td>\n",
       "    </tr>\n",
       "    <tr>\n",
       "      <th>5</th>\n",
       "      <td>Philadelphia</td>\n",
       "      <td>Pennsylvania</td>\n",
       "      <td>1600000</td>\n",
       "    </tr>\n",
       "  </tbody>\n",
       "</table>\n",
       "</div>"
      ],
      "text/plain": [
       "      city_name    state_name  population_approx\n",
       "3       Houston         Texas            2300000\n",
       "4       Phoenix       Arizona            1600000\n",
       "5  Philadelphia  Pennsylvania            1600000"
      ]
     },
     "execution_count": 77,
     "metadata": {},
     "output_type": "execute_result"
    }
   ],
   "source": [
    "city_df.iloc[3:6,0:3] #selecting multiple rows and columns"
   ]
  },
  {
   "cell_type": "markdown",
   "metadata": {},
   "source": [
    "### `Boolean Indexing`\n",
    "\n",
    "Boolean indexing allows you to filter data based on conditions."
   ]
  },
  {
   "cell_type": "code",
   "execution_count": 78,
   "metadata": {},
   "outputs": [
    {
     "data": {
      "text/html": [
       "<div>\n",
       "<style scoped>\n",
       "    .dataframe tbody tr th:only-of-type {\n",
       "        vertical-align: middle;\n",
       "    }\n",
       "\n",
       "    .dataframe tbody tr th {\n",
       "        vertical-align: top;\n",
       "    }\n",
       "\n",
       "    .dataframe thead th {\n",
       "        text-align: right;\n",
       "    }\n",
       "</style>\n",
       "<table border=\"1\" class=\"dataframe\">\n",
       "  <thead>\n",
       "    <tr style=\"text-align: right;\">\n",
       "      <th></th>\n",
       "      <th>city_name</th>\n",
       "      <th>state_name</th>\n",
       "      <th>population_approx</th>\n",
       "      <th>avg.temp_f</th>\n",
       "      <th>avg_income_usd</th>\n",
       "    </tr>\n",
       "  </thead>\n",
       "  <tbody>\n",
       "    <tr>\n",
       "      <th>0</th>\n",
       "      <td>New York City</td>\n",
       "      <td>New York</td>\n",
       "      <td>8400000</td>\n",
       "      <td>52</td>\n",
       "      <td>73000.0</td>\n",
       "    </tr>\n",
       "    <tr>\n",
       "      <th>1</th>\n",
       "      <td>Los Angeles</td>\n",
       "      <td>California</td>\n",
       "      <td>4000000</td>\n",
       "      <td>64</td>\n",
       "      <td>68000.0</td>\n",
       "    </tr>\n",
       "    <tr>\n",
       "      <th>2</th>\n",
       "      <td>Chicago</td>\n",
       "      <td>Illinois</td>\n",
       "      <td>2700000</td>\n",
       "      <td>51</td>\n",
       "      <td>NaN</td>\n",
       "    </tr>\n",
       "    <tr>\n",
       "      <th>3</th>\n",
       "      <td>Houston</td>\n",
       "      <td>Texas</td>\n",
       "      <td>2300000</td>\n",
       "      <td>69</td>\n",
       "      <td>65000.0</td>\n",
       "    </tr>\n",
       "    <tr>\n",
       "      <th>4</th>\n",
       "      <td>Phoenix</td>\n",
       "      <td>Arizona</td>\n",
       "      <td>1600000</td>\n",
       "      <td>78</td>\n",
       "      <td>58000.0</td>\n",
       "    </tr>\n",
       "    <tr>\n",
       "      <th>5</th>\n",
       "      <td>Philadelphia</td>\n",
       "      <td>Pennsylvania</td>\n",
       "      <td>1600000</td>\n",
       "      <td>54</td>\n",
       "      <td>NaN</td>\n",
       "    </tr>\n",
       "    <tr>\n",
       "      <th>6</th>\n",
       "      <td>San Antonio</td>\n",
       "      <td>Texas</td>\n",
       "      <td>1500000</td>\n",
       "      <td>72</td>\n",
       "      <td>55000.0</td>\n",
       "    </tr>\n",
       "    <tr>\n",
       "      <th>7</th>\n",
       "      <td>San Diego</td>\n",
       "      <td>California</td>\n",
       "      <td>1400000</td>\n",
       "      <td>67</td>\n",
       "      <td>70000.0</td>\n",
       "    </tr>\n",
       "    <tr>\n",
       "      <th>8</th>\n",
       "      <td>Dallas</td>\n",
       "      <td>Texas</td>\n",
       "      <td>1400000</td>\n",
       "      <td>66</td>\n",
       "      <td>63000.0</td>\n",
       "    </tr>\n",
       "    <tr>\n",
       "      <th>9</th>\n",
       "      <td>San Jose</td>\n",
       "      <td>None</td>\n",
       "      <td>1000000</td>\n",
       "      <td>62</td>\n",
       "      <td>NaN</td>\n",
       "    </tr>\n",
       "  </tbody>\n",
       "</table>\n",
       "</div>"
      ],
      "text/plain": [
       "       city_name    state_name  population_approx  avg.temp_f  avg_income_usd\n",
       "0  New York City      New York            8400000          52         73000.0\n",
       "1    Los Angeles    California            4000000          64         68000.0\n",
       "2        Chicago      Illinois            2700000          51             NaN\n",
       "3        Houston         Texas            2300000          69         65000.0\n",
       "4        Phoenix       Arizona            1600000          78         58000.0\n",
       "5   Philadelphia  Pennsylvania            1600000          54             NaN\n",
       "6    San Antonio         Texas            1500000          72         55000.0\n",
       "7      San Diego    California            1400000          67         70000.0\n",
       "8         Dallas         Texas            1400000          66         63000.0\n",
       "9       San Jose          None            1000000          62             NaN"
      ]
     },
     "execution_count": 78,
     "metadata": {},
     "output_type": "execute_result"
    }
   ],
   "source": [
    "city_df"
   ]
  },
  {
   "cell_type": "code",
   "execution_count": 79,
   "metadata": {},
   "outputs": [
    {
     "data": {
      "text/html": [
       "<div>\n",
       "<style scoped>\n",
       "    .dataframe tbody tr th:only-of-type {\n",
       "        vertical-align: middle;\n",
       "    }\n",
       "\n",
       "    .dataframe tbody tr th {\n",
       "        vertical-align: top;\n",
       "    }\n",
       "\n",
       "    .dataframe thead th {\n",
       "        text-align: right;\n",
       "    }\n",
       "</style>\n",
       "<table border=\"1\" class=\"dataframe\">\n",
       "  <thead>\n",
       "    <tr style=\"text-align: right;\">\n",
       "      <th></th>\n",
       "      <th>city_name</th>\n",
       "      <th>state_name</th>\n",
       "      <th>population_approx</th>\n",
       "      <th>avg.temp_f</th>\n",
       "      <th>avg_income_usd</th>\n",
       "    </tr>\n",
       "  </thead>\n",
       "  <tbody>\n",
       "    <tr>\n",
       "      <th>3</th>\n",
       "      <td>Houston</td>\n",
       "      <td>Texas</td>\n",
       "      <td>2300000</td>\n",
       "      <td>69</td>\n",
       "      <td>65000.0</td>\n",
       "    </tr>\n",
       "    <tr>\n",
       "      <th>6</th>\n",
       "      <td>San Antonio</td>\n",
       "      <td>Texas</td>\n",
       "      <td>1500000</td>\n",
       "      <td>72</td>\n",
       "      <td>55000.0</td>\n",
       "    </tr>\n",
       "    <tr>\n",
       "      <th>8</th>\n",
       "      <td>Dallas</td>\n",
       "      <td>Texas</td>\n",
       "      <td>1400000</td>\n",
       "      <td>66</td>\n",
       "      <td>63000.0</td>\n",
       "    </tr>\n",
       "  </tbody>\n",
       "</table>\n",
       "</div>"
      ],
      "text/plain": [
       "     city_name state_name  population_approx  avg.temp_f  avg_income_usd\n",
       "3      Houston      Texas            2300000          69         65000.0\n",
       "6  San Antonio      Texas            1500000          72         55000.0\n",
       "8       Dallas      Texas            1400000          66         63000.0"
      ]
     },
     "execution_count": 79,
     "metadata": {},
     "output_type": "execute_result"
    }
   ],
   "source": [
    "city_df[city_df['state_name']=='Texas']"
   ]
  },
  {
   "cell_type": "code",
   "execution_count": 80,
   "metadata": {},
   "outputs": [
    {
     "data": {
      "text/html": [
       "<div>\n",
       "<style scoped>\n",
       "    .dataframe tbody tr th:only-of-type {\n",
       "        vertical-align: middle;\n",
       "    }\n",
       "\n",
       "    .dataframe tbody tr th {\n",
       "        vertical-align: top;\n",
       "    }\n",
       "\n",
       "    .dataframe thead th {\n",
       "        text-align: right;\n",
       "    }\n",
       "</style>\n",
       "<table border=\"1\" class=\"dataframe\">\n",
       "  <thead>\n",
       "    <tr style=\"text-align: right;\">\n",
       "      <th></th>\n",
       "      <th>city_name</th>\n",
       "      <th>state_name</th>\n",
       "      <th>population_approx</th>\n",
       "      <th>avg.temp_f</th>\n",
       "      <th>avg_income_usd</th>\n",
       "    </tr>\n",
       "  </thead>\n",
       "  <tbody>\n",
       "    <tr>\n",
       "      <th>0</th>\n",
       "      <td>New York City</td>\n",
       "      <td>New York</td>\n",
       "      <td>8400000</td>\n",
       "      <td>52</td>\n",
       "      <td>73000.0</td>\n",
       "    </tr>\n",
       "    <tr>\n",
       "      <th>2</th>\n",
       "      <td>Chicago</td>\n",
       "      <td>Illinois</td>\n",
       "      <td>2700000</td>\n",
       "      <td>51</td>\n",
       "      <td>NaN</td>\n",
       "    </tr>\n",
       "    <tr>\n",
       "      <th>5</th>\n",
       "      <td>Philadelphia</td>\n",
       "      <td>Pennsylvania</td>\n",
       "      <td>1600000</td>\n",
       "      <td>54</td>\n",
       "      <td>NaN</td>\n",
       "    </tr>\n",
       "  </tbody>\n",
       "</table>\n",
       "</div>"
      ],
      "text/plain": [
       "       city_name    state_name  population_approx  avg.temp_f  avg_income_usd\n",
       "0  New York City      New York            8400000          52         73000.0\n",
       "2        Chicago      Illinois            2700000          51             NaN\n",
       "5   Philadelphia  Pennsylvania            1600000          54             NaN"
      ]
     },
     "execution_count": 80,
     "metadata": {},
     "output_type": "execute_result"
    }
   ],
   "source": [
    "city_df[city_df['avg.temp_f']< 55]"
   ]
  },
  {
   "cell_type": "markdown",
   "metadata": {},
   "source": [
    "## Filtering Data"
   ]
  },
  {
   "cell_type": "code",
   "execution_count": 81,
   "metadata": {},
   "outputs": [
    {
     "data": {
      "text/html": [
       "<div>\n",
       "<style scoped>\n",
       "    .dataframe tbody tr th:only-of-type {\n",
       "        vertical-align: middle;\n",
       "    }\n",
       "\n",
       "    .dataframe tbody tr th {\n",
       "        vertical-align: top;\n",
       "    }\n",
       "\n",
       "    .dataframe thead th {\n",
       "        text-align: right;\n",
       "    }\n",
       "</style>\n",
       "<table border=\"1\" class=\"dataframe\">\n",
       "  <thead>\n",
       "    <tr style=\"text-align: right;\">\n",
       "      <th></th>\n",
       "      <th>city_name</th>\n",
       "      <th>state_name</th>\n",
       "      <th>population_approx</th>\n",
       "      <th>avg.temp_f</th>\n",
       "      <th>avg_income_usd</th>\n",
       "    </tr>\n",
       "  </thead>\n",
       "  <tbody>\n",
       "    <tr>\n",
       "      <th>1</th>\n",
       "      <td>Los Angeles</td>\n",
       "      <td>California</td>\n",
       "      <td>4000000</td>\n",
       "      <td>64</td>\n",
       "      <td>68000.0</td>\n",
       "    </tr>\n",
       "  </tbody>\n",
       "</table>\n",
       "</div>"
      ],
      "text/plain": [
       "     city_name  state_name  population_approx  avg.temp_f  avg_income_usd\n",
       "1  Los Angeles  California            4000000          64         68000.0"
      ]
     },
     "execution_count": 81,
     "metadata": {},
     "output_type": "execute_result"
    }
   ],
   "source": [
    "# Filtering Data using multiple conditions '&' and '|'\n",
    "city_df[(city_df['avg.temp_f'] < 65) & (city_df['state_name'] == 'California')]\n",
    "\n",
    "#city_df[(city_df['avg.temp_f'] < 60) | (city_df['state_name']=='California')]"
   ]
  },
  {
   "cell_type": "markdown",
   "metadata": {},
   "source": [
    "## Query Method\n",
    "The query method provides a way to select data using a query string."
   ]
  },
  {
   "cell_type": "code",
   "execution_count": 82,
   "metadata": {},
   "outputs": [
    {
     "data": {
      "text/html": [
       "<div>\n",
       "<style scoped>\n",
       "    .dataframe tbody tr th:only-of-type {\n",
       "        vertical-align: middle;\n",
       "    }\n",
       "\n",
       "    .dataframe tbody tr th {\n",
       "        vertical-align: top;\n",
       "    }\n",
       "\n",
       "    .dataframe thead th {\n",
       "        text-align: right;\n",
       "    }\n",
       "</style>\n",
       "<table border=\"1\" class=\"dataframe\">\n",
       "  <thead>\n",
       "    <tr style=\"text-align: right;\">\n",
       "      <th></th>\n",
       "      <th>city_name</th>\n",
       "      <th>state_name</th>\n",
       "      <th>population_approx</th>\n",
       "      <th>avg.temp_f</th>\n",
       "      <th>avg_income_usd</th>\n",
       "    </tr>\n",
       "  </thead>\n",
       "  <tbody>\n",
       "    <tr>\n",
       "      <th>0</th>\n",
       "      <td>New York City</td>\n",
       "      <td>New York</td>\n",
       "      <td>8400000</td>\n",
       "      <td>52</td>\n",
       "      <td>73000.0</td>\n",
       "    </tr>\n",
       "  </tbody>\n",
       "</table>\n",
       "</div>"
      ],
      "text/plain": [
       "       city_name state_name  population_approx  avg.temp_f  avg_income_usd\n",
       "0  New York City   New York            8400000          52         73000.0"
      ]
     },
     "execution_count": 82,
     "metadata": {},
     "output_type": "execute_result"
    }
   ],
   "source": [
    "city_df.query('city_name==\"New York City\"')"
   ]
  },
  {
   "cell_type": "code",
   "execution_count": 83,
   "metadata": {},
   "outputs": [
    {
     "data": {
      "text/html": [
       "<div>\n",
       "<style scoped>\n",
       "    .dataframe tbody tr th:only-of-type {\n",
       "        vertical-align: middle;\n",
       "    }\n",
       "\n",
       "    .dataframe tbody tr th {\n",
       "        vertical-align: top;\n",
       "    }\n",
       "\n",
       "    .dataframe thead th {\n",
       "        text-align: right;\n",
       "    }\n",
       "</style>\n",
       "<table border=\"1\" class=\"dataframe\">\n",
       "  <thead>\n",
       "    <tr style=\"text-align: right;\">\n",
       "      <th></th>\n",
       "      <th>city_name</th>\n",
       "      <th>state_name</th>\n",
       "      <th>population_approx</th>\n",
       "      <th>avg.temp_f</th>\n",
       "      <th>avg_income_usd</th>\n",
       "    </tr>\n",
       "  </thead>\n",
       "  <tbody>\n",
       "    <tr>\n",
       "      <th>3</th>\n",
       "      <td>Houston</td>\n",
       "      <td>Texas</td>\n",
       "      <td>2300000</td>\n",
       "      <td>69</td>\n",
       "      <td>65000.0</td>\n",
       "    </tr>\n",
       "    <tr>\n",
       "      <th>6</th>\n",
       "      <td>San Antonio</td>\n",
       "      <td>Texas</td>\n",
       "      <td>1500000</td>\n",
       "      <td>72</td>\n",
       "      <td>55000.0</td>\n",
       "    </tr>\n",
       "  </tbody>\n",
       "</table>\n",
       "</div>"
      ],
      "text/plain": [
       "     city_name state_name  population_approx  avg.temp_f  avg_income_usd\n",
       "3      Houston      Texas            2300000          69         65000.0\n",
       "6  San Antonio      Texas            1500000          72         55000.0"
      ]
     },
     "execution_count": 83,
     "metadata": {},
     "output_type": "execute_result"
    }
   ],
   "source": [
    "city_df.query('state_name == \"Texas\" and population_approx >= 1500000\t')"
   ]
  },
  {
   "cell_type": "markdown",
   "metadata": {},
   "source": [
    "## Finding and Handling Missing Data "
   ]
  },
  {
   "cell_type": "markdown",
   "metadata": {},
   "source": [
    "#### `isna()` - .isna method can be used to determine whether each individual value is missing or not. \n",
    "\n",
    "NOTE: isnull() is an alias for isna() and you can use this as well"
   ]
  },
  {
   "cell_type": "code",
   "execution_count": 84,
   "metadata": {},
   "outputs": [
    {
     "data": {
      "text/html": [
       "<div>\n",
       "<style scoped>\n",
       "    .dataframe tbody tr th:only-of-type {\n",
       "        vertical-align: middle;\n",
       "    }\n",
       "\n",
       "    .dataframe tbody tr th {\n",
       "        vertical-align: top;\n",
       "    }\n",
       "\n",
       "    .dataframe thead th {\n",
       "        text-align: right;\n",
       "    }\n",
       "</style>\n",
       "<table border=\"1\" class=\"dataframe\">\n",
       "  <thead>\n",
       "    <tr style=\"text-align: right;\">\n",
       "      <th></th>\n",
       "      <th>city_name</th>\n",
       "      <th>state_name</th>\n",
       "      <th>population_approx</th>\n",
       "      <th>avg.temp_f</th>\n",
       "      <th>avg_income_usd</th>\n",
       "    </tr>\n",
       "  </thead>\n",
       "  <tbody>\n",
       "    <tr>\n",
       "      <th>0</th>\n",
       "      <td>False</td>\n",
       "      <td>False</td>\n",
       "      <td>False</td>\n",
       "      <td>False</td>\n",
       "      <td>False</td>\n",
       "    </tr>\n",
       "    <tr>\n",
       "      <th>1</th>\n",
       "      <td>False</td>\n",
       "      <td>False</td>\n",
       "      <td>False</td>\n",
       "      <td>False</td>\n",
       "      <td>False</td>\n",
       "    </tr>\n",
       "    <tr>\n",
       "      <th>2</th>\n",
       "      <td>False</td>\n",
       "      <td>False</td>\n",
       "      <td>False</td>\n",
       "      <td>False</td>\n",
       "      <td>True</td>\n",
       "    </tr>\n",
       "    <tr>\n",
       "      <th>3</th>\n",
       "      <td>False</td>\n",
       "      <td>False</td>\n",
       "      <td>False</td>\n",
       "      <td>False</td>\n",
       "      <td>False</td>\n",
       "    </tr>\n",
       "    <tr>\n",
       "      <th>4</th>\n",
       "      <td>False</td>\n",
       "      <td>False</td>\n",
       "      <td>False</td>\n",
       "      <td>False</td>\n",
       "      <td>False</td>\n",
       "    </tr>\n",
       "    <tr>\n",
       "      <th>5</th>\n",
       "      <td>False</td>\n",
       "      <td>False</td>\n",
       "      <td>False</td>\n",
       "      <td>False</td>\n",
       "      <td>True</td>\n",
       "    </tr>\n",
       "    <tr>\n",
       "      <th>6</th>\n",
       "      <td>False</td>\n",
       "      <td>False</td>\n",
       "      <td>False</td>\n",
       "      <td>False</td>\n",
       "      <td>False</td>\n",
       "    </tr>\n",
       "    <tr>\n",
       "      <th>7</th>\n",
       "      <td>False</td>\n",
       "      <td>False</td>\n",
       "      <td>False</td>\n",
       "      <td>False</td>\n",
       "      <td>False</td>\n",
       "    </tr>\n",
       "    <tr>\n",
       "      <th>8</th>\n",
       "      <td>False</td>\n",
       "      <td>False</td>\n",
       "      <td>False</td>\n",
       "      <td>False</td>\n",
       "      <td>False</td>\n",
       "    </tr>\n",
       "    <tr>\n",
       "      <th>9</th>\n",
       "      <td>False</td>\n",
       "      <td>True</td>\n",
       "      <td>False</td>\n",
       "      <td>False</td>\n",
       "      <td>True</td>\n",
       "    </tr>\n",
       "  </tbody>\n",
       "</table>\n",
       "</div>"
      ],
      "text/plain": [
       "   city_name  state_name  population_approx  avg.temp_f  avg_income_usd\n",
       "0      False       False              False       False           False\n",
       "1      False       False              False       False           False\n",
       "2      False       False              False       False            True\n",
       "3      False       False              False       False           False\n",
       "4      False       False              False       False           False\n",
       "5      False       False              False       False            True\n",
       "6      False       False              False       False           False\n",
       "7      False       False              False       False           False\n",
       "8      False       False              False       False           False\n",
       "9      False        True              False       False            True"
      ]
     },
     "execution_count": 84,
     "metadata": {},
     "output_type": "execute_result"
    }
   ],
   "source": [
    "city_df.isna()\n",
    "\n",
    "# you can also chech it on a specific series \n",
    "#city_df.avg_income_usd.isna()"
   ]
  },
  {
   "cell_type": "markdown",
   "metadata": {},
   "source": [
    "#### `fillna()` - Used to replace missing values in a dataframe or series"
   ]
  },
  {
   "cell_type": "code",
   "execution_count": 85,
   "metadata": {},
   "outputs": [
    {
     "data": {
      "text/html": [
       "<div>\n",
       "<style scoped>\n",
       "    .dataframe tbody tr th:only-of-type {\n",
       "        vertical-align: middle;\n",
       "    }\n",
       "\n",
       "    .dataframe tbody tr th {\n",
       "        vertical-align: top;\n",
       "    }\n",
       "\n",
       "    .dataframe thead th {\n",
       "        text-align: right;\n",
       "    }\n",
       "</style>\n",
       "<table border=\"1\" class=\"dataframe\">\n",
       "  <thead>\n",
       "    <tr style=\"text-align: right;\">\n",
       "      <th></th>\n",
       "      <th>city_name</th>\n",
       "      <th>state_name</th>\n",
       "      <th>population_approx</th>\n",
       "      <th>avg.temp_f</th>\n",
       "      <th>avg_income_usd</th>\n",
       "    </tr>\n",
       "  </thead>\n",
       "  <tbody>\n",
       "    <tr>\n",
       "      <th>0</th>\n",
       "      <td>New York City</td>\n",
       "      <td>New York</td>\n",
       "      <td>8400000</td>\n",
       "      <td>52</td>\n",
       "      <td>73000.0</td>\n",
       "    </tr>\n",
       "    <tr>\n",
       "      <th>1</th>\n",
       "      <td>Los Angeles</td>\n",
       "      <td>California</td>\n",
       "      <td>4000000</td>\n",
       "      <td>64</td>\n",
       "      <td>68000.0</td>\n",
       "    </tr>\n",
       "    <tr>\n",
       "      <th>2</th>\n",
       "      <td>Chicago</td>\n",
       "      <td>Illinois</td>\n",
       "      <td>2700000</td>\n",
       "      <td>51</td>\n",
       "      <td>10000</td>\n",
       "    </tr>\n",
       "    <tr>\n",
       "      <th>3</th>\n",
       "      <td>Houston</td>\n",
       "      <td>Texas</td>\n",
       "      <td>2300000</td>\n",
       "      <td>69</td>\n",
       "      <td>65000.0</td>\n",
       "    </tr>\n",
       "    <tr>\n",
       "      <th>4</th>\n",
       "      <td>Phoenix</td>\n",
       "      <td>Arizona</td>\n",
       "      <td>1600000</td>\n",
       "      <td>78</td>\n",
       "      <td>58000.0</td>\n",
       "    </tr>\n",
       "    <tr>\n",
       "      <th>5</th>\n",
       "      <td>Philadelphia</td>\n",
       "      <td>Pennsylvania</td>\n",
       "      <td>1600000</td>\n",
       "      <td>54</td>\n",
       "      <td>10000</td>\n",
       "    </tr>\n",
       "    <tr>\n",
       "      <th>6</th>\n",
       "      <td>San Antonio</td>\n",
       "      <td>Texas</td>\n",
       "      <td>1500000</td>\n",
       "      <td>72</td>\n",
       "      <td>55000.0</td>\n",
       "    </tr>\n",
       "    <tr>\n",
       "      <th>7</th>\n",
       "      <td>San Diego</td>\n",
       "      <td>California</td>\n",
       "      <td>1400000</td>\n",
       "      <td>67</td>\n",
       "      <td>70000.0</td>\n",
       "    </tr>\n",
       "    <tr>\n",
       "      <th>8</th>\n",
       "      <td>Dallas</td>\n",
       "      <td>Texas</td>\n",
       "      <td>1400000</td>\n",
       "      <td>66</td>\n",
       "      <td>63000.0</td>\n",
       "    </tr>\n",
       "    <tr>\n",
       "      <th>9</th>\n",
       "      <td>San Jose</td>\n",
       "      <td>None</td>\n",
       "      <td>1000000</td>\n",
       "      <td>62</td>\n",
       "      <td>10000</td>\n",
       "    </tr>\n",
       "  </tbody>\n",
       "</table>\n",
       "</div>"
      ],
      "text/plain": [
       "       city_name    state_name  population_approx  avg.temp_f avg_income_usd\n",
       "0  New York City      New York            8400000          52        73000.0\n",
       "1    Los Angeles    California            4000000          64        68000.0\n",
       "2        Chicago      Illinois            2700000          51          10000\n",
       "3        Houston         Texas            2300000          69        65000.0\n",
       "4        Phoenix       Arizona            1600000          78        58000.0\n",
       "5   Philadelphia  Pennsylvania            1600000          54          10000\n",
       "6    San Antonio         Texas            1500000          72        55000.0\n",
       "7      San Diego    California            1400000          67        70000.0\n",
       "8         Dallas         Texas            1400000          66        63000.0\n",
       "9       San Jose          None            1000000          62          10000"
      ]
     },
     "execution_count": 85,
     "metadata": {},
     "output_type": "execute_result"
    }
   ],
   "source": [
    "city_df.avg_income_usd = city_df.avg_income_usd.fillna('10000') # filling the missing values in avg_income_usd to 10K\n",
    "city_df"
   ]
  },
  {
   "cell_type": "markdown",
   "metadata": {},
   "source": [
    "#### `dropna()` - deletes entries(rows) with missing values."
   ]
  },
  {
   "cell_type": "code",
   "execution_count": 86,
   "metadata": {},
   "outputs": [
    {
     "data": {
      "text/html": [
       "<div>\n",
       "<style scoped>\n",
       "    .dataframe tbody tr th:only-of-type {\n",
       "        vertical-align: middle;\n",
       "    }\n",
       "\n",
       "    .dataframe tbody tr th {\n",
       "        vertical-align: top;\n",
       "    }\n",
       "\n",
       "    .dataframe thead th {\n",
       "        text-align: right;\n",
       "    }\n",
       "</style>\n",
       "<table border=\"1\" class=\"dataframe\">\n",
       "  <thead>\n",
       "    <tr style=\"text-align: right;\">\n",
       "      <th></th>\n",
       "      <th>city_name</th>\n",
       "      <th>state_name</th>\n",
       "      <th>population_approx</th>\n",
       "      <th>avg.temp_f</th>\n",
       "      <th>avg_income_usd</th>\n",
       "    </tr>\n",
       "  </thead>\n",
       "  <tbody>\n",
       "    <tr>\n",
       "      <th>0</th>\n",
       "      <td>New York City</td>\n",
       "      <td>New York</td>\n",
       "      <td>8400000</td>\n",
       "      <td>52</td>\n",
       "      <td>73000.0</td>\n",
       "    </tr>\n",
       "    <tr>\n",
       "      <th>1</th>\n",
       "      <td>Los Angeles</td>\n",
       "      <td>California</td>\n",
       "      <td>4000000</td>\n",
       "      <td>64</td>\n",
       "      <td>68000.0</td>\n",
       "    </tr>\n",
       "    <tr>\n",
       "      <th>2</th>\n",
       "      <td>Chicago</td>\n",
       "      <td>Illinois</td>\n",
       "      <td>2700000</td>\n",
       "      <td>51</td>\n",
       "      <td>10000</td>\n",
       "    </tr>\n",
       "    <tr>\n",
       "      <th>3</th>\n",
       "      <td>Houston</td>\n",
       "      <td>Texas</td>\n",
       "      <td>2300000</td>\n",
       "      <td>69</td>\n",
       "      <td>65000.0</td>\n",
       "    </tr>\n",
       "    <tr>\n",
       "      <th>4</th>\n",
       "      <td>Phoenix</td>\n",
       "      <td>Arizona</td>\n",
       "      <td>1600000</td>\n",
       "      <td>78</td>\n",
       "      <td>58000.0</td>\n",
       "    </tr>\n",
       "    <tr>\n",
       "      <th>5</th>\n",
       "      <td>Philadelphia</td>\n",
       "      <td>Pennsylvania</td>\n",
       "      <td>1600000</td>\n",
       "      <td>54</td>\n",
       "      <td>10000</td>\n",
       "    </tr>\n",
       "    <tr>\n",
       "      <th>6</th>\n",
       "      <td>San Antonio</td>\n",
       "      <td>Texas</td>\n",
       "      <td>1500000</td>\n",
       "      <td>72</td>\n",
       "      <td>55000.0</td>\n",
       "    </tr>\n",
       "    <tr>\n",
       "      <th>7</th>\n",
       "      <td>San Diego</td>\n",
       "      <td>California</td>\n",
       "      <td>1400000</td>\n",
       "      <td>67</td>\n",
       "      <td>70000.0</td>\n",
       "    </tr>\n",
       "    <tr>\n",
       "      <th>8</th>\n",
       "      <td>Dallas</td>\n",
       "      <td>Texas</td>\n",
       "      <td>1400000</td>\n",
       "      <td>66</td>\n",
       "      <td>63000.0</td>\n",
       "    </tr>\n",
       "  </tbody>\n",
       "</table>\n",
       "</div>"
      ],
      "text/plain": [
       "       city_name    state_name  population_approx  avg.temp_f avg_income_usd\n",
       "0  New York City      New York            8400000          52        73000.0\n",
       "1    Los Angeles    California            4000000          64        68000.0\n",
       "2        Chicago      Illinois            2700000          51          10000\n",
       "3        Houston         Texas            2300000          69        65000.0\n",
       "4        Phoenix       Arizona            1600000          78        58000.0\n",
       "5   Philadelphia  Pennsylvania            1600000          54          10000\n",
       "6    San Antonio         Texas            1500000          72        55000.0\n",
       "7      San Diego    California            1400000          67        70000.0\n",
       "8         Dallas         Texas            1400000          66        63000.0"
      ]
     },
     "execution_count": 86,
     "metadata": {},
     "output_type": "execute_result"
    }
   ],
   "source": [
    "city_df.dropna()"
   ]
  },
  {
   "cell_type": "markdown",
   "metadata": {},
   "source": [
    "# Operations Between Columns"
   ]
  },
  {
   "cell_type": "markdown",
   "metadata": {},
   "source": [
    "## Creating New Columns"
   ]
  },
  {
   "cell_type": "code",
   "execution_count": 87,
   "metadata": {},
   "outputs": [
    {
     "data": {
      "text/html": [
       "<div>\n",
       "<style scoped>\n",
       "    .dataframe tbody tr th:only-of-type {\n",
       "        vertical-align: middle;\n",
       "    }\n",
       "\n",
       "    .dataframe tbody tr th {\n",
       "        vertical-align: top;\n",
       "    }\n",
       "\n",
       "    .dataframe thead th {\n",
       "        text-align: right;\n",
       "    }\n",
       "</style>\n",
       "<table border=\"1\" class=\"dataframe\">\n",
       "  <thead>\n",
       "    <tr style=\"text-align: right;\">\n",
       "      <th></th>\n",
       "      <th>city_name</th>\n",
       "      <th>state_name</th>\n",
       "      <th>population_approx</th>\n",
       "      <th>avg.temp_f</th>\n",
       "      <th>avg_income_usd</th>\n",
       "      <th>city_area_sq_miles</th>\n",
       "    </tr>\n",
       "  </thead>\n",
       "  <tbody>\n",
       "    <tr>\n",
       "      <th>0</th>\n",
       "      <td>New York City</td>\n",
       "      <td>New York</td>\n",
       "      <td>8400000</td>\n",
       "      <td>52</td>\n",
       "      <td>73000.0</td>\n",
       "      <td>302.6</td>\n",
       "    </tr>\n",
       "    <tr>\n",
       "      <th>1</th>\n",
       "      <td>Los Angeles</td>\n",
       "      <td>California</td>\n",
       "      <td>4000000</td>\n",
       "      <td>64</td>\n",
       "      <td>68000.0</td>\n",
       "      <td>503.0</td>\n",
       "    </tr>\n",
       "    <tr>\n",
       "      <th>2</th>\n",
       "      <td>Chicago</td>\n",
       "      <td>Illinois</td>\n",
       "      <td>2700000</td>\n",
       "      <td>51</td>\n",
       "      <td>10000</td>\n",
       "      <td>227.3</td>\n",
       "    </tr>\n",
       "    <tr>\n",
       "      <th>3</th>\n",
       "      <td>Houston</td>\n",
       "      <td>Texas</td>\n",
       "      <td>2300000</td>\n",
       "      <td>69</td>\n",
       "      <td>65000.0</td>\n",
       "      <td>637.4</td>\n",
       "    </tr>\n",
       "    <tr>\n",
       "      <th>4</th>\n",
       "      <td>Phoenix</td>\n",
       "      <td>Arizona</td>\n",
       "      <td>1600000</td>\n",
       "      <td>78</td>\n",
       "      <td>58000.0</td>\n",
       "      <td>517.6</td>\n",
       "    </tr>\n",
       "    <tr>\n",
       "      <th>5</th>\n",
       "      <td>Philadelphia</td>\n",
       "      <td>Pennsylvania</td>\n",
       "      <td>1600000</td>\n",
       "      <td>54</td>\n",
       "      <td>10000</td>\n",
       "      <td>134.2</td>\n",
       "    </tr>\n",
       "    <tr>\n",
       "      <th>6</th>\n",
       "      <td>San Antonio</td>\n",
       "      <td>Texas</td>\n",
       "      <td>1500000</td>\n",
       "      <td>72</td>\n",
       "      <td>55000.0</td>\n",
       "      <td>465.4</td>\n",
       "    </tr>\n",
       "    <tr>\n",
       "      <th>7</th>\n",
       "      <td>San Diego</td>\n",
       "      <td>California</td>\n",
       "      <td>1400000</td>\n",
       "      <td>67</td>\n",
       "      <td>70000.0</td>\n",
       "      <td>372.4</td>\n",
       "    </tr>\n",
       "    <tr>\n",
       "      <th>8</th>\n",
       "      <td>Dallas</td>\n",
       "      <td>Texas</td>\n",
       "      <td>1400000</td>\n",
       "      <td>66</td>\n",
       "      <td>63000.0</td>\n",
       "      <td>340.5</td>\n",
       "    </tr>\n",
       "    <tr>\n",
       "      <th>9</th>\n",
       "      <td>San Jose</td>\n",
       "      <td>None</td>\n",
       "      <td>1000000</td>\n",
       "      <td>62</td>\n",
       "      <td>10000</td>\n",
       "      <td>180.5</td>\n",
       "    </tr>\n",
       "  </tbody>\n",
       "</table>\n",
       "</div>"
      ],
      "text/plain": [
       "       city_name    state_name  population_approx  avg.temp_f avg_income_usd  \\\n",
       "0  New York City      New York            8400000          52        73000.0   \n",
       "1    Los Angeles    California            4000000          64        68000.0   \n",
       "2        Chicago      Illinois            2700000          51          10000   \n",
       "3        Houston         Texas            2300000          69        65000.0   \n",
       "4        Phoenix       Arizona            1600000          78        58000.0   \n",
       "5   Philadelphia  Pennsylvania            1600000          54          10000   \n",
       "6    San Antonio         Texas            1500000          72        55000.0   \n",
       "7      San Diego    California            1400000          67        70000.0   \n",
       "8         Dallas         Texas            1400000          66        63000.0   \n",
       "9       San Jose          None            1000000          62          10000   \n",
       "\n",
       "   city_area_sq_miles  \n",
       "0               302.6  \n",
       "1               503.0  \n",
       "2               227.3  \n",
       "3               637.4  \n",
       "4               517.6  \n",
       "5               134.2  \n",
       "6               465.4  \n",
       "7               372.4  \n",
       "8               340.5  \n",
       "9               180.5  "
      ]
     },
     "execution_count": 87,
     "metadata": {},
     "output_type": "execute_result"
    }
   ],
   "source": [
    "# Creating new columns using direct assignment\n",
    "city_areas = [302.6, 503, 227.3, 637.4, 517.6, 134.2, 465.4, 372.4, 340.5, 180.5]\n",
    "\n",
    "city_df['city_area_sq_miles']=city_areas\n",
    "city_df"
   ]
  },
  {
   "cell_type": "code",
   "execution_count": 88,
   "metadata": {},
   "outputs": [
    {
     "data": {
      "text/html": [
       "<div>\n",
       "<style scoped>\n",
       "    .dataframe tbody tr th:only-of-type {\n",
       "        vertical-align: middle;\n",
       "    }\n",
       "\n",
       "    .dataframe tbody tr th {\n",
       "        vertical-align: top;\n",
       "    }\n",
       "\n",
       "    .dataframe thead th {\n",
       "        text-align: right;\n",
       "    }\n",
       "</style>\n",
       "<table border=\"1\" class=\"dataframe\">\n",
       "  <thead>\n",
       "    <tr style=\"text-align: right;\">\n",
       "      <th></th>\n",
       "      <th>city_name</th>\n",
       "      <th>state_name</th>\n",
       "      <th>population_approx</th>\n",
       "      <th>avg.temp_f</th>\n",
       "      <th>avg_income_usd</th>\n",
       "      <th>city_area_sq_miles</th>\n",
       "      <th>population_density</th>\n",
       "    </tr>\n",
       "  </thead>\n",
       "  <tbody>\n",
       "    <tr>\n",
       "      <th>0</th>\n",
       "      <td>New York City</td>\n",
       "      <td>New York</td>\n",
       "      <td>8400000</td>\n",
       "      <td>52</td>\n",
       "      <td>73000.0</td>\n",
       "      <td>302.6</td>\n",
       "      <td>27759.42</td>\n",
       "    </tr>\n",
       "    <tr>\n",
       "      <th>1</th>\n",
       "      <td>Los Angeles</td>\n",
       "      <td>California</td>\n",
       "      <td>4000000</td>\n",
       "      <td>64</td>\n",
       "      <td>68000.0</td>\n",
       "      <td>503.0</td>\n",
       "      <td>7952.29</td>\n",
       "    </tr>\n",
       "    <tr>\n",
       "      <th>2</th>\n",
       "      <td>Chicago</td>\n",
       "      <td>Illinois</td>\n",
       "      <td>2700000</td>\n",
       "      <td>51</td>\n",
       "      <td>10000</td>\n",
       "      <td>227.3</td>\n",
       "      <td>11878.57</td>\n",
       "    </tr>\n",
       "    <tr>\n",
       "      <th>3</th>\n",
       "      <td>Houston</td>\n",
       "      <td>Texas</td>\n",
       "      <td>2300000</td>\n",
       "      <td>69</td>\n",
       "      <td>65000.0</td>\n",
       "      <td>637.4</td>\n",
       "      <td>3608.41</td>\n",
       "    </tr>\n",
       "    <tr>\n",
       "      <th>4</th>\n",
       "      <td>Phoenix</td>\n",
       "      <td>Arizona</td>\n",
       "      <td>1600000</td>\n",
       "      <td>78</td>\n",
       "      <td>58000.0</td>\n",
       "      <td>517.6</td>\n",
       "      <td>3091.19</td>\n",
       "    </tr>\n",
       "    <tr>\n",
       "      <th>5</th>\n",
       "      <td>Philadelphia</td>\n",
       "      <td>Pennsylvania</td>\n",
       "      <td>1600000</td>\n",
       "      <td>54</td>\n",
       "      <td>10000</td>\n",
       "      <td>134.2</td>\n",
       "      <td>11922.50</td>\n",
       "    </tr>\n",
       "    <tr>\n",
       "      <th>6</th>\n",
       "      <td>San Antonio</td>\n",
       "      <td>Texas</td>\n",
       "      <td>1500000</td>\n",
       "      <td>72</td>\n",
       "      <td>55000.0</td>\n",
       "      <td>465.4</td>\n",
       "      <td>3223.03</td>\n",
       "    </tr>\n",
       "    <tr>\n",
       "      <th>7</th>\n",
       "      <td>San Diego</td>\n",
       "      <td>California</td>\n",
       "      <td>1400000</td>\n",
       "      <td>67</td>\n",
       "      <td>70000.0</td>\n",
       "      <td>372.4</td>\n",
       "      <td>3759.40</td>\n",
       "    </tr>\n",
       "    <tr>\n",
       "      <th>8</th>\n",
       "      <td>Dallas</td>\n",
       "      <td>Texas</td>\n",
       "      <td>1400000</td>\n",
       "      <td>66</td>\n",
       "      <td>63000.0</td>\n",
       "      <td>340.5</td>\n",
       "      <td>4111.60</td>\n",
       "    </tr>\n",
       "    <tr>\n",
       "      <th>9</th>\n",
       "      <td>San Jose</td>\n",
       "      <td>None</td>\n",
       "      <td>1000000</td>\n",
       "      <td>62</td>\n",
       "      <td>10000</td>\n",
       "      <td>180.5</td>\n",
       "      <td>5540.17</td>\n",
       "    </tr>\n",
       "  </tbody>\n",
       "</table>\n",
       "</div>"
      ],
      "text/plain": [
       "       city_name    state_name  population_approx  avg.temp_f avg_income_usd  \\\n",
       "0  New York City      New York            8400000          52        73000.0   \n",
       "1    Los Angeles    California            4000000          64        68000.0   \n",
       "2        Chicago      Illinois            2700000          51          10000   \n",
       "3        Houston         Texas            2300000          69        65000.0   \n",
       "4        Phoenix       Arizona            1600000          78        58000.0   \n",
       "5   Philadelphia  Pennsylvania            1600000          54          10000   \n",
       "6    San Antonio         Texas            1500000          72        55000.0   \n",
       "7      San Diego    California            1400000          67        70000.0   \n",
       "8         Dallas         Texas            1400000          66        63000.0   \n",
       "9       San Jose          None            1000000          62          10000   \n",
       "\n",
       "   city_area_sq_miles  population_density  \n",
       "0               302.6            27759.42  \n",
       "1               503.0             7952.29  \n",
       "2               227.3            11878.57  \n",
       "3               637.4             3608.41  \n",
       "4               517.6             3091.19  \n",
       "5               134.2            11922.50  \n",
       "6               465.4             3223.03  \n",
       "7               372.4             3759.40  \n",
       "8               340.5             4111.60  \n",
       "9               180.5             5540.17  "
      ]
     },
     "execution_count": 88,
     "metadata": {},
     "output_type": "execute_result"
    }
   ],
   "source": [
    "#you can perform some operation on other columns or apply conditions \n",
    "city_df['population_density'] = round(city_df['population_approx'] / city_df['city_area_sq_miles'],2)\n",
    "city_df"
   ]
  },
  {
   "cell_type": "code",
   "execution_count": 89,
   "metadata": {},
   "outputs": [
    {
     "name": "stdout",
     "output_type": "stream",
     "text": [
      "       city_name    state_name  population_approx  avg.temp_f avg_income_usd  \\\n",
      "0  New York City      New York            8400000          52        73000.0   \n",
      "1    Los Angeles    California            4000000          64        68000.0   \n",
      "2        Chicago      Illinois            2700000          51          10000   \n",
      "3        Houston         Texas            2300000          69        65000.0   \n",
      "4        Phoenix       Arizona            1600000          78        58000.0   \n",
      "5   Philadelphia  Pennsylvania            1600000          54          10000   \n",
      "6    San Antonio         Texas            1500000          72        55000.0   \n",
      "7      San Diego    California            1400000          67        70000.0   \n",
      "8         Dallas         Texas            1400000          66        63000.0   \n",
      "9       San Jose          None            1000000          62          10000   \n",
      "\n",
      "   city_area_sq_miles  population_density temp_category  \n",
      "0               302.6            27759.42          Cold  \n",
      "1               503.0             7952.29      Moderate  \n",
      "2               227.3            11878.57          Cold  \n",
      "3               637.4             3608.41      Moderate  \n",
      "4               517.6             3091.19           Hot  \n",
      "5               134.2            11922.50          Cold  \n",
      "6               465.4             3223.03      Moderate  \n",
      "7               372.4             3759.40      Moderate  \n",
      "8               340.5             4111.60      Moderate  \n",
      "9               180.5             5540.17      Moderate  \n"
     ]
    }
   ],
   "source": [
    "def temp_category(temp):\n",
    "    if temp < 60:\n",
    "        return 'Cold'\n",
    "    elif 60 <= temp <= 75:\n",
    "        return 'Moderate'\n",
    "    else:\n",
    "        return 'Hot'\n",
    "\n",
    "# Apply the function to the 'avg_temp_f' column\n",
    "city_df['temp_category'] = city_df['avg.temp_f'].apply(temp_category)\n",
    "print(city_df)"
   ]
  },
  {
   "cell_type": "markdown",
   "metadata": {},
   "source": [
    "## Arithmetic Operations "
   ]
  },
  {
   "cell_type": "code",
   "execution_count": 90,
   "metadata": {},
   "outputs": [
    {
     "data": {
      "text/html": [
       "<div>\n",
       "<style scoped>\n",
       "    .dataframe tbody tr th:only-of-type {\n",
       "        vertical-align: middle;\n",
       "    }\n",
       "\n",
       "    .dataframe tbody tr th {\n",
       "        vertical-align: top;\n",
       "    }\n",
       "\n",
       "    .dataframe thead th {\n",
       "        text-align: right;\n",
       "    }\n",
       "</style>\n",
       "<table border=\"1\" class=\"dataframe\">\n",
       "  <thead>\n",
       "    <tr style=\"text-align: right;\">\n",
       "      <th></th>\n",
       "      <th>city_name</th>\n",
       "      <th>state_name</th>\n",
       "      <th>population_approx</th>\n",
       "      <th>avg.temp_f</th>\n",
       "      <th>avg_income_usd</th>\n",
       "      <th>city_area_sq_miles</th>\n",
       "      <th>population_density</th>\n",
       "      <th>temp_category</th>\n",
       "    </tr>\n",
       "  </thead>\n",
       "  <tbody>\n",
       "    <tr>\n",
       "      <th>0</th>\n",
       "      <td>New York City</td>\n",
       "      <td>New York</td>\n",
       "      <td>8400000</td>\n",
       "      <td>53</td>\n",
       "      <td>73000.0</td>\n",
       "      <td>302.6</td>\n",
       "      <td>27759.42</td>\n",
       "      <td>Cold</td>\n",
       "    </tr>\n",
       "    <tr>\n",
       "      <th>1</th>\n",
       "      <td>Los Angeles</td>\n",
       "      <td>California</td>\n",
       "      <td>4000000</td>\n",
       "      <td>65</td>\n",
       "      <td>68000.0</td>\n",
       "      <td>503.0</td>\n",
       "      <td>7952.29</td>\n",
       "      <td>Moderate</td>\n",
       "    </tr>\n",
       "    <tr>\n",
       "      <th>2</th>\n",
       "      <td>Chicago</td>\n",
       "      <td>Illinois</td>\n",
       "      <td>2700000</td>\n",
       "      <td>52</td>\n",
       "      <td>10000</td>\n",
       "      <td>227.3</td>\n",
       "      <td>11878.57</td>\n",
       "      <td>Cold</td>\n",
       "    </tr>\n",
       "    <tr>\n",
       "      <th>3</th>\n",
       "      <td>Houston</td>\n",
       "      <td>Texas</td>\n",
       "      <td>2300000</td>\n",
       "      <td>70</td>\n",
       "      <td>65000.0</td>\n",
       "      <td>637.4</td>\n",
       "      <td>3608.41</td>\n",
       "      <td>Moderate</td>\n",
       "    </tr>\n",
       "    <tr>\n",
       "      <th>4</th>\n",
       "      <td>Phoenix</td>\n",
       "      <td>Arizona</td>\n",
       "      <td>1600000</td>\n",
       "      <td>79</td>\n",
       "      <td>58000.0</td>\n",
       "      <td>517.6</td>\n",
       "      <td>3091.19</td>\n",
       "      <td>Hot</td>\n",
       "    </tr>\n",
       "    <tr>\n",
       "      <th>5</th>\n",
       "      <td>Philadelphia</td>\n",
       "      <td>Pennsylvania</td>\n",
       "      <td>1600000</td>\n",
       "      <td>55</td>\n",
       "      <td>10000</td>\n",
       "      <td>134.2</td>\n",
       "      <td>11922.50</td>\n",
       "      <td>Cold</td>\n",
       "    </tr>\n",
       "    <tr>\n",
       "      <th>6</th>\n",
       "      <td>San Antonio</td>\n",
       "      <td>Texas</td>\n",
       "      <td>1500000</td>\n",
       "      <td>73</td>\n",
       "      <td>55000.0</td>\n",
       "      <td>465.4</td>\n",
       "      <td>3223.03</td>\n",
       "      <td>Moderate</td>\n",
       "    </tr>\n",
       "    <tr>\n",
       "      <th>7</th>\n",
       "      <td>San Diego</td>\n",
       "      <td>California</td>\n",
       "      <td>1400000</td>\n",
       "      <td>68</td>\n",
       "      <td>70000.0</td>\n",
       "      <td>372.4</td>\n",
       "      <td>3759.40</td>\n",
       "      <td>Moderate</td>\n",
       "    </tr>\n",
       "    <tr>\n",
       "      <th>8</th>\n",
       "      <td>Dallas</td>\n",
       "      <td>Texas</td>\n",
       "      <td>1400000</td>\n",
       "      <td>67</td>\n",
       "      <td>63000.0</td>\n",
       "      <td>340.5</td>\n",
       "      <td>4111.60</td>\n",
       "      <td>Moderate</td>\n",
       "    </tr>\n",
       "    <tr>\n",
       "      <th>9</th>\n",
       "      <td>San Jose</td>\n",
       "      <td>None</td>\n",
       "      <td>1000000</td>\n",
       "      <td>63</td>\n",
       "      <td>10000</td>\n",
       "      <td>180.5</td>\n",
       "      <td>5540.17</td>\n",
       "      <td>Moderate</td>\n",
       "    </tr>\n",
       "  </tbody>\n",
       "</table>\n",
       "</div>"
      ],
      "text/plain": [
       "       city_name    state_name  population_approx  avg.temp_f avg_income_usd  \\\n",
       "0  New York City      New York            8400000          53        73000.0   \n",
       "1    Los Angeles    California            4000000          65        68000.0   \n",
       "2        Chicago      Illinois            2700000          52          10000   \n",
       "3        Houston         Texas            2300000          70        65000.0   \n",
       "4        Phoenix       Arizona            1600000          79        58000.0   \n",
       "5   Philadelphia  Pennsylvania            1600000          55          10000   \n",
       "6    San Antonio         Texas            1500000          73        55000.0   \n",
       "7      San Diego    California            1400000          68        70000.0   \n",
       "8         Dallas         Texas            1400000          67        63000.0   \n",
       "9       San Jose          None            1000000          63          10000   \n",
       "\n",
       "   city_area_sq_miles  population_density temp_category  \n",
       "0               302.6            27759.42          Cold  \n",
       "1               503.0             7952.29      Moderate  \n",
       "2               227.3            11878.57          Cold  \n",
       "3               637.4             3608.41      Moderate  \n",
       "4               517.6             3091.19           Hot  \n",
       "5               134.2            11922.50          Cold  \n",
       "6               465.4             3223.03      Moderate  \n",
       "7               372.4             3759.40      Moderate  \n",
       "8               340.5             4111.60      Moderate  \n",
       "9               180.5             5540.17      Moderate  "
      ]
     },
     "execution_count": 90,
     "metadata": {},
     "output_type": "execute_result"
    }
   ],
   "source": [
    "city_df['avg.temp_f'] = city_df['avg.temp_f']+ 1\n",
    "city_df"
   ]
  },
  {
   "cell_type": "code",
   "execution_count": 91,
   "metadata": {},
   "outputs": [
    {
     "data": {
      "text/html": [
       "<div>\n",
       "<style scoped>\n",
       "    .dataframe tbody tr th:only-of-type {\n",
       "        vertical-align: middle;\n",
       "    }\n",
       "\n",
       "    .dataframe tbody tr th {\n",
       "        vertical-align: top;\n",
       "    }\n",
       "\n",
       "    .dataframe thead th {\n",
       "        text-align: right;\n",
       "    }\n",
       "</style>\n",
       "<table border=\"1\" class=\"dataframe\">\n",
       "  <thead>\n",
       "    <tr style=\"text-align: right;\">\n",
       "      <th></th>\n",
       "      <th>city_name</th>\n",
       "      <th>state_name</th>\n",
       "      <th>population_approx</th>\n",
       "      <th>avg.temp_f</th>\n",
       "      <th>avg_income_usd</th>\n",
       "      <th>city_area_sq_miles</th>\n",
       "      <th>population_density</th>\n",
       "      <th>temp_category</th>\n",
       "    </tr>\n",
       "  </thead>\n",
       "  <tbody>\n",
       "    <tr>\n",
       "      <th>0</th>\n",
       "      <td>New York City</td>\n",
       "      <td>New York</td>\n",
       "      <td>8300000</td>\n",
       "      <td>53</td>\n",
       "      <td>73000.0</td>\n",
       "      <td>302.6</td>\n",
       "      <td>27759.42</td>\n",
       "      <td>Cold</td>\n",
       "    </tr>\n",
       "    <tr>\n",
       "      <th>1</th>\n",
       "      <td>Los Angeles</td>\n",
       "      <td>California</td>\n",
       "      <td>3900000</td>\n",
       "      <td>65</td>\n",
       "      <td>68000.0</td>\n",
       "      <td>503.0</td>\n",
       "      <td>7952.29</td>\n",
       "      <td>Moderate</td>\n",
       "    </tr>\n",
       "    <tr>\n",
       "      <th>2</th>\n",
       "      <td>Chicago</td>\n",
       "      <td>Illinois</td>\n",
       "      <td>2600000</td>\n",
       "      <td>52</td>\n",
       "      <td>10000</td>\n",
       "      <td>227.3</td>\n",
       "      <td>11878.57</td>\n",
       "      <td>Cold</td>\n",
       "    </tr>\n",
       "    <tr>\n",
       "      <th>3</th>\n",
       "      <td>Houston</td>\n",
       "      <td>Texas</td>\n",
       "      <td>2200000</td>\n",
       "      <td>70</td>\n",
       "      <td>65000.0</td>\n",
       "      <td>637.4</td>\n",
       "      <td>3608.41</td>\n",
       "      <td>Moderate</td>\n",
       "    </tr>\n",
       "    <tr>\n",
       "      <th>4</th>\n",
       "      <td>Phoenix</td>\n",
       "      <td>Arizona</td>\n",
       "      <td>1500000</td>\n",
       "      <td>79</td>\n",
       "      <td>58000.0</td>\n",
       "      <td>517.6</td>\n",
       "      <td>3091.19</td>\n",
       "      <td>Hot</td>\n",
       "    </tr>\n",
       "    <tr>\n",
       "      <th>5</th>\n",
       "      <td>Philadelphia</td>\n",
       "      <td>Pennsylvania</td>\n",
       "      <td>1500000</td>\n",
       "      <td>55</td>\n",
       "      <td>10000</td>\n",
       "      <td>134.2</td>\n",
       "      <td>11922.50</td>\n",
       "      <td>Cold</td>\n",
       "    </tr>\n",
       "    <tr>\n",
       "      <th>6</th>\n",
       "      <td>San Antonio</td>\n",
       "      <td>Texas</td>\n",
       "      <td>1400000</td>\n",
       "      <td>73</td>\n",
       "      <td>55000.0</td>\n",
       "      <td>465.4</td>\n",
       "      <td>3223.03</td>\n",
       "      <td>Moderate</td>\n",
       "    </tr>\n",
       "    <tr>\n",
       "      <th>7</th>\n",
       "      <td>San Diego</td>\n",
       "      <td>California</td>\n",
       "      <td>1300000</td>\n",
       "      <td>68</td>\n",
       "      <td>70000.0</td>\n",
       "      <td>372.4</td>\n",
       "      <td>3759.40</td>\n",
       "      <td>Moderate</td>\n",
       "    </tr>\n",
       "    <tr>\n",
       "      <th>8</th>\n",
       "      <td>Dallas</td>\n",
       "      <td>Texas</td>\n",
       "      <td>1300000</td>\n",
       "      <td>67</td>\n",
       "      <td>63000.0</td>\n",
       "      <td>340.5</td>\n",
       "      <td>4111.60</td>\n",
       "      <td>Moderate</td>\n",
       "    </tr>\n",
       "    <tr>\n",
       "      <th>9</th>\n",
       "      <td>San Jose</td>\n",
       "      <td>None</td>\n",
       "      <td>900000</td>\n",
       "      <td>63</td>\n",
       "      <td>10000</td>\n",
       "      <td>180.5</td>\n",
       "      <td>5540.17</td>\n",
       "      <td>Moderate</td>\n",
       "    </tr>\n",
       "  </tbody>\n",
       "</table>\n",
       "</div>"
      ],
      "text/plain": [
       "       city_name    state_name  population_approx  avg.temp_f avg_income_usd  \\\n",
       "0  New York City      New York            8300000          53        73000.0   \n",
       "1    Los Angeles    California            3900000          65        68000.0   \n",
       "2        Chicago      Illinois            2600000          52          10000   \n",
       "3        Houston         Texas            2200000          70        65000.0   \n",
       "4        Phoenix       Arizona            1500000          79        58000.0   \n",
       "5   Philadelphia  Pennsylvania            1500000          55          10000   \n",
       "6    San Antonio         Texas            1400000          73        55000.0   \n",
       "7      San Diego    California            1300000          68        70000.0   \n",
       "8         Dallas         Texas            1300000          67        63000.0   \n",
       "9       San Jose          None             900000          63          10000   \n",
       "\n",
       "   city_area_sq_miles  population_density temp_category  \n",
       "0               302.6            27759.42          Cold  \n",
       "1               503.0             7952.29      Moderate  \n",
       "2               227.3            11878.57          Cold  \n",
       "3               637.4             3608.41      Moderate  \n",
       "4               517.6             3091.19           Hot  \n",
       "5               134.2            11922.50          Cold  \n",
       "6               465.4             3223.03      Moderate  \n",
       "7               372.4             3759.40      Moderate  \n",
       "8               340.5             4111.60      Moderate  \n",
       "9               180.5             5540.17      Moderate  "
      ]
     },
     "execution_count": 91,
     "metadata": {},
     "output_type": "execute_result"
    }
   ],
   "source": [
    "# Decrease the population by 100,000 for estimation correction\n",
    "city_df['population_approx'] = city_df['population_approx'] - 100000\n",
    "city_df"
   ]
  },
  {
   "cell_type": "code",
   "execution_count": 92,
   "metadata": {},
   "outputs": [
    {
     "data": {
      "text/html": [
       "<div>\n",
       "<style scoped>\n",
       "    .dataframe tbody tr th:only-of-type {\n",
       "        vertical-align: middle;\n",
       "    }\n",
       "\n",
       "    .dataframe tbody tr th {\n",
       "        vertical-align: top;\n",
       "    }\n",
       "\n",
       "    .dataframe thead th {\n",
       "        text-align: right;\n",
       "    }\n",
       "</style>\n",
       "<table border=\"1\" class=\"dataframe\">\n",
       "  <thead>\n",
       "    <tr style=\"text-align: right;\">\n",
       "      <th></th>\n",
       "      <th>city_name</th>\n",
       "      <th>state_name</th>\n",
       "      <th>population_approx</th>\n",
       "      <th>avg.temp_f</th>\n",
       "      <th>avg_income_usd</th>\n",
       "      <th>city_area_sq_miles</th>\n",
       "      <th>population_density</th>\n",
       "      <th>temp_category</th>\n",
       "      <th>population_approx_growth</th>\n",
       "    </tr>\n",
       "  </thead>\n",
       "  <tbody>\n",
       "    <tr>\n",
       "      <th>0</th>\n",
       "      <td>New York City</td>\n",
       "      <td>New York</td>\n",
       "      <td>8300000</td>\n",
       "      <td>53</td>\n",
       "      <td>73000.0</td>\n",
       "      <td>302.6</td>\n",
       "      <td>27759.42</td>\n",
       "      <td>Cold</td>\n",
       "      <td>9130000.0</td>\n",
       "    </tr>\n",
       "    <tr>\n",
       "      <th>1</th>\n",
       "      <td>Los Angeles</td>\n",
       "      <td>California</td>\n",
       "      <td>3900000</td>\n",
       "      <td>65</td>\n",
       "      <td>68000.0</td>\n",
       "      <td>503.0</td>\n",
       "      <td>7952.29</td>\n",
       "      <td>Moderate</td>\n",
       "      <td>4290000.0</td>\n",
       "    </tr>\n",
       "    <tr>\n",
       "      <th>2</th>\n",
       "      <td>Chicago</td>\n",
       "      <td>Illinois</td>\n",
       "      <td>2600000</td>\n",
       "      <td>52</td>\n",
       "      <td>10000</td>\n",
       "      <td>227.3</td>\n",
       "      <td>11878.57</td>\n",
       "      <td>Cold</td>\n",
       "      <td>2860000.0</td>\n",
       "    </tr>\n",
       "    <tr>\n",
       "      <th>3</th>\n",
       "      <td>Houston</td>\n",
       "      <td>Texas</td>\n",
       "      <td>2200000</td>\n",
       "      <td>70</td>\n",
       "      <td>65000.0</td>\n",
       "      <td>637.4</td>\n",
       "      <td>3608.41</td>\n",
       "      <td>Moderate</td>\n",
       "      <td>2420000.0</td>\n",
       "    </tr>\n",
       "    <tr>\n",
       "      <th>4</th>\n",
       "      <td>Phoenix</td>\n",
       "      <td>Arizona</td>\n",
       "      <td>1500000</td>\n",
       "      <td>79</td>\n",
       "      <td>58000.0</td>\n",
       "      <td>517.6</td>\n",
       "      <td>3091.19</td>\n",
       "      <td>Hot</td>\n",
       "      <td>1650000.0</td>\n",
       "    </tr>\n",
       "    <tr>\n",
       "      <th>5</th>\n",
       "      <td>Philadelphia</td>\n",
       "      <td>Pennsylvania</td>\n",
       "      <td>1500000</td>\n",
       "      <td>55</td>\n",
       "      <td>10000</td>\n",
       "      <td>134.2</td>\n",
       "      <td>11922.50</td>\n",
       "      <td>Cold</td>\n",
       "      <td>1650000.0</td>\n",
       "    </tr>\n",
       "    <tr>\n",
       "      <th>6</th>\n",
       "      <td>San Antonio</td>\n",
       "      <td>Texas</td>\n",
       "      <td>1400000</td>\n",
       "      <td>73</td>\n",
       "      <td>55000.0</td>\n",
       "      <td>465.4</td>\n",
       "      <td>3223.03</td>\n",
       "      <td>Moderate</td>\n",
       "      <td>1540000.0</td>\n",
       "    </tr>\n",
       "    <tr>\n",
       "      <th>7</th>\n",
       "      <td>San Diego</td>\n",
       "      <td>California</td>\n",
       "      <td>1300000</td>\n",
       "      <td>68</td>\n",
       "      <td>70000.0</td>\n",
       "      <td>372.4</td>\n",
       "      <td>3759.40</td>\n",
       "      <td>Moderate</td>\n",
       "      <td>1430000.0</td>\n",
       "    </tr>\n",
       "    <tr>\n",
       "      <th>8</th>\n",
       "      <td>Dallas</td>\n",
       "      <td>Texas</td>\n",
       "      <td>1300000</td>\n",
       "      <td>67</td>\n",
       "      <td>63000.0</td>\n",
       "      <td>340.5</td>\n",
       "      <td>4111.60</td>\n",
       "      <td>Moderate</td>\n",
       "      <td>1430000.0</td>\n",
       "    </tr>\n",
       "    <tr>\n",
       "      <th>9</th>\n",
       "      <td>San Jose</td>\n",
       "      <td>None</td>\n",
       "      <td>900000</td>\n",
       "      <td>63</td>\n",
       "      <td>10000</td>\n",
       "      <td>180.5</td>\n",
       "      <td>5540.17</td>\n",
       "      <td>Moderate</td>\n",
       "      <td>990000.0</td>\n",
       "    </tr>\n",
       "  </tbody>\n",
       "</table>\n",
       "</div>"
      ],
      "text/plain": [
       "       city_name    state_name  population_approx  avg.temp_f avg_income_usd  \\\n",
       "0  New York City      New York            8300000          53        73000.0   \n",
       "1    Los Angeles    California            3900000          65        68000.0   \n",
       "2        Chicago      Illinois            2600000          52          10000   \n",
       "3        Houston         Texas            2200000          70        65000.0   \n",
       "4        Phoenix       Arizona            1500000          79        58000.0   \n",
       "5   Philadelphia  Pennsylvania            1500000          55          10000   \n",
       "6    San Antonio         Texas            1400000          73        55000.0   \n",
       "7      San Diego    California            1300000          68        70000.0   \n",
       "8         Dallas         Texas            1300000          67        63000.0   \n",
       "9       San Jose          None             900000          63          10000   \n",
       "\n",
       "   city_area_sq_miles  population_density temp_category  \\\n",
       "0               302.6            27759.42          Cold   \n",
       "1               503.0             7952.29      Moderate   \n",
       "2               227.3            11878.57          Cold   \n",
       "3               637.4             3608.41      Moderate   \n",
       "4               517.6             3091.19           Hot   \n",
       "5               134.2            11922.50          Cold   \n",
       "6               465.4             3223.03      Moderate   \n",
       "7               372.4             3759.40      Moderate   \n",
       "8               340.5             4111.60      Moderate   \n",
       "9               180.5             5540.17      Moderate   \n",
       "\n",
       "   population_approx_growth  \n",
       "0                 9130000.0  \n",
       "1                 4290000.0  \n",
       "2                 2860000.0  \n",
       "3                 2420000.0  \n",
       "4                 1650000.0  \n",
       "5                 1650000.0  \n",
       "6                 1540000.0  \n",
       "7                 1430000.0  \n",
       "8                 1430000.0  \n",
       "9                  990000.0  "
      ]
     },
     "execution_count": 92,
     "metadata": {},
     "output_type": "execute_result"
    }
   ],
   "source": [
    "# Estimate population after 10% growth\n",
    "city_df['population_approx_growth'] = city_df['population_approx'] * 1.10\n",
    "city_df"
   ]
  },
  {
   "cell_type": "code",
   "execution_count": 93,
   "metadata": {},
   "outputs": [],
   "source": [
    "# Convert population to millions\n",
    "city_df['population_millions'] = city_df['population_approx'] / 1000000"
   ]
  },
  {
   "cell_type": "markdown",
   "metadata": {},
   "source": [
    "# IO Operations"
   ]
  },
  {
   "cell_type": "markdown",
   "metadata": {},
   "source": [
    "## Reading a File"
   ]
  },
  {
   "cell_type": "code",
   "execution_count": 97,
   "metadata": {},
   "outputs": [],
   "source": [
    "# Reading a csv file \n",
    "#csv_df = pd.read_csv('path to the csv') \n",
    "\n",
    "#Create a new Note import the CSV dataset of your choosing from the internet \n",
    "# and try all the concepts learnt from this notebook."
   ]
  },
  {
   "cell_type": "code",
   "execution_count": 95,
   "metadata": {},
   "outputs": [],
   "source": [
    "#excel_df=pd.read_excel('excel file name',sheet_name='')"
   ]
  },
  {
   "cell_type": "markdown",
   "metadata": {},
   "source": [
    "## Saving a file"
   ]
  },
  {
   "cell_type": "code",
   "execution_count": 96,
   "metadata": {},
   "outputs": [],
   "source": [
    "# to save the results of a dataframe into a csv file\n",
    "#pd.to_csv('filename to save', index=)\n",
    "\n",
    "# to save in excel\n",
    "#pd.to_excel('filename',index=,sheet_name='')"
   ]
  },
  {
   "cell_type": "markdown",
   "metadata": {},
   "source": [
    "## Folder Structure"
   ]
  },
  {
   "cell_type": "markdown",
   "metadata": {},
   "source": []
  }
 ],
 "metadata": {
  "kernelspec": {
   "display_name": "Python 3",
   "language": "python",
   "name": "python3"
  },
  "language_info": {
   "codemirror_mode": {
    "name": "ipython",
    "version": 3
   },
   "file_extension": ".py",
   "mimetype": "text/x-python",
   "name": "python",
   "nbconvert_exporter": "python",
   "pygments_lexer": "ipython3",
   "version": "3.11.5"
  }
 },
 "nbformat": 4,
 "nbformat_minor": 2
}
