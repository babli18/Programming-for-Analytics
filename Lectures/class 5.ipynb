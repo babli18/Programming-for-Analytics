{
 "cells": [
  {
   "cell_type": "markdown",
   "metadata": {},
   "source": [
    "# Pandas\n",
    "\n",
    "The pandas library is useful for dealing with ***structured data***.<br>\n",
    "\n",
    "What is structured data? <br>\n",
    "Data that is stored in tables, csv files, Excel Spreadsheets or database tables, is all structured.<br>\n",
    "\n",
    "Unstructured data consists of free form text, images,sound or video.<br>\n",
    "\n",
    "If you are using structured data pandas will be a great utility to you.\n"
   ]
  },
  {
   "cell_type": "markdown",
   "metadata": {},
   "source": [
    "## Importing Pandas\n",
    "\n",
    "Most users of pandas library will use an import alias so they can refer to it as **pd**"
   ]
  },
  {
   "cell_type": "code",
   "execution_count": 3,
   "metadata": {},
   "outputs": [],
   "source": [
    "import pandas as pd"
   ]
  },
  {
   "cell_type": "markdown",
   "metadata": {},
   "source": [
    "# Series\n",
    "\n",
    "Series is a one-dimensional labeled array capable of holding any data type (integers, floats, strings, objects, etc.). It is essentially a column in a spreadsheet or a single-dimensional NumPy array with additional functionalities.<br>\n",
    "\n",
    "Key Characteristics:\n",
    "* One-dimensional: Data is arranged in a single column.\n",
    "* Labeled: Each element has an associated label (index).\n",
    "* Immutable: size immutable.\n",
    "\n",
    "NOTE: When we say that series can hold any data type, we mean to say that the entire column can be of any datatype not individual values in the entire column.\n",
    "\n",
    "![class 5](series_anatomy.png)\n",
    "Image Source - Pandas Cookbook"
   ]
  },
  {
   "cell_type": "markdown",
   "metadata": {},
   "source": [
    "## Creating a Series "
   ]
  },
  {
   "cell_type": "code",
   "execution_count": 12,
   "metadata": {},
   "outputs": [
    {
     "name": "stdout",
     "output_type": "stream",
     "text": [
      "Series from a list:\n",
      "0    a\n",
      "1    e\n",
      "2    i\n",
      "3    o\n",
      "4    u\n",
      "dtype: object\n",
      "Series from numpy array:\n",
      "0    1\n",
      "1    2\n",
      "2    3\n",
      "3    4\n",
      "4    5\n",
      "dtype: int64\n",
      "Series from a dictionary:\n",
      "a    1\n",
      "b    2\n",
      "c    3\n",
      "dtype: int64\n"
     ]
    }
   ],
   "source": [
    "# creating a series from listed data\n",
    "data = ['a','e','i','o','u']\n",
    "s = pd.Series(data)\n",
    "print(f'Series from a list:\\n{s}')\n",
    "\n",
    "# From a NumPy array\n",
    "import numpy as np\n",
    "data = np.array([1, 2, 3, 4, 5])\n",
    "s = pd.Series(data)\n",
    "print(f'Series from numpy array:\\n{s}')\n",
    "\n",
    "# From a dictionary\n",
    "data = {'a': 1, 'b': 2, 'c': 3}\n",
    "s = pd.Series(data)\n",
    "print(f'Series from a dictionary:\\n{s}')"
   ]
  },
  {
   "cell_type": "markdown",
   "metadata": {},
   "source": [
    "NOTE: More methods and operation will be talked about in later course."
   ]
  },
  {
   "cell_type": "markdown",
   "metadata": {},
   "source": [
    "# Data Frame"
   ]
  },
  {
   "cell_type": "markdown",
   "metadata": {},
   "source": [
    "## Introduction to Data Frame\n",
    "\n",
    "* A DataFrame is essentially a two-dimensional labeled data structure with columns of potentially different types.<br>\n",
    "* In simple terms - DataFrame: A table of data with rows and columns, where each column is a Series.\n",
    "* Visually They appear like table consisting od *Rows* and *Columns*.<br>\n",
    "* Hiding beneath the surface are the three components: *`index`*, *`column`*, *`data`*.\n",
    "\n",
    "![class 6](anatomy_dataframe.png)\n",
    "\n",
    "*`Index Labels`* and *`Column name`* refer to the individual memeber of index and columns,respectively.<br>\n",
    "`Index` refers to the Index label as a whole and `Column` refers to the column name as a whole.\n",
    "\n",
    "The labels in index and column names allow for pulling out data based on the index and column name. The index is also used for *alighment*. When multiple Series or DataFrames are combined, the indexes align first before any calculation occurs.\n",
    "\n",
    "Collectively, the columns and the index are know as the axes.<br>\n",
    "**Index - Axis 0**<br>\n",
    "**Columns - Axis 1**\n",
    "\n",
    "Pandas uses **NaN** (Not a number) *to represent missing values (including to represnt a missing string value)*.\n",
    "\n",
    "The three consecutive dots, `...` represent that there is atleast one column that exists but could not be displayed due to display limit."
   ]
  },
  {
   "cell_type": "markdown",
   "metadata": {},
   "source": [
    "### Creating DataFrames\n",
    "\n",
    "There are multiple ways to create a dataframe using the DataFrame() object."
   ]
  },
  {
   "cell_type": "code",
   "execution_count": 14,
   "metadata": {},
   "outputs": [
    {
     "name": "stdout",
     "output_type": "stream",
     "text": [
      "DataFrame using Dict:\n",
      "      Name  Age         City\n",
      "0    Alice   25     New York\n",
      "1      Bob   30  Los Angeles\n",
      "2  Charlie   35      Chicago\n",
      "DataFrame using Numpy array:\n",
      "      Name Age         City\n",
      "0    Alice  25     New York\n",
      "1      Bob  30  Los Angeles\n",
      "2  Charlie  35      Chicago\n",
      "DataFrame using Lists of List:\n",
      "      Name  Age         City\n",
      "0    Alice   25     New York\n",
      "1      Bob   30  Los Angeles\n",
      "2  Charlie   35      Chicago\n"
     ]
    }
   ],
   "source": [
    "# Creating DataFrame using Dictonary \n",
    "data = {\n",
    "    'Name': ['Alice', 'Bob', 'Charlie'],\n",
    "    'Age': [25, 30, 35],\n",
    "    'City': ['New York', 'Los Angeles', 'Chicago']\n",
    "}\n",
    "df = pd.DataFrame(data)\n",
    "print(f'DataFrame using Dict:\\n{df}')\n",
    "\n",
    "# Creating DataFrame using numpy arrays\n",
    "data = np.array([\n",
    "    ['Alice', 25, 'New York'],\n",
    "    ['Bob', 30, 'Los Angeles'],\n",
    "    ['Charlie', 35, 'Chicago']\n",
    "])\n",
    "df = pd.DataFrame(data, columns=['Name', 'Age', 'City'])\n",
    "print(f'DataFrame using Numpy array:\\n{df}')\n",
    "\n",
    "# Creating DataFrame using list of lists\n",
    "data = [\n",
    "    ['Alice', 25, 'New York'],\n",
    "    ['Bob', 30, 'Los Angeles'],\n",
    "    ['Charlie', 35, 'Chicago']\n",
    "]\n",
    "df = pd.DataFrame(data, columns=['Name', 'Age', 'City'])\n",
    "print(f'DataFrame using Lists of List:\\n{df}')"
   ]
  },
  {
   "cell_type": "markdown",
   "metadata": {},
   "source": [
    "### DataFrame Attributes\n",
    "\n",
    "DataFrame attributes provide metadata and basic information about the DataFrame.<br>\n",
    "`df.shape` - Returns a tuple representing the dimensionality of the DataFrame.<br>\n",
    "`df.columns` - Returns an Index object containing the column labels.<br>\n",
    "`df.index` - Returns an Index object containing the row labels.<br>\n",
    "`df.dtypes` - Returns the data types of each column.<br>\n",
    "`df.size` - Returns the number of elements in the DataFrame.<br>"
   ]
  },
  {
   "cell_type": "code",
   "execution_count": 19,
   "metadata": {},
   "outputs": [
    {
     "name": "stdout",
     "output_type": "stream",
     "text": [
      "DataFrame:\n",
      "           Region  No. of Tourists  Average Temperature (F)\n",
      "0         Europe         30000000                       55\n",
      "1  North America         25000000                       65\n",
      "2           Asia         45000000                       75\n",
      "3         Africa         15000000                       85\n",
      "4  South America         22000000                       70\n",
      "\n",
      "Shape of Data Frame: (5, 3)\n",
      "Columns of Data Frame: Index(['Region', 'No. of Tourists', 'Average Temperature (F)'], dtype='object')\n",
      "Index of Data Frame: RangeIndex(start=0, stop=5, step=1)\n",
      "Data-types of columns of Data Frame: Region                     object\n",
      "No. of Tourists             int64\n",
      "Average Temperature (F)     int64\n",
      "dtype: object\n",
      "Size of Data Frame: 15\n"
     ]
    }
   ],
   "source": [
    "data = {\n",
    "    'Region': ['Europe', 'North America', 'Asia', 'Africa', 'South America'],\n",
    "    'No. of Tourists': [30000000, 25000000, 45000000, 15000000, 22000000],\n",
    "    'Average Temperature (F)': [55, 65, 75, 85, 70]\n",
    "}\n",
    "df = pd.DataFrame(data)\n",
    "print('DataFrame:\\n',df)\n",
    "print(f'')\n",
    "print(f'Shape of Data Frame: {df.shape}')\n",
    "print(f'Columns of Data Frame: {df.columns}')\n",
    "print(f'Index of Data Frame: {df.index}')\n",
    "print(f'Data-types of columns of Data Frame: {df.dtypes}')\n",
    "print(f'Size of Data Frame: {df.size}')"
   ]
  },
  {
   "cell_type": "markdown",
   "metadata": {},
   "source": [
    "### DataFrame Methods\n",
    "`head()`: Shows the first n rows of the dataframe.<br>\n",
    "`tail()`: Shows the last n rows of the dataframe.<br>\n",
    "`info()`: Provides a summary of the DataFrame, including the index dtype, column dtypes, non-null values, and memory usage.<br>\n",
    "`describe()`: Generates descriptive statistics that summarize the central tendency, dispersion, and shape of a dataset’s distribution, excluding NaN values.<br>\n",
    "`drop()`: Drops specified labels from rows or columns.<br>\n",
    "`value_counts()`: Returns a Series containing counts of unique values.\n"
   ]
  },
  {
   "cell_type": "markdown",
   "metadata": {},
   "source": [
    "# Quering Rows and Columns"
   ]
  },
  {
   "cell_type": "markdown",
   "metadata": {},
   "source": [
    "# Operations Between Columns"
   ]
  },
  {
   "cell_type": "markdown",
   "metadata": {},
   "source": [
    "# IO Operations"
   ]
  },
  {
   "cell_type": "markdown",
   "metadata": {},
   "source": []
  }
 ],
 "metadata": {
  "kernelspec": {
   "display_name": "Python 3",
   "language": "python",
   "name": "python3"
  },
  "language_info": {
   "codemirror_mode": {
    "name": "ipython",
    "version": 3
   },
   "file_extension": ".py",
   "mimetype": "text/x-python",
   "name": "python",
   "nbconvert_exporter": "python",
   "pygments_lexer": "ipython3",
   "version": "3.11.5"
  }
 },
 "nbformat": 4,
 "nbformat_minor": 2
}
