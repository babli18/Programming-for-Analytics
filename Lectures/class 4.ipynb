{
 "cells": [
  {
   "cell_type": "markdown",
   "metadata": {},
   "source": [
    "# NumPy\n",
    "\n",
    "NumPy (Numerical Python) is a library for the Python programming language that provides support for large, multi-dimensional arrays and matrices, along with a collection of mathematical functions to operate on these arrays."
   ]
  },
  {
   "cell_type": "code",
   "execution_count": 1,
   "metadata": {},
   "outputs": [],
   "source": [
    "# To use numpy you need to install numpy library (if you don not have it in your system)\n",
    "# you can do so by executing the below command\n",
    "\n",
    "#pip install numpy"
   ]
  },
  {
   "cell_type": "code",
   "execution_count": 2,
   "metadata": {},
   "outputs": [],
   "source": [
    "# To use NumPy in your Python program, you need to import it:\n",
    "import numpy as np"
   ]
  },
  {
   "cell_type": "markdown",
   "metadata": {},
   "source": [
    "## Core Concepts"
   ]
  },
  {
   "cell_type": "markdown",
   "metadata": {},
   "source": [
    "### Arrays\n",
    "\n",
    "* The core object in NumPy is the ndarray, which is a shorthand for \"n-dimensional array\".<br> \n",
    "* These arrays are faster and more efficient than Python lists for large datasets.\n",
    "\n"
   ]
  },
  {
   "cell_type": "markdown",
   "metadata": {},
   "source": [
    "#### Creating Arrays"
   ]
  },
  {
   "cell_type": "code",
   "execution_count": 6,
   "metadata": {},
   "outputs": [
    {
     "name": "stdout",
     "output_type": "stream",
     "text": [
      "Array from List: [1 2 3 4 5]\n",
      "Array 2d: [[1 2 3]\n",
      " [4 5 6]]\n",
      "Array filled with zeros: [[0. 0. 0.]\n",
      " [0. 0. 0.]\n",
      " [0. 0. 0.]]\n",
      "Array filled with ones: [[1. 1. 1. 1.]\n",
      " [1. 1. 1. 1.]]\n",
      "Array filled with values from 0 to 10 with step 2: [0 2 4 6 8]\n",
      "Array with 5 values evenly spaced between 0 and 1: [0.   0.25 0.5  0.75 1.  ]\n"
     ]
    }
   ],
   "source": [
    "# you can create arrays in several ways\n",
    "# From a List\n",
    "arr = np.array([1,2,3,4,5])\n",
    "print(f\"Array from List: {arr}\")\n",
    "\n",
    "#From Nested Lists - 2d Array\n",
    "arr_2d = np.array([[1, 2, 3], [4, 5, 6]]) \n",
    "print(f\"Array 2d: {arr_2d}\")\n",
    "\n",
    "#From Built-in functions\n",
    "zero = np.zeros((3, 3))        # Creates a 3x3 array filled with zeros\n",
    "print(f\"Array filled with zeros: {zero}\")\n",
    "\n",
    "ones = np.ones((2, 4))         # Creates a 2x4 array filled with ones\n",
    "print(f\"Array filled with ones: {ones}\")\n",
    "\n",
    "ex1 = np.arange(0, 10, 2)     # Creates an array with values from 0 to 10 with a step of 2\n",
    "print(f\"Array filled with values from 0 to 10 with step 2: {ex1}\")\n",
    "\n",
    "line = np.linspace(0, 1, 5)    # Creates an array with 5 values evenly spaced between 0 and 1\n",
    "print(f\"Array with 5 values evenly spaced between 0 and 1: {line}\")\n",
    "\n",
    "\n",
    "# Some not fun (read fun) exericise to do\n",
    "# Create an array of 10 zeros.\n",
    "# Create an array of 10 fives.\n",
    "# Create a 3x3 matrix with values ranging from 0 to 8.\n",
    "# Generate a random number between 0 and 1."
   ]
  },
  {
   "cell_type": "markdown",
   "metadata": {},
   "source": []
  }
 ],
 "metadata": {
  "kernelspec": {
   "display_name": "Python 3",
   "language": "python",
   "name": "python3"
  },
  "language_info": {
   "codemirror_mode": {
    "name": "ipython",
    "version": 3
   },
   "file_extension": ".py",
   "mimetype": "text/x-python",
   "name": "python",
   "nbconvert_exporter": "python",
   "pygments_lexer": "ipython3",
   "version": "3.11.5"
  }
 },
 "nbformat": 4,
 "nbformat_minor": 2
}
