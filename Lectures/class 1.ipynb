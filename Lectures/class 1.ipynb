{
 "cells": [
  {
   "cell_type": "markdown",
   "metadata": {},
   "source": [
    "# Topics : Intro, Nos and Boolean"
   ]
  },
  {
   "cell_type": "markdown",
   "metadata": {},
   "source": [
    "## Introduction "
   ]
  },
  {
   "cell_type": "markdown",
   "metadata": {},
   "source": [
    "Below is a Code cell, where you write your code that you want to execute.\n",
    "\n",
    "\\#  the hash is used to write comments, these are single line comments.\n",
    "\n",
    "''' '''  is used to write multi line comment"
   ]
  },
  {
   "cell_type": "code",
   "execution_count": 1,
   "metadata": {},
   "outputs": [
    {
     "name": "stdout",
     "output_type": "stream",
     "text": [
      "Welcome to Programming for Analytics Class!\n"
     ]
    }
   ],
   "source": [
    "# Just Press the play button that you see on the left side of this cell to run the command.\n",
    "print(\"Welcome to Programming for Analytics Class!\")"
   ]
  },
  {
   "cell_type": "markdown",
   "metadata": {},
   "source": [
    "Miss M is a bookseller who works part-time at the university bookstore. Her wage is $15 per hour. She wants to buy a cell phone worth $800. How many hours does she need to work in order to buy this cell phone?"
   ]
  },
  {
   "cell_type": "code",
   "execution_count": 2,
   "metadata": {},
   "outputs": [],
   "source": [
    "# execute this code\n",
    "wage = 15"
   ]
  },
  {
   "cell_type": "code",
   "execution_count": 3,
   "metadata": {},
   "outputs": [
    {
     "name": "stdout",
     "output_type": "stream",
     "text": [
      "No. of Hours Miss M needs to work: 53.333333333333336\n"
     ]
    }
   ],
   "source": [
    "# hello again\n",
    "# execute this code to find out how many hours will she need to earn the money to buy her phone\n",
    "n =  800/wage\n",
    "print(f'No. of Hours Miss M needs to work: {n}')"
   ]
  },
  {
   "cell_type": "markdown",
   "metadata": {},
   "source": [
    "How many hours would Miss M need if her wage was $20 per hour?"
   ]
  },
  {
   "cell_type": "code",
   "execution_count": 4,
   "metadata": {},
   "outputs": [],
   "source": [
    "#execute this cell and the execute the cell that has the comment 'hello again'\n",
    "wage = 20"
   ]
  },
  {
   "cell_type": "markdown",
   "metadata": {},
   "source": [
    "*You can see the answer change when we assign a new value to the variable wage. Notice that on the left of every code cell, there is a number after executing. This number indicates the order in which you have executed your code. You can experiment with the cells using different wages and execute the cell with the formula to understand how the value stored in the variable works and how the subscript ordering changes.*"
   ]
  },
  {
   "cell_type": "markdown",
   "metadata": {},
   "source": [
    "**This is a markdown cell** - you can use this cell to write comments, heading, explations. You will not be able to execute your code here. (You can double click on this to edit it's content). Every editor has differnt options in markdown so read the editors manual to see how markdowns work."
   ]
  },
  {
   "cell_type": "markdown",
   "metadata": {},
   "source": [
    "## Numbers"
   ]
  },
  {
   "cell_type": "markdown",
   "metadata": {},
   "source": [
    "### Arithmetic Operations"
   ]
  },
  {
   "cell_type": "code",
   "execution_count": 5,
   "metadata": {},
   "outputs": [
    {
     "data": {
      "text/plain": [
       "17"
      ]
     },
     "execution_count": 5,
     "metadata": {},
     "output_type": "execute_result"
    }
   ],
   "source": [
    "# Addition\n",
    "8 + 9"
   ]
  },
  {
   "cell_type": "code",
   "execution_count": 6,
   "metadata": {},
   "outputs": [
    {
     "data": {
      "text/plain": [
       "-1"
      ]
     },
     "execution_count": 6,
     "metadata": {},
     "output_type": "execute_result"
    }
   ],
   "source": [
    "# Substraction\n",
    "8 - 9"
   ]
  },
  {
   "cell_type": "code",
   "execution_count": 7,
   "metadata": {},
   "outputs": [
    {
     "data": {
      "text/plain": [
       "72"
      ]
     },
     "execution_count": 7,
     "metadata": {},
     "output_type": "execute_result"
    }
   ],
   "source": [
    "# Multiplication\n",
    "8 * 9"
   ]
  },
  {
   "cell_type": "code",
   "execution_count": 8,
   "metadata": {},
   "outputs": [
    {
     "data": {
      "text/plain": [
       "3.2"
      ]
     },
     "execution_count": 8,
     "metadata": {},
     "output_type": "execute_result"
    }
   ],
   "source": [
    "# Division\n",
    "16 / 5"
   ]
  },
  {
   "cell_type": "code",
   "execution_count": 9,
   "metadata": {},
   "outputs": [
    {
     "data": {
      "text/plain": [
       "1"
      ]
     },
     "execution_count": 9,
     "metadata": {},
     "output_type": "execute_result"
    }
   ],
   "source": [
    "# Modular Division \n",
    "25 % 4"
   ]
  },
  {
   "cell_type": "markdown",
   "metadata": {},
   "source": [
    "### Mathematical Expressions"
   ]
  },
  {
   "cell_type": "code",
   "execution_count": 26,
   "metadata": {},
   "outputs": [
    {
     "name": "stdout",
     "output_type": "stream",
     "text": [
      "Value of Arithemetic Expression: 23\n",
      "Value of Algebraic Expression: 12.399999999999999\n",
      "Value of Exponent 2 to the power 3: 8\n",
      " \n",
      "Value of Complex Expression : (2+3j)\n",
      "Real part of 2+3j: 2.0\n",
      "Imaginary part of 2+3j: 3.0\n"
     ]
    }
   ],
   "source": [
    "# Arithmetic Expressions\n",
    "arithmeticExpr = 3 + 4 * 5 \n",
    "\n",
    "#Algebraic Expressions\n",
    "y = 5\n",
    "z = 6\n",
    "x = 3*z+(2/y)-z\n",
    "\n",
    "# Exponential Expressions\n",
    "exp = 2**3\n",
    "\n",
    "# Complex Nos.\n",
    "c = complex(2,3) #2+3j\n",
    "\n",
    "\n",
    "print(f'Value of Arithemetic Expression: {arithmeticExpr}')\n",
    "print(f'Value of Algebraic Expression: {x}')\n",
    "print(f'Value of Exponent 2 to the power 3: {exp}')\n",
    "print(f' ')\n",
    "print(f'Value of Complex Expression : {c}')\n",
    "print(f'Real part of 2+3j: {c.real}')\n",
    "print(f'Imaginary part of 2+3j: {c.imag}')"
   ]
  },
  {
   "cell_type": "markdown",
   "metadata": {},
   "source": [
    "### Data Types of the varaibles\n"
   ]
  },
  {
   "cell_type": "code",
   "execution_count": 28,
   "metadata": {},
   "outputs": [
    {
     "name": "stdout",
     "output_type": "stream",
     "text": [
      "Type of Variable u: <class 'int'>\n",
      "Type of Variable pi : <class 'float'>\n",
      "Type of Variable s: <class 'str'>\n",
      "Type of Variable c: <class 'complex'>\n"
     ]
    }
   ],
   "source": [
    "# Let's Understand the data types of these variables\n",
    "# In-order to understand the data type of the variable we use the function type()\n",
    "\n",
    "u = 42\n",
    "pi = 3.14\n",
    "s = 'cheesecake'\n",
    "\n",
    "\n",
    "print(f'Type of Variable u: {type(u)}')\n",
    "print(f'Type of Variable pi : {type(pi)}')\n",
    "print(f'Type of Variable s: {type(s)}')\n",
    "print(f'Type of Variable c: {type(c)}')\n"
   ]
  },
  {
   "cell_type": "markdown",
   "metadata": {},
   "source": [
    "### Logarithms"
   ]
  },
  {
   "cell_type": "code",
   "execution_count": 29,
   "metadata": {},
   "outputs": [
    {
     "name": "stdout",
     "output_type": "stream",
     "text": [
      "The log of 3 is :1.0986122886681098\n"
     ]
    }
   ],
   "source": [
    "# to use logs you need to include a library called math\n",
    "import math as m\n",
    "\n",
    "z = 3\n",
    "\n",
    "print(f'The log of {z} is :{m.log(z)}')\n"
   ]
  },
  {
   "cell_type": "markdown",
   "metadata": {},
   "source": [
    "## Booleans"
   ]
  }
 ],
 "metadata": {
  "kernelspec": {
   "display_name": "Python 3",
   "language": "python",
   "name": "python3"
  },
  "language_info": {
   "codemirror_mode": {
    "name": "ipython",
    "version": 3
   },
   "file_extension": ".py",
   "mimetype": "text/x-python",
   "name": "python",
   "nbconvert_exporter": "python",
   "pygments_lexer": "ipython3",
   "version": "3.11.5"
  }
 },
 "nbformat": 4,
 "nbformat_minor": 2
}
