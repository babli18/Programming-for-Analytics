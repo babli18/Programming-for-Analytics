{
 "cells": [
  {
   "cell_type": "markdown",
   "metadata": {},
   "source": [
    "# Topics : Intro, Nos and Boolean"
   ]
  },
  {
   "cell_type": "markdown",
   "metadata": {},
   "source": [
    "Below is a Code cell, where you write your code that you want to execute.\n",
    "\n",
    "\\#  the hash is used to write comments, these are single line comments.\n",
    "\n",
    "''' '''  is used to write multi line comment"
   ]
  },
  {
   "cell_type": "code",
   "execution_count": 5,
   "metadata": {},
   "outputs": [
    {
     "name": "stdout",
     "output_type": "stream",
     "text": [
      "Welcome to Programming for Analytics Class!\n"
     ]
    }
   ],
   "source": [
    "# Just Press the play button that you see on the left side of this cell to run the command.\n",
    "print(\"Welcome to Programming for Analytics Class!\")"
   ]
  },
  {
   "cell_type": "markdown",
   "metadata": {},
   "source": [
    "Miss M is a bookseller who works part-time at the university bookstore. Her wage is $15 per hour. She wants to buy a cell phone worth $800. How many hours does she need to work in order to buy this cell phone?"
   ]
  },
  {
   "cell_type": "code",
   "execution_count": 10,
   "metadata": {},
   "outputs": [],
   "source": [
    "# execute this code\n",
    "wage = 15"
   ]
  },
  {
   "cell_type": "code",
   "execution_count": 12,
   "metadata": {},
   "outputs": [
    {
     "name": "stdout",
     "output_type": "stream",
     "text": [
      "No. of Hours Miss M needs to work: 40.0\n"
     ]
    }
   ],
   "source": [
    "# hello again\n",
    "# execute this code to find out how many hours will she need to earn the money to buy her phone\n",
    "n =  800/wage\n",
    "print(f'No. of Hours Miss M needs to work: {n}')"
   ]
  },
  {
   "cell_type": "markdown",
   "metadata": {},
   "source": [
    "How many hours would Miss M need if her wage was $20 per hour?"
   ]
  },
  {
   "cell_type": "code",
   "execution_count": 11,
   "metadata": {},
   "outputs": [],
   "source": [
    "#execute this cell and the execute the cell that has the comment 'hello again'\n",
    "wage = 20"
   ]
  },
  {
   "cell_type": "markdown",
   "metadata": {},
   "source": [
    "*You can see the answer change when we assign a new value to the variable wage. Notice that on the left of every code cell, there is a number after executing. This number indicates the order in which you have executed your code. You can experiment with the cells using different wages and execute the cell with the formula to understand how the value stored in the variable works and how the subscript ordering changes.*"
   ]
  },
  {
   "cell_type": "markdown",
   "metadata": {},
   "source": [
    "This is a markdown cell - you can use this cell to write comments, heading, explations. You will not be able to execute your code here. (You can double click on this to edit it's content). Every editor has differnt options in markdown so read the editors manual to see how markdowns work."
   ]
  }
 ],
 "metadata": {
  "kernelspec": {
   "display_name": "Python 3",
   "language": "python",
   "name": "python3"
  },
  "language_info": {
   "codemirror_mode": {
    "name": "ipython",
    "version": 3
   },
   "file_extension": ".py",
   "mimetype": "text/x-python",
   "name": "python",
   "nbconvert_exporter": "python",
   "pygments_lexer": "ipython3",
   "version": "3.11.5"
  }
 },
 "nbformat": 4,
 "nbformat_minor": 2
}
