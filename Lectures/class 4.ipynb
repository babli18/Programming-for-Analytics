{
 "cells": [
  {
   "cell_type": "markdown",
   "metadata": {},
   "source": [
    "# NumPy\n",
    "\n",
    "NumPy (Numerical Python) is a library for the Python programming language that provides support for large, multi-dimensional arrays and matrices, along with a collection of mathematical functions to operate on these arrays."
   ]
  },
  {
   "cell_type": "code",
   "execution_count": 2,
   "metadata": {},
   "outputs": [],
   "source": [
    "# To use numpy you need to install numpy library (if you don not have it in your system)\n",
    "# you can do so by executing the below command\n",
    "\n",
    "#pip install numpy"
   ]
  },
  {
   "cell_type": "code",
   "execution_count": 3,
   "metadata": {},
   "outputs": [],
   "source": [
    "# To use NumPy in your Python program, you need to import it:\n",
    "import numpy as np"
   ]
  },
  {
   "cell_type": "markdown",
   "metadata": {},
   "source": [
    "## Arrays\n",
    "\n",
    "* The core object in NumPy is the ndarray, which is a shorthand for \"n-dimensional array\".<br> \n",
    "* These arrays are faster and more efficient than Python lists for large datasets.\n",
    "\n"
   ]
  },
  {
   "cell_type": "markdown",
   "metadata": {},
   "source": [
    "## Creating Arrays"
   ]
  },
  {
   "cell_type": "markdown",
   "metadata": {},
   "source": [
    "You can create array in many ways"
   ]
  },
  {
   "cell_type": "markdown",
   "metadata": {},
   "source": [
    "### Creating Arrays from `List`"
   ]
  },
  {
   "cell_type": "code",
   "execution_count": 4,
   "metadata": {},
   "outputs": [
    {
     "name": "stdout",
     "output_type": "stream",
     "text": [
      "Array from List: [1 2 3 4 5]\n",
      "Array 2d: [[1 2 3]\n",
      " [4 5 6]]\n"
     ]
    }
   ],
   "source": [
    "arr = np.array([1,2,3,4,5])\n",
    "print(f\"Array from List: {arr}\")\n",
    "\n",
    "#From Nested Lists - 2d Array\n",
    "arr_2d = np.array([[1, 2, 3], [4, 5, 6]]) \n",
    "print(f\"Array 2d: {arr_2d}\")"
   ]
  },
  {
   "cell_type": "markdown",
   "metadata": {},
   "source": [
    "### Creating from `Built-in` functions"
   ]
  },
  {
   "cell_type": "code",
   "execution_count": 5,
   "metadata": {},
   "outputs": [
    {
     "name": "stdout",
     "output_type": "stream",
     "text": [
      "Array filled with zeros: [[0. 0. 0.]\n",
      " [0. 0. 0.]\n",
      " [0. 0. 0.]]\n",
      "Array filled with ones: [[1. 1. 1. 1.]\n",
      " [1. 1. 1. 1.]]\n",
      "Array filled with values from 0 to 10 with step 2: [0 2 4 6 8]\n",
      "Array with 5 values evenly spaced between 0 and 1: [0.   0.25 0.5  0.75 1.  ]\n"
     ]
    }
   ],
   "source": [
    "#From Built-in functions\n",
    "zero = np.zeros((3, 3))        # Creates a 3x3 array filled with zeros\n",
    "print(f\"Array filled with zeros: {zero}\")\n",
    "\n",
    "ones = np.ones((2, 4))         # Creates a 2x4 array filled with ones\n",
    "print(f\"Array filled with ones: {ones}\")\n",
    "\n",
    "ex1 = np.arange(0, 10, 2)     # Creates an array with values from 0 to 10 with a step of 2\n",
    "print(f\"Array filled with values from 0 to 10 with step 2: {ex1}\")\n",
    "\n",
    "line = np.linspace(0, 1, 5)    # Creates an array with 5 values evenly spaced between 0 and 1\n",
    "print(f\"Array with 5 values evenly spaced between 0 and 1: {line}\")"
   ]
  },
  {
   "cell_type": "markdown",
   "metadata": {},
   "source": [
    "### Creating Arrays from `Random` function"
   ]
  },
  {
   "cell_type": "code",
   "execution_count": 6,
   "metadata": {},
   "outputs": [
    {
     "name": "stdout",
     "output_type": "stream",
     "text": [
      "1D array of 5 random numbers: [0.19000289 0.12735237 0.93988373 0.59767496 0.7579687 ]\n",
      "2D array of shape (3,4):\n",
      " [[0.83788077 0.49309711 0.20659555 0.50437989]\n",
      " [0.09313414 0.87460129 0.98866023 0.0544828 ]\n",
      " [0.15223032 0.07209451 0.61120914 0.60152349]]\n",
      "1D array of 5 random numbers from a standard normal distribution: [-0.1222762  -1.27526773 -0.45810526 -1.56061144  0.89772006]\n",
      "2D array of shape (3,4): \n",
      " [[ 0.20867533  1.35724131 -0.08319262  0.39924251]\n",
      " [-1.13516367  0.29662005  0.83279216  1.15996745]\n",
      " [-1.46510622  0.6880314   0.29388296  1.60604715]]\n",
      "[8 7 7 1 9]\n",
      "[[11 11 11  6]\n",
      " [11 14 12  5]\n",
      " [14  9  8  8]]\n"
     ]
    }
   ],
   "source": [
    "# np.random.rand() Generates random numbers from a uniform distribution between 0 and 1.\n",
    "random_array = np.random.rand(5) # Create a 1D array of 5 random numbers\n",
    "print(f\"1D array of 5 random numbers: {random_array}\")\n",
    "\n",
    "random_matrix = np.random.rand(3, 4) # Create a 2D array of shape (3,4)\n",
    "print(f\"2D array of shape (3,4):\\n {random_matrix}\")\n",
    "\n",
    "# np.random.randn() Generates random numbers from a standard normal distribution (mean 0, standard deviation 1)\n",
    "random_array = np.random.randn(5) # Create a 1D array of 5 random numbers from a standard normal distribution\n",
    "print(f\"1D array of 5 random numbers from a standard normal distribution: {random_array}\")\n",
    "\n",
    "random_matrix = np.random.randn(3, 4) # Create a 2D array of shape (3, 4)\n",
    "print(f\"2D array of shape (3,4): \\n {random_matrix}\")\n",
    "\n",
    "# np.random.randint() - Generates random integers from a discrete uniform distribution between low (inclusive) and high (exclusive).\n",
    "random_integers = np.random.randint(10, size=5)\n",
    "print(random_integers) #random_integers = np.random.randint(10, size=5)\n",
    "\n",
    "random_matrix = np.random.randint(5, 15, size=(3, 4)) # Create a 2D array of shape (3, 4) with random integers between 5 and 1\n",
    "print(random_matrix)\n",
    "\n",
    "\n",
    "# Some not fun (read fun) exericise to do\n",
    "# Create an array of 10 zeros.\n",
    "# Create an array of 10 fives.\n",
    "# Create a 3x3 matrix with values ranging from 0 to 8.\n",
    "# Generate a random number between 0 and 1."
   ]
  },
  {
   "cell_type": "markdown",
   "metadata": {},
   "source": [
    "## Quering Dimensions\n",
    "\n",
    "Querying dimensions in NumPy involves retrieving and understanding the structural attributes of an array, such as its number of dimensions, shape, and size. These properties are essential for understanding the layout of the data and for performing various operations that require knowledge of the array's structure.\n",
    "\n",
    "Key Attributes for Querying Dimensions\n",
    "1. Number of Dimensions - `ndim`\n",
    "2. Shape - `shape`\n",
    "3. Size -  `size`\n"
   ]
  },
  {
   "cell_type": "markdown",
   "metadata": {},
   "source": [
    "### Number of Dimensions (`ndim`)\n",
    "\n",
    "This attribute returns the number of dimensions (or axes) of the array."
   ]
  },
  {
   "cell_type": "code",
   "execution_count": 7,
   "metadata": {},
   "outputs": [
    {
     "name": "stdout",
     "output_type": "stream",
     "text": [
      "No. of Dimensions of arr_1d: 1\n",
      "No. of Dimensions of arr_2d: 2\n",
      "No. of Dimensions of arr_2d: 3\n"
     ]
    }
   ],
   "source": [
    "import numpy as np\n",
    "\n",
    "arr_1d = np.array([1, 2, 3])\n",
    "arr_2d = np.array([[1, 2, 3], [4, 5, 6]])\n",
    "arr_3d = np.array([[[1, 2, 3], [4, 5, 6]], [[7, 8, 9], [10, 11, 12]]])\n",
    "\n",
    "print(f\"No. of Dimensions of arr_1d: {arr_1d.ndim}\")  \n",
    "print(f\"No. of Dimensions of arr_2d: {arr_2d.ndim}\")  \n",
    "print(f\"No. of Dimensions of arr_2d: {arr_3d.ndim}\")  "
   ]
  },
  {
   "cell_type": "markdown",
   "metadata": {},
   "source": [
    "### Shape (`shape`)\n",
    "\n",
    "This attribute returns a tuple representing the dimensions of the array. Each element of the tuple represents the size of the array along that dimension."
   ]
  },
  {
   "cell_type": "code",
   "execution_count": 8,
   "metadata": {},
   "outputs": [
    {
     "name": "stdout",
     "output_type": "stream",
     "text": [
      "Shape of arr_1d: (3,)\n",
      "Shape of arr_2d: (2, 3)\n",
      "Shape of arr_3d: (2, 2, 3)\n"
     ]
    }
   ],
   "source": [
    "print(\"Shape of arr_1d:\", arr_1d.shape)\n",
    "print(\"Shape of arr_2d:\", arr_2d.shape)\n",
    "print(\"Shape of arr_3d:\", arr_3d.shape)"
   ]
  },
  {
   "cell_type": "markdown",
   "metadata": {},
   "source": [
    "### Size (`size`)\n",
    "\n",
    "This attribute returns the total number of elements in the array."
   ]
  },
  {
   "cell_type": "code",
   "execution_count": 9,
   "metadata": {},
   "outputs": [
    {
     "name": "stdout",
     "output_type": "stream",
     "text": [
      "Size of arr_1d: 3\n",
      "Size of arr_2d: 6\n",
      "Size of arr_3d: 12\n"
     ]
    }
   ],
   "source": [
    "print(\"Size of arr_1d:\", arr_1d.size)\n",
    "print(\"Size of arr_2d:\", arr_2d.size)\n",
    "print(\"Size of arr_3d:\", arr_3d.size)"
   ]
  },
  {
   "cell_type": "markdown",
   "metadata": {},
   "source": [
    "Importance of Querying Dimensions\n",
    "* Performing operations that require specific shapes.\n",
    "* Debugging errors related to shape mismatches.\n",
    "* Efficiently manipulating and transforming data.\n",
    "* Ensuring compatibility with functions and methods that have shape requirements.\n",
    "\n",
    "By querying the dimensions of an array, you gain insight into its structure, which helps you to write more effective and error-free code."
   ]
  },
  {
   "cell_type": "markdown",
   "metadata": {},
   "source": [
    "## Array Properties \n",
    "\n",
    "1. Data Type (`dtype`)\n",
    "2. Item Size (`itemsize`)\n",
    "3. Total Bytes (`nbytes`)\n",
    "4. Transpose (`T`)\n",
    "5. Flat Iterator (`Flat`)\n",
    "6. Real and Imaginary Parts (`real` and `imag`)\n",
    "7. Base (`base`)\n"
   ]
  },
  {
   "cell_type": "markdown",
   "metadata": {},
   "source": [
    "### Data Type (`dtype`)\n",
    "\n",
    "Returns the data type of the elements in the array. NumPy supports a variety of data types, including integers, floats, and more."
   ]
  },
  {
   "cell_type": "code",
   "execution_count": 10,
   "metadata": {},
   "outputs": [
    {
     "name": "stdout",
     "output_type": "stream",
     "text": [
      "Data type: float64\n"
     ]
    }
   ],
   "source": [
    "arr = np.array([[1, 2.5, 3], [4, 7, 6]])\n",
    "print(\"Data type:\", arr.dtype)"
   ]
  },
  {
   "cell_type": "markdown",
   "metadata": {},
   "source": [
    "### ItemItem Size (`itemsize`)\n",
    "\n",
    "Returns the size (in bytes) of each element in the array."
   ]
  },
  {
   "cell_type": "code",
   "execution_count": 11,
   "metadata": {},
   "outputs": [
    {
     "name": "stdout",
     "output_type": "stream",
     "text": [
      "Item size: 8\n"
     ]
    }
   ],
   "source": [
    "print(\"Item size:\", arr.itemsize)"
   ]
  },
  {
   "cell_type": "markdown",
   "metadata": {},
   "source": [
    "### Total Bytes (`nbytes`)\n",
    "\n",
    "returns the total number of bytes consumed by the elements of the array. "
   ]
  },
  {
   "cell_type": "code",
   "execution_count": 12,
   "metadata": {},
   "outputs": [
    {
     "name": "stdout",
     "output_type": "stream",
     "text": [
      "Total bytes: 48\n"
     ]
    }
   ],
   "source": [
    "print(\"Total bytes:\", arr.nbytes)"
   ]
  },
  {
   "cell_type": "markdown",
   "metadata": {},
   "source": [
    "### Transpose (`T`)\n",
    "\n",
    "Returns the transpose of the array. For 2D arrays, it swaps the rows and columns."
   ]
  },
  {
   "cell_type": "code",
   "execution_count": 13,
   "metadata": {},
   "outputs": [
    {
     "name": "stdout",
     "output_type": "stream",
     "text": [
      "Transpose:\n",
      "[[1.  4. ]\n",
      " [2.5 7. ]\n",
      " [3.  6. ]]\n"
     ]
    }
   ],
   "source": [
    "print(\"Transpose:\")\n",
    "print(arr.T)"
   ]
  },
  {
   "cell_type": "markdown",
   "metadata": {},
   "source": [
    "### Flat Iterator (`Flat`)\n",
    "\n",
    "A flat iterator in NumPy is an object that allows you to iterate over the elements of a multi-dimensional array as if it were a one-dimensional array. It's essentially a way to flatten an array without actually creating a new array in memory, which can be more efficient."
   ]
  },
  {
   "cell_type": "code",
   "execution_count": 14,
   "metadata": {},
   "outputs": [
    {
     "name": "stdout",
     "output_type": "stream",
     "text": [
      "Flat elements:\n",
      "1.0 2.5 3.0 4.0 7.0 6.0 "
     ]
    }
   ],
   "source": [
    "print(\"Flat elements:\")\n",
    "for element in arr.flat:\n",
    "    print(element, end=' ')"
   ]
  },
  {
   "cell_type": "markdown",
   "metadata": {},
   "source": [
    "### Real and Imaginary Parts (`real` and `imag`)\n",
    "\n",
    "Return the real and imaginary parts of the elements if the array contains complex numbers."
   ]
  },
  {
   "cell_type": "code",
   "execution_count": 15,
   "metadata": {},
   "outputs": [
    {
     "name": "stdout",
     "output_type": "stream",
     "text": [
      "Real part:  [1. 3.]\n",
      "Complex part:  [2. 4.]\n"
     ]
    }
   ],
   "source": [
    "complex_arr = np.array([1+2j, 3+4j])\n",
    "print(\"Real part: \",complex_arr.real)  \n",
    "print(\"Complex part: \",complex_arr.imag)"
   ]
  },
  {
   "cell_type": "markdown",
   "metadata": {},
   "source": [
    "### Base (`base`)\n",
    "\n",
    "In NumPy, the base attribute of an ndarray object provides information about the underlying memory structure of the array. Essentially, it tells you whether the array owns its data or shares it with another object.\n",
    "\n",
    "When base is None<br>\n",
    "* The array owns its data.\n",
    "* No other object shares the same memory block.\n",
    "\n",
    "When base is not None<br>\n",
    "* The array is a view or slice of another array.\n",
    "* The memory is shared with the base array."
   ]
  },
  {
   "cell_type": "code",
   "execution_count": 16,
   "metadata": {},
   "outputs": [
    {
     "name": "stdout",
     "output_type": "stream",
     "text": [
      "None\n",
      "True\n"
     ]
    }
   ],
   "source": [
    "original = np.array([1, 2, 3, 4])\n",
    "print (original.base)\n",
    "\n",
    "# slicing creates a view\n",
    "view = original[1:3]\n",
    "print(view.base is original)"
   ]
  },
  {
   "cell_type": "markdown",
   "metadata": {},
   "source": [
    "## Array Operations\n",
    "\n",
    "NumPy arrays support element-wise operations"
   ]
  },
  {
   "cell_type": "code",
   "execution_count": 17,
   "metadata": {},
   "outputs": [
    {
     "name": "stdout",
     "output_type": "stream",
     "text": [
      "[5 7 9]\n",
      "[-3 -3 -3]\n",
      "[ 4 10 18]\n",
      "[0.25 0.4  0.5 ]\n",
      "[False False False]\n",
      "[False False False]\n"
     ]
    }
   ],
   "source": [
    "arr1 = np.array([1, 2, 3])\n",
    "arr2 = np.array([4, 5, 6])\n",
    "\n",
    "print(arr1 + arr2)    # Addition\n",
    "print(arr1 - arr2)    # Subtraction\n",
    "print(arr1 * arr2)    # Multiplication\n",
    "print(arr1 / arr2)    # Division\n",
    "\n",
    "print(arr1 > arr2)  \n",
    "print(arr1 == arr2)  "
   ]
  },
  {
   "cell_type": "markdown",
   "metadata": {},
   "source": [
    "## Universal Functions (ufuncs)\n",
    "\n",
    "* A universal function, or ufunc for short, is a function that operates on NumPy arrays element-wise. <br>\n",
    "* This means it applies the function to each element of the array, producing a new array with the results.<br> \n",
    "* This is often referred to as \"vectorization\" and is a cornerstone of NumPy's performance."
   ]
  },
  {
   "cell_type": "code",
   "execution_count": 18,
   "metadata": {},
   "outputs": [
    {
     "name": "stdout",
     "output_type": "stream",
     "text": [
      "Addition:  [5 7 9]\n",
      "Substraction:  [-3 -3 -3]\n",
      "Multiplication:  [ 4 10 18]\n",
      "Division:  [0.25 0.4  0.5 ]\n",
      "Sin of arr:  [0.0000000e+00 1.0000000e+00 1.2246468e-16]\n",
      "Cos of arr:  [ 1.000000e+00  6.123234e-17 -1.000000e+00]\n",
      "Exponent:  [ 2.71828183  7.3890561  20.08553692]\n",
      "Log:  [0.         0.69314718 1.09861229]\n",
      "Sum:  6\n",
      "Mean:  2.0\n",
      "Std. Deviation: 0.816496580927726\n",
      "Square root:  [1.         1.41421356 1.73205081]\n"
     ]
    }
   ],
   "source": [
    "#Basic Arithmetic Operations\n",
    "print('Addition: ',np.add(arr1, arr2)) \n",
    "print('Substraction: ',np.subtract(arr1, arr2))  \n",
    "print('Multiplication: ',np.multiply(arr1, arr2))  \n",
    "print('Division: ',np.divide(arr1, arr2))\n",
    "\n",
    "\n",
    "# Trignometric Functions\n",
    "arr = np.array([0, np.pi/2, np.pi])\n",
    "\n",
    "print('Sin of arr: ',np.sin(arr))  \n",
    "print('Cos of arr: ',np.cos(arr))\n",
    "\n",
    "# Exponential and Logarithmic Functions\n",
    "print('Exponent: ',np.exp(arr1)) \n",
    "print('Log: ',np.log(arr1))\n",
    "\n",
    "#Aggregate Functions\n",
    "print('Sum: ',np.sum(arr1))  \n",
    "print('Mean: ',np.mean(arr1))  \n",
    "print('Std. Deviation:',np.std(arr1))\n",
    "print('Square root: ',np.sqrt(arr1))"
   ]
  },
  {
   "cell_type": "markdown",
   "metadata": {},
   "source": [
    "Difference between Array Operations and Universal Functions:<br><br>\n",
    "`Array Operations `- Limited to basic arithmetic and logical operations (addition, subtraction, multiplication, division, comparisons).<br>\n",
    "`Universal Functions ` - Covers a broader range of operations including mathematical, trigonometric, exponential, logarithmic, and aggregation functions."
   ]
  },
  {
   "cell_type": "markdown",
   "metadata": {},
   "source": [
    "## Array Manipulation\n",
    "\n",
    "NumPy provides a rich set of functions for manipulating arrays.<br>\n",
    "Some of them are:\n",
    "1. Reshaping arrays: `Reshape`, `Resize`\n",
    "2. Flattening arraya: `Flatten`, `Ravel`\n",
    "3. Expanding and Squuezing dimensions: `np.expand_dims`, `np.squeeze`\n",
    "4. Concatenation and stacking: `np.concatenate`, `np.vstack`, `np.hastack`, `np.stack`\n",
    "5. Splitting array: `np.split`, `np.hsplit`, `np.vsplit` "
   ]
  },
  {
   "cell_type": "markdown",
   "metadata": {},
   "source": [
    "## Broadcasting\n",
    "\n",
    "Broadcasting refers to the ability of the library to perform element-wise operations on arrays of different shapes. It allows NumPy to work with arrays of different dimensions in a way that the smaller array is virtually expanded to the size of the larger array without actually copying the data, thus making operations more efficient both in terms of memory and performance."
   ]
  },
  {
   "cell_type": "markdown",
   "metadata": {},
   "source": [
    "### Simpler Explanation \n",
    "Imagine you have a box of chocolates and you want to give each chocolate a wrapper.\n",
    "\n",
    "One way: You could wrap each chocolate individually. This is like doing calculations in a regular programming loop, which can be slow. <br>\n",
    "Another way: You have a big sheet of wrapping paper. You place the box of chocolates on the paper and cut out individual wrappers for each chocolate. This is like broadcasting in NumPy. <br>\n",
    "\n",
    "Broadcasting is a clever way for NumPy to handle calculations with arrays of different sizes. Instead of doing calculations one by one (which is slow), it finds a way to \"stretch\" or \"repeat\" the smaller array to match the shape of the larger array. This lets NumPy perform calculations much faster.\n",
    "\n",
    "Example:\n",
    "\n",
    "* You have a list of numbers: [1, 2, 3]\n",
    "* You want to add 5 to each number.\n",
    "* Instead of adding 5 to each number individually, NumPy can \"broadcast\" the number 5 to match the shape of the list and add them together quickly."
   ]
  },
  {
   "cell_type": "markdown",
   "metadata": {},
   "source": [
    "### Rules of Broadcasting\n",
    "\n",
    "1. Trailing Dimensions Match: When performing operations on two arrays, NumPy compares their shapes element-wise, starting from right and moving to left. Two dimensions are compatible if:\n",
    "\n",
    "    * They are equal, or\n",
    "    * One of them is 1.\n",
    "    \n",
    "2. Shape Expansion: If one of the arrays has fewer dimensions, its shape is padded with ones on its left side until both shapes have the same length."
   ]
  },
  {
   "cell_type": "markdown",
   "metadata": {},
   "source": [
    "![class 4](broadcasting_example.png)"
   ]
  },
  {
   "cell_type": "code",
   "execution_count": 26,
   "metadata": {},
   "outputs": [
    {
     "name": "stdout",
     "output_type": "stream",
     "text": [
      "Broadcasting of a scalar to an array:  [3 4 5]\n",
      "Broadcasting of two arrays of different shapes: [[11 22 33]\n",
      " [14 25 36]]\n",
      "Braodcasting with different no. of dimensions: \n",
      " [[11 21 31]\n",
      " [12 22 32]\n",
      " [13 23 33]]\n"
     ]
    }
   ],
   "source": [
    "# Example 1: Adding a Scalar to an Array\n",
    "\n",
    "array = np.array([1, 2, 3])\n",
    "scalar = 2\n",
    "result = array + scalar\n",
    "print(\"Broadcasting of a scalar to an array: \",result)\n",
    "# the scalar `2` is broadcasted to the shape of the array [1, 2, 3]\n",
    "\n",
    "# Example 2: Adding Two Arrays of Different Shapes\n",
    "array1 = np.array([[1, 2, 3], [4, 5, 6]])\n",
    "array2 = np.array([10, 20, 30])\n",
    "result = array1 + array2\n",
    "print(\"Broadcasting of two arrays of different shapes:\",result)\n",
    "# In this example, 'array2' is broadcasted to the shape of 'array1'.\n",
    "\n",
    "# Example 3: Broadcasting with Different Number of Dimensions\n",
    "array1 = np.array([[1], [2], [3]])\n",
    "array2 = np.array([10, 20, 30])\n",
    "result = array1 + array2\n",
    "print(\"Braodcasting with different no. of dimensions: \\n\",result)\n",
    "#Here, array1 has a shape of (3, 1) and array2 has a shape of (3,). \n",
    "#During the operation, array2 is broadcasted to shape (3, 3).\n"
   ]
  },
  {
   "cell_type": "markdown",
   "metadata": {},
   "source": [
    "## Linear Algebra"
   ]
  },
  {
   "cell_type": "markdown",
   "metadata": {},
   "source": [
    "## Random Number Generation"
   ]
  },
  {
   "cell_type": "markdown",
   "metadata": {},
   "source": [
    "## Advanced Array Operations"
   ]
  },
  {
   "cell_type": "code",
   "execution_count": null,
   "metadata": {},
   "outputs": [],
   "source": []
  }
 ],
 "metadata": {
  "kernelspec": {
   "display_name": "Python 3",
   "language": "python",
   "name": "python3"
  },
  "language_info": {
   "codemirror_mode": {
    "name": "ipython",
    "version": 3
   },
   "file_extension": ".py",
   "mimetype": "text/x-python",
   "name": "python",
   "nbconvert_exporter": "python",
   "pygments_lexer": "ipython3",
   "version": "3.11.5"
  }
 },
 "nbformat": 4,
 "nbformat_minor": 2
}
