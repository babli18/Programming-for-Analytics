{
 "cells": [
  {
   "cell_type": "markdown",
   "metadata": {},
   "source": [
    "# NumPy\n",
    "\n",
    "NumPy (Numerical Python) is a library for the Python programming language that provides support for large, multi-dimensional arrays and matrices, along with a collection of mathematical functions to operate on these arrays."
   ]
  },
  {
   "cell_type": "code",
   "execution_count": 1,
   "metadata": {},
   "outputs": [],
   "source": [
    "# To use numpy you need to install numpy library (if you don not have it in your system)\n",
    "# you can do so by executing the below command\n",
    "\n",
    "#pip install numpy"
   ]
  },
  {
   "cell_type": "code",
   "execution_count": 2,
   "metadata": {},
   "outputs": [],
   "source": [
    "# To use NumPy in your Python program, you need to import it:\n",
    "import numpy as np"
   ]
  },
  {
   "cell_type": "markdown",
   "metadata": {},
   "source": [
    "## Arrays\n",
    "\n",
    "* The core object in NumPy is the ndarray, which is a shorthand for \"n-dimensional array\".<br> \n",
    "* These arrays are faster and more efficient than Python lists for large datasets.\n",
    "\n"
   ]
  },
  {
   "cell_type": "markdown",
   "metadata": {},
   "source": [
    "## Creating Arrays"
   ]
  },
  {
   "cell_type": "code",
   "execution_count": 12,
   "metadata": {},
   "outputs": [
    {
     "name": "stdout",
     "output_type": "stream",
     "text": [
      "Array from List: [1 2 3 4 5]\n",
      "Array 2d: [[1 2 3]\n",
      " [4 5 6]]\n",
      "Array filled with zeros: [[0. 0. 0.]\n",
      " [0. 0. 0.]\n",
      " [0. 0. 0.]]\n",
      "Array filled with ones: [[1. 1. 1. 1.]\n",
      " [1. 1. 1. 1.]]\n",
      "Array filled with values from 0 to 10 with step 2: [0 2 4 6 8]\n",
      "Array with 5 values evenly spaced between 0 and 1: [0.   0.25 0.5  0.75 1.  ]\n",
      ": [0.53598824 0.79526441 0.02125273 0.6865796  0.4199261 ]\n",
      "[[0.98547623 0.1589288  0.2216515  0.08671912]\n",
      " [0.62487273 0.09680244 0.44485677 0.11876357]\n",
      " [0.71879801 0.93023377 0.3074137  0.45058102]]\n",
      "[-2.52720269  1.1509127  -0.40557842 -0.79003604  1.32725241]\n",
      "[[ 0.40676151  0.12509469  0.12669752  1.81500226]\n",
      " [ 0.47089211 -0.78048191 -0.03556349 -0.10080607]\n",
      " [-0.43593959 -1.19060818 -0.48545498 -0.31097757]]\n",
      "[0 6 2 9 1]\n",
      "[[ 8 14 10 13]\n",
      " [ 9 14 13  9]\n",
      " [ 9 14 10  8]]\n"
     ]
    }
   ],
   "source": [
    "# you can create arrays in several ways\n",
    "# From a List\n",
    "arr = np.array([1,2,3,4,5])\n",
    "print(f\"Array from List: {arr}\")\n",
    "\n",
    "#From Nested Lists - 2d Array\n",
    "arr_2d = np.array([[1, 2, 3], [4, 5, 6]]) \n",
    "print(f\"Array 2d: {arr_2d}\")\n",
    "\n",
    "#From Built-in functions\n",
    "zero = np.zeros((3, 3))        # Creates a 3x3 array filled with zeros\n",
    "print(f\"Array filled with zeros: {zero}\")\n",
    "\n",
    "ones = np.ones((2, 4))         # Creates a 2x4 array filled with ones\n",
    "print(f\"Array filled with ones: {ones}\")\n",
    "\n",
    "ex1 = np.arange(0, 10, 2)     # Creates an array with values from 0 to 10 with a step of 2\n",
    "print(f\"Array filled with values from 0 to 10 with step 2: {ex1}\")\n",
    "\n",
    "line = np.linspace(0, 1, 5)    # Creates an array with 5 values evenly spaced between 0 and 1\n",
    "print(f\"Array with 5 values evenly spaced between 0 and 1: {line}\")\n",
    "\n",
    "# Using Random Functions\n",
    "\n",
    "# np.random.rand() Generates random numbers from a uniform distribution between 0 and 1.\n",
    "random_array = np.random.rand(5) # Create a 1D array of 5 random numbers\n",
    "print(f\": {random_array}\")\n",
    "\n",
    "random_matrix = np.random.rand(3, 4) # Create a 2D array of shape (3,\n",
    "print(random_matrix)\n",
    "\n",
    "# np.random.randn() Generates random numbers from a standard normal distribution (mean 0, standard deviation 1)\n",
    "random_array = np.random.randn(5) # Create a 1D array of 5 random numbers from a standard normal distribution\n",
    "print(random_array) \n",
    "\n",
    "random_matrix = np.random.randn(3, 4) # Create a 2D array of shape (3, 4)\n",
    "print(random_matrix)\n",
    "\n",
    "# np.random.randint() - Generates random integers from a discrete uniform distribution between low (inclusive) and high (exclusive).\n",
    "random_integers = np.random.randint(10, size=5)\n",
    "print(random_integers) #random_integers = np.random.randint(10, size=5)\n",
    "\n",
    "random_matrix = np.random.randint(5, 15, size=(3, 4)) # Create a 2D array of shape (3, 4) with random integers between 5 and 1\n",
    "print(random_matrix)\n",
    "\n",
    "\n",
    "# Some not fun (read fun) exericise to do\n",
    "# Create an array of 10 zeros.\n",
    "# Create an array of 10 fives.\n",
    "# Create a 3x3 matrix with values ranging from 0 to 8.\n",
    "# Generate a random number between 0 and 1."
   ]
  },
  {
   "cell_type": "markdown",
   "metadata": {},
   "source": [
    "## Quering Dimensions\n",
    "\n",
    "Querying dimensions in NumPy involves retrieving and understanding the structural attributes of an array, such as its number of dimensions, shape, and size. These properties are essential for understanding the layout of the data and for performing various operations that require knowledge of the array's structure.\n",
    "\n",
    "Key Attributes for Querying Dimensions\n",
    "1. Number of Dimensions - `ndim`\n",
    "2. Shape - `shape`\n",
    "3. Size -  `size`\n"
   ]
  },
  {
   "cell_type": "markdown",
   "metadata": {},
   "source": [
    "### Number of Dimensions (`ndim`)\n",
    "\n",
    "This attribute returns the number of dimensions (or axes) of the array."
   ]
  },
  {
   "cell_type": "code",
   "execution_count": 14,
   "metadata": {},
   "outputs": [
    {
     "name": "stdout",
     "output_type": "stream",
     "text": [
      "No. of Dimensions of arr_1d: 1\n",
      "No. of Dimensions of arr_2d: 2\n",
      "No. of Dimensions of arr_2d: 3\n"
     ]
    }
   ],
   "source": [
    "import numpy as np\n",
    "\n",
    "arr_1d = np.array([1, 2, 3])\n",
    "arr_2d = np.array([[1, 2, 3], [4, 5, 6]])\n",
    "arr_3d = np.array([[[1, 2, 3], [4, 5, 6]], [[7, 8, 9], [10, 11, 12]]])\n",
    "\n",
    "print(f\"No. of Dimensions of arr_1d: {arr_1d.ndim}\")  \n",
    "print(f\"No. of Dimensions of arr_2d: {arr_2d.ndim}\")  \n",
    "print(f\"No. of Dimensions of arr_2d: {arr_3d.ndim}\")  "
   ]
  },
  {
   "cell_type": "markdown",
   "metadata": {},
   "source": [
    "### Shape (`shape`)\n",
    "\n",
    "This attribute returns a tuple representing the dimensions of the array. Each element of the tuple represents the size of the array along that dimension."
   ]
  },
  {
   "cell_type": "code",
   "execution_count": 16,
   "metadata": {},
   "outputs": [
    {
     "name": "stdout",
     "output_type": "stream",
     "text": [
      "Shape of arr_1d: (3,)\n",
      "Shape of arr_2d: (2, 3)\n",
      "Shape of arr_3d: (2, 2, 3)\n"
     ]
    }
   ],
   "source": [
    "print(\"Shape of arr_1d:\", arr_1d.shape)\n",
    "print(\"Shape of arr_2d:\", arr_2d.shape)\n",
    "print(\"Shape of arr_3d:\", arr_3d.shape)"
   ]
  },
  {
   "cell_type": "markdown",
   "metadata": {},
   "source": [
    "### Size (`size`)\n",
    "\n",
    "This attribute returns the total number of elements in the array."
   ]
  },
  {
   "cell_type": "code",
   "execution_count": 17,
   "metadata": {},
   "outputs": [
    {
     "name": "stdout",
     "output_type": "stream",
     "text": [
      "Size of arr_1d: 3\n",
      "Size of arr_2d: 6\n",
      "Size of arr_3d: 12\n"
     ]
    }
   ],
   "source": [
    "print(\"Size of arr_1d:\", arr_1d.size)\n",
    "print(\"Size of arr_2d:\", arr_2d.size)\n",
    "print(\"Size of arr_3d:\", arr_3d.size)"
   ]
  },
  {
   "cell_type": "markdown",
   "metadata": {},
   "source": [
    "Importance of Querying Dimensions\n",
    "* Performing operations that require specific shapes.\n",
    "* Debugging errors related to shape mismatches.\n",
    "* Efficiently manipulating and transforming data.\n",
    "* Ensuring compatibility with functions and methods that have shape requirements.\n",
    "\n",
    "By querying the dimensions of an array, you gain insight into its structure, which helps you to write more effective and error-free code."
   ]
  },
  {
   "cell_type": "markdown",
   "metadata": {},
   "source": [
    "## Array Properties "
   ]
  },
  {
   "cell_type": "markdown",
   "metadata": {},
   "source": [
    "## Array Operations\n",
    "\n",
    "NumPy arrays support element-wise operations"
   ]
  },
  {
   "cell_type": "code",
   "execution_count": 8,
   "metadata": {},
   "outputs": [
    {
     "name": "stdout",
     "output_type": "stream",
     "text": [
      "[5 7 9]\n",
      "[-3 -3 -3]\n",
      "[ 4 10 18]\n",
      "[0.25 0.4  0.5 ]\n",
      "[False False False]\n",
      "[False False False]\n"
     ]
    }
   ],
   "source": [
    "arr1 = np.array([1, 2, 3])\n",
    "arr2 = np.array([4, 5, 6])\n",
    "\n",
    "print(arr1 + arr2)    # Addition\n",
    "print(arr1 - arr2)    # Subtraction\n",
    "print(arr1 * arr2)    # Multiplication\n",
    "print(arr1 / arr2)    # Division\n",
    "\n",
    "print(arr1 > arr2)  \n",
    "print(arr1 == arr2)  "
   ]
  },
  {
   "cell_type": "markdown",
   "metadata": {},
   "source": [
    "## Universal Functions (ufuncs)\n",
    "\n",
    "* A universal function, or ufunc for short, is a function that operates on NumPy arrays element-wise. <br>\n",
    "* This means it applies the function to each element of the array, producing a new array with the results.<br> \n",
    "* This is often referred to as \"vectorization\" and is a cornerstone of NumPy's performance."
   ]
  },
  {
   "cell_type": "code",
   "execution_count": 10,
   "metadata": {},
   "outputs": [
    {
     "name": "stdout",
     "output_type": "stream",
     "text": [
      "[5 7 9]\n",
      "[-3 -3 -3]\n",
      "[ 4 10 18]\n",
      "[0.25 0.4  0.5 ]\n",
      "[0.0000000e+00 1.0000000e+00 1.2246468e-16]\n",
      "[ 1.000000e+00  6.123234e-17 -1.000000e+00]\n",
      "[ 2.71828183  7.3890561  20.08553692]\n",
      "[0.         0.69314718 1.09861229]\n",
      "6\n",
      "2.0\n",
      "0.816496580927726\n"
     ]
    }
   ],
   "source": [
    "#Basic Arithmetic Operations\n",
    "print(np.add(arr1, arr2)) \n",
    "print(np.subtract(arr1, arr2))  \n",
    "print(np.multiply(arr1, arr2))  \n",
    "print(np.divide(arr1, arr2))\n",
    "\n",
    "\n",
    "# Trignometric Functions\n",
    "arr = np.array([0, np.pi/2, np.pi])\n",
    "\n",
    "print(np.sin(arr))  \n",
    "print(np.cos(arr))\n",
    "\n",
    "# Exponential and Logarithmic Functions\n",
    "print(np.exp(arr1)) \n",
    "print(np.log(arr1))\n",
    "\n",
    "#Aggregate Functions\n",
    "print(np.sum(arr1))  \n",
    "print(np.mean(arr1))  \n",
    "print(np.std(arr1))"
   ]
  },
  {
   "cell_type": "markdown",
   "metadata": {},
   "source": [
    "Difference between Array Operations and Universal Functions:<br><br>\n",
    "`Array Operations `- Limited to basic arithmetic and logical operations (addition, subtraction, multiplication, division, comparisons).<br>\n",
    "`Universal Functions ` - Covers a broader range of operations including mathematical, trigonometric, exponential, logarithmic, and aggregation functions."
   ]
  },
  {
   "cell_type": "code",
   "execution_count": null,
   "metadata": {},
   "outputs": [],
   "source": []
  }
 ],
 "metadata": {
  "kernelspec": {
   "display_name": "Python 3",
   "language": "python",
   "name": "python3"
  },
  "language_info": {
   "codemirror_mode": {
    "name": "ipython",
    "version": 3
   },
   "file_extension": ".py",
   "mimetype": "text/x-python",
   "name": "python",
   "nbconvert_exporter": "python",
   "pygments_lexer": "ipython3",
   "version": "3.11.5"
  }
 },
 "nbformat": 4,
 "nbformat_minor": 2
}
