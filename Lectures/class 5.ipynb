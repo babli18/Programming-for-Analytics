{
 "cells": [
  {
   "cell_type": "markdown",
   "metadata": {},
   "source": [
    "# Topics - Pandas, Series, DataFrame, Accessing Data, Quering Rows and Columns, Operations Between Columns and IO operations"
   ]
  },
  {
   "cell_type": "markdown",
   "metadata": {},
   "source": [
    "# Pandas\n",
    "\n",
    "The pandas library is useful for dealing with ***structured data***.<br>\n",
    "\n",
    "What is structured data? <br>\n",
    "Data that is stored in tables, csv files, Excel Spreadsheets or database tables, is all structured.<br>\n",
    "\n",
    "Unstructured data consists of free form text, images,sound or video.<br>\n",
    "\n",
    "If you are using structured data pandas will be a great utility to you.\n"
   ]
  },
  {
   "cell_type": "markdown",
   "metadata": {},
   "source": [
    "## Importing Pandas\n",
    "\n",
    "Most users of pandas library will use an import alias so they can refer to it as **pd**"
   ]
  },
  {
   "cell_type": "code",
   "execution_count": 1,
   "metadata": {},
   "outputs": [],
   "source": [
    "import pandas as pd"
   ]
  },
  {
   "cell_type": "markdown",
   "metadata": {},
   "source": [
    "# Series\n",
    "\n",
    "Series is a one-dimensional labeled array capable of holding any data type (integers, floats, strings, objects, etc.). It is essentially a column in a spreadsheet or a single-dimensional NumPy array with additional functionalities.<br>\n",
    "\n",
    "Key Characteristics:\n",
    "* One-dimensional: Data is arranged in a single column.\n",
    "* Labeled: Each element has an associated label (index).\n",
    "* Immutable: size immutable.\n",
    "\n",
    "NOTE: When we say that series can hold any data type, we mean to say that the entire column can be of any datatype not individual values in the entire column.\n",
    "\n",
    "![class 5](series_anatomy.png)\n",
    "Image Source - Pandas Cookbook"
   ]
  },
  {
   "cell_type": "markdown",
   "metadata": {},
   "source": [
    "## Creating a Series "
   ]
  },
  {
   "cell_type": "code",
   "execution_count": 2,
   "metadata": {},
   "outputs": [
    {
     "name": "stdout",
     "output_type": "stream",
     "text": [
      "Series from a list:\n",
      "0    a\n",
      "1    e\n",
      "2    i\n",
      "3    o\n",
      "4    u\n",
      "dtype: object\n",
      "Series from numpy array:\n",
      "0    1\n",
      "1    2\n",
      "2    3\n",
      "3    4\n",
      "4    5\n",
      "dtype: int64\n",
      "Series from a dictionary:\n",
      "a    1\n",
      "b    2\n",
      "c    3\n",
      "dtype: int64\n"
     ]
    }
   ],
   "source": [
    "# creating a series from listed data\n",
    "data = ['a','e','i','o','u']\n",
    "s = pd.Series(data)\n",
    "print(f'Series from a list:\\n{s}')\n",
    "\n",
    "# From a NumPy array\n",
    "import numpy as np\n",
    "data = np.array([1, 2, 3, 4, 5])\n",
    "s = pd.Series(data)\n",
    "print(f'Series from numpy array:\\n{s}')\n",
    "\n",
    "# From a dictionary\n",
    "data = {'a': 1, 'b': 2, 'c': 3}\n",
    "s = pd.Series(data)\n",
    "print(f'Series from a dictionary:\\n{s}')"
   ]
  },
  {
   "cell_type": "markdown",
   "metadata": {},
   "source": [
    "NOTE: More methods and operation will be talked about in later course."
   ]
  },
  {
   "cell_type": "markdown",
   "metadata": {},
   "source": [
    "# Data Frame"
   ]
  },
  {
   "cell_type": "markdown",
   "metadata": {},
   "source": [
    "## Introduction to Data Frame\n",
    "\n",
    "* A DataFrame is essentially a two-dimensional labeled data structure with columns of potentially different types.<br>\n",
    "* In simple terms - DataFrame: A table of data with rows and columns, where each column is a Series.\n",
    "* Visually They appear like table consisting od *Rows* and *Columns*.<br>\n",
    "* Hiding beneath the surface are the three components: *`index`*, *`column`*, *`data`*.\n",
    "\n",
    "![class 5](anatomy_dataframe.png)\n",
    "\n",
    "*`Index Labels`* and *`Column name`* refer to the individual memeber of index and columns,respectively.<br>\n",
    "`Index` refers to the Index label as a whole and `Column` refers to the column name as a whole.\n",
    "\n",
    "The labels in index and column names allow for pulling out data based on the index and column name. The index is also used for *alighment*. When multiple Series or DataFrames are combined, the indexes align first before any calculation occurs.\n",
    "\n",
    "Collectively, the columns and the index are know as the axes.<br>\n",
    "**Index - Axis 0**<br>\n",
    "**Columns - Axis 1**\n",
    "\n",
    "Pandas uses **NaN** (Not a number) *to represent missing values (including to represnt a missing string value)*.\n",
    "\n",
    "The three consecutive dots, `...` represent that there is atleast one column that exists but could not be displayed due to display limit."
   ]
  },
  {
   "cell_type": "markdown",
   "metadata": {},
   "source": [
    "### Creating DataFrames\n",
    "\n",
    "There are multiple ways to create a dataframe using the DataFrame() object.\n",
    "\n",
    "NOTE: You can also create dataframe when you read a file which will be thought later in class."
   ]
  },
  {
   "cell_type": "code",
   "execution_count": 3,
   "metadata": {},
   "outputs": [
    {
     "name": "stdout",
     "output_type": "stream",
     "text": [
      "DataFrame using Dict:\n",
      "      Name  Age         City\n",
      "0    Alice   25     New York\n",
      "1      Bob   30  Los Angeles\n",
      "2  Charlie   35      Chicago\n",
      "DataFrame using Numpy array:\n",
      "      Name Age         City\n",
      "0    Alice  25     New York\n",
      "1      Bob  30  Los Angeles\n",
      "2  Charlie  35      Chicago\n",
      "DataFrame using Lists of List:\n",
      "      Name  Age         City\n",
      "0    Alice   25     New York\n",
      "1      Bob   30  Los Angeles\n",
      "2  Charlie   35      Chicago\n"
     ]
    }
   ],
   "source": [
    "# Creating DataFrame using Dictonary \n",
    "data = {\n",
    "    'Name': ['Alice', 'Bob', 'Charlie'],\n",
    "    'Age': [25, 30, 35],\n",
    "    'City': ['New York', 'Los Angeles', 'Chicago']\n",
    "}\n",
    "df = pd.DataFrame(data)\n",
    "print(f'DataFrame using Dict:\\n{df}')\n",
    "\n",
    "# Creating DataFrame using numpy arrays\n",
    "data = np.array([\n",
    "    ['Alice', 25, 'New York'],\n",
    "    ['Bob', 30, 'Los Angeles'],\n",
    "    ['Charlie', 35, 'Chicago']\n",
    "])\n",
    "df = pd.DataFrame(data, columns=['Name', 'Age', 'City'])\n",
    "print(f'DataFrame using Numpy array:\\n{df}')\n",
    "\n",
    "# Creating DataFrame using list of lists\n",
    "data = [\n",
    "    ['Alice', 25, 'New York'],\n",
    "    ['Bob', 30, 'Los Angeles'],\n",
    "    ['Charlie', 35, 'Chicago']\n",
    "]\n",
    "df = pd.DataFrame(data, columns=['Name', 'Age', 'City'])\n",
    "print(f'DataFrame using Lists of List:\\n{df}')"
   ]
  },
  {
   "cell_type": "markdown",
   "metadata": {},
   "source": [
    "### DataFrame Attributes\n",
    "\n",
    "DataFrame attributes provide metadata and basic information about the DataFrame.<br>\n",
    "Some of the DataFrame attributes are:\n",
    "`df.shape`, \n",
    "`df.columns`, \n",
    "`df.index` ,\n",
    "`df.dtypes` ,\n",
    "`df.size` \n",
    "\n",
    "NOTE: \n",
    "1. You can use the print statement to print these variable or just execute the variable to see the values.\n",
    "2. You do not necessarily have to name your data frame to *df* you can give it a different name. Just like in Algebra to find unknow you use 'x' but you can name the unknow variable any other alphabet."
   ]
  },
  {
   "cell_type": "markdown",
   "metadata": {},
   "source": [
    "#### `df.shape` - Returns a tuple representing the dimensionality of the DataFrame.<br>"
   ]
  },
  {
   "cell_type": "code",
   "execution_count": 4,
   "metadata": {},
   "outputs": [
    {
     "name": "stdout",
     "output_type": "stream",
     "text": [
      "DataFrame:\n",
      "           Region  No. of Tourists  Average Temperature (F)\n",
      "0         Europe         30000000                       55\n",
      "1  North America         25000000                       65\n",
      "2           Asia         45000000                       75\n",
      "3         Africa         15000000                       85\n",
      "4  South America         22000000                       75\n",
      "\n",
      "Shape of Data Frame: (5, 3)\n"
     ]
    }
   ],
   "source": [
    "data = {\n",
    "    'Region': ['Europe', 'North America', 'Asia', 'Africa', 'South America'],\n",
    "    'No. of Tourists': [30000000, 25000000, 45000000, 15000000, 22000000],\n",
    "    'Average Temperature (F)': [55, 65, 75, 85, 75]\n",
    "}\n",
    "df = pd.DataFrame(data)\n",
    "print('DataFrame:\\n',df)\n",
    "\n",
    "print(f'')\n",
    "print(f'Shape of Data Frame: {df.shape}') # shape of the dataframe\n"
   ]
  },
  {
   "cell_type": "markdown",
   "metadata": {},
   "source": [
    "#### `df.columns` - Returns an Index object containing the column labels.<br>"
   ]
  },
  {
   "cell_type": "code",
   "execution_count": 5,
   "metadata": {},
   "outputs": [
    {
     "data": {
      "text/plain": [
       "Index(['Region', 'No. of Tourists', 'Average Temperature (F)'], dtype='object')"
      ]
     },
     "execution_count": 5,
     "metadata": {},
     "output_type": "execute_result"
    }
   ],
   "source": [
    "#print(f'Columns of Data Frame: {df.columns}') # gices the column names of the datagrame\n",
    "df.columns"
   ]
  },
  {
   "cell_type": "markdown",
   "metadata": {},
   "source": [
    "#### `df.index` - Returns an Index object containing the row labels.<br>"
   ]
  },
  {
   "cell_type": "code",
   "execution_count": 6,
   "metadata": {},
   "outputs": [
    {
     "data": {
      "text/plain": [
       "RangeIndex(start=0, stop=5, step=1)"
      ]
     },
     "execution_count": 6,
     "metadata": {},
     "output_type": "execute_result"
    }
   ],
   "source": [
    "#print(f'Index of Data Frame: {df.index}') #gives the index of the dataframe\n",
    "df.index"
   ]
  },
  {
   "cell_type": "code",
   "execution_count": 7,
   "metadata": {},
   "outputs": [
    {
     "data": {
      "text/plain": [
       "RangeIndex(start=0, stop=5, step=1)"
      ]
     },
     "execution_count": 7,
     "metadata": {},
     "output_type": "execute_result"
    }
   ],
   "source": [
    "# to find the index of a series you can do it the following way\n",
    "\n",
    "df['Region'].index"
   ]
  },
  {
   "cell_type": "markdown",
   "metadata": {},
   "source": [
    "#### `df.dtypes` - Returns the data types of each column.<br>"
   ]
  },
  {
   "cell_type": "code",
   "execution_count": 8,
   "metadata": {},
   "outputs": [
    {
     "data": {
      "text/plain": [
       "Region                     object\n",
       "No. of Tourists             int64\n",
       "Average Temperature (F)     int64\n",
       "dtype: object"
      ]
     },
     "execution_count": 8,
     "metadata": {},
     "output_type": "execute_result"
    }
   ],
   "source": [
    "#print(f'Data-types of columns of Data Frame: {df.dtypes}') #returns the datatype of the dataframe\n",
    "df.dtypes"
   ]
  },
  {
   "cell_type": "code",
   "execution_count": 9,
   "metadata": {},
   "outputs": [
    {
     "data": {
      "text/plain": [
       "dtype('O')"
      ]
     },
     "execution_count": 9,
     "metadata": {},
     "output_type": "execute_result"
    }
   ],
   "source": [
    "# to find the datatype of the series\n",
    "df['Region'].dtype #change the city name to 'No. of Tourist and see the datatype"
   ]
  },
  {
   "cell_type": "markdown",
   "metadata": {},
   "source": [
    "#### `df.size` - Returns the number of elements in the DataFrame.<br>"
   ]
  },
  {
   "cell_type": "code",
   "execution_count": 10,
   "metadata": {},
   "outputs": [
    {
     "data": {
      "text/plain": [
       "15"
      ]
     },
     "execution_count": 10,
     "metadata": {},
     "output_type": "execute_result"
    }
   ],
   "source": [
    "#print(f'Size of Data Frame: {df.size}') #returns the length of the dataframe\n",
    "df.size"
   ]
  },
  {
   "cell_type": "markdown",
   "metadata": {},
   "source": [
    "#### `df.min()` - Return the minmum value"
   ]
  },
  {
   "cell_type": "code",
   "execution_count": 11,
   "metadata": {},
   "outputs": [
    {
     "data": {
      "text/plain": [
       "15000000"
      ]
     },
     "execution_count": 11,
     "metadata": {},
     "output_type": "execute_result"
    }
   ],
   "source": [
    "df['No. of Tourists'].min()"
   ]
  },
  {
   "cell_type": "markdown",
   "metadata": {},
   "source": [
    "#### `df.max()` - Returns the maximmum value"
   ]
  },
  {
   "cell_type": "code",
   "execution_count": 12,
   "metadata": {},
   "outputs": [
    {
     "data": {
      "text/plain": [
       "85"
      ]
     },
     "execution_count": 12,
     "metadata": {},
     "output_type": "execute_result"
    }
   ],
   "source": [
    "df['Average Temperature (F)'].max()"
   ]
  },
  {
   "cell_type": "markdown",
   "metadata": {},
   "source": [
    "#### `df.unique()` - The .unique method will return a NumPy array with the unique values."
   ]
  },
  {
   "cell_type": "code",
   "execution_count": 13,
   "metadata": {},
   "outputs": [
    {
     "data": {
      "text/plain": [
       "array([55, 65, 75, 85])"
      ]
     },
     "execution_count": 13,
     "metadata": {},
     "output_type": "execute_result"
    }
   ],
   "source": [
    "df['Average Temperature (F)'].unique()"
   ]
  },
  {
   "cell_type": "markdown",
   "metadata": {},
   "source": [
    "### DataFrame and Methods\n",
    "`head()`<br>\n",
    "`tail()`<br>\n",
    "`info()`<br>\n",
    "`describe()`<br>\n",
    "`drop()`<br>\n",
    "`value_counts()`<br>\n",
    "`rename()`\n"
   ]
  },
  {
   "cell_type": "markdown",
   "metadata": {},
   "source": [
    "#### `head()`: Shows the first n rows of the dataframe.<br>"
   ]
  },
  {
   "cell_type": "code",
   "execution_count": 14,
   "metadata": {},
   "outputs": [
    {
     "name": "stdout",
     "output_type": "stream",
     "text": [
      "First 5 rows of the data\n",
      "          Region  No. of Tourists  Average Temperature (F)\n",
      "0         Europe         30000000                       55\n",
      "1  North America         25000000                       65\n",
      "2           Asia         45000000                       75\n",
      "3         Africa         15000000                       85\n",
      "4  South America         22000000                       75\n"
     ]
    }
   ],
   "source": [
    "# Data containing popular cities and some information regarding City, state, population, temp.\n",
    "# this is not a true data and has been created for understanding the concept purpose\n",
    "data = {\n",
    "    'City Name': ['New York City', 'Los Angeles', 'Chicago', 'Houston', 'Phoenix', 'Philadelphia', 'San Antonio', 'San Diego', 'Dallas', 'San Jose'],\n",
    "    'State Name': ['New York', 'California', 'Illinois', 'Texas', 'Arizona', 'Pennsylvania', 'Texas', 'California', 'Texas', None],\n",
    "    'Population (approx.)': [8400000, 4000000, 2700000, 2300000, 1600000, 1600000, 1500000, 1400000, 1400000, 1000000],\n",
    "    'Average Temperature (F)': [52, 64, 51, 69, 78, 54, 72, 67, 66, 62],\n",
    "    'Average Income (USD)': [73000, 68000, None, 65000, 58000,None, 55000, 70000, 63000, None]\n",
    "}\n",
    "city_df = pd.DataFrame(data)\n",
    "\n",
    "\n",
    "# use head() to get the first n rows of dataframe\n",
    "print(f'First 5 rows of the data\\n{df.head(5)}') #replace 5 with any other number to see the results"
   ]
  },
  {
   "cell_type": "markdown",
   "metadata": {},
   "source": [
    "#### `tail()`: Shows the last n rows of the dataframe.<br>"
   ]
  },
  {
   "cell_type": "code",
   "execution_count": 15,
   "metadata": {},
   "outputs": [
    {
     "name": "stdout",
     "output_type": "stream",
     "text": [
      "Last 6 rows of the data\n",
      "      City Name    State Name  Population (approx.)  Average Temperature (F)  \\\n",
      "4       Phoenix       Arizona               1600000                       78   \n",
      "5  Philadelphia  Pennsylvania               1600000                       54   \n",
      "6   San Antonio         Texas               1500000                       72   \n",
      "7     San Diego    California               1400000                       67   \n",
      "8        Dallas         Texas               1400000                       66   \n",
      "9      San Jose          None               1000000                       62   \n",
      "\n",
      "   Average Income (USD)  \n",
      "4               58000.0  \n",
      "5                   NaN  \n",
      "6               55000.0  \n",
      "7               70000.0  \n",
      "8               63000.0  \n",
      "9                   NaN  \n"
     ]
    }
   ],
   "source": [
    "# use tail to get the last n rows of the dataframe\n",
    "print(f'Last 6 rows of the data\\n{city_df.tail(6)}') # replace 6 with any no. to see the results"
   ]
  },
  {
   "cell_type": "markdown",
   "metadata": {},
   "source": [
    "#### `info()`: Provides a summary of the DataFrame, including the index dtype, column dtypes, non-null values, and memory usage.<br>"
   ]
  },
  {
   "cell_type": "code",
   "execution_count": 16,
   "metadata": {},
   "outputs": [
    {
     "name": "stdout",
     "output_type": "stream",
     "text": [
      "<class 'pandas.core.frame.DataFrame'>\n",
      "RangeIndex: 10 entries, 0 to 9\n",
      "Data columns (total 5 columns):\n",
      " #   Column                   Non-Null Count  Dtype  \n",
      "---  ------                   --------------  -----  \n",
      " 0   City Name                10 non-null     object \n",
      " 1   State Name               9 non-null      object \n",
      " 2   Population (approx.)     10 non-null     int64  \n",
      " 3   Average Temperature (F)  10 non-null     int64  \n",
      " 4   Average Income (USD)     7 non-null      float64\n",
      "dtypes: float64(1), int64(2), object(2)\n",
      "memory usage: 532.0+ bytes\n"
     ]
    }
   ],
   "source": [
    "city_df.info()"
   ]
  },
  {
   "cell_type": "markdown",
   "metadata": {},
   "source": [
    "#### `describe()`: Generates descriptive statistics that summarize the central tendency, dispersion, and shape of a dataset’s distribution, excluding NaN values.<br>"
   ]
  },
  {
   "cell_type": "code",
   "execution_count": 17,
   "metadata": {},
   "outputs": [
    {
     "data": {
      "text/html": [
       "<div>\n",
       "<style scoped>\n",
       "    .dataframe tbody tr th:only-of-type {\n",
       "        vertical-align: middle;\n",
       "    }\n",
       "\n",
       "    .dataframe tbody tr th {\n",
       "        vertical-align: top;\n",
       "    }\n",
       "\n",
       "    .dataframe thead th {\n",
       "        text-align: right;\n",
       "    }\n",
       "</style>\n",
       "<table border=\"1\" class=\"dataframe\">\n",
       "  <thead>\n",
       "    <tr style=\"text-align: right;\">\n",
       "      <th></th>\n",
       "      <th>Population (approx.)</th>\n",
       "      <th>Average Temperature (F)</th>\n",
       "      <th>Average Income (USD)</th>\n",
       "    </tr>\n",
       "  </thead>\n",
       "  <tbody>\n",
       "    <tr>\n",
       "      <th>count</th>\n",
       "      <td>1.000000e+01</td>\n",
       "      <td>10.000000</td>\n",
       "      <td>7.000000</td>\n",
       "    </tr>\n",
       "    <tr>\n",
       "      <th>mean</th>\n",
       "      <td>2.590000e+06</td>\n",
       "      <td>63.500000</td>\n",
       "      <td>64571.428571</td>\n",
       "    </tr>\n",
       "    <tr>\n",
       "      <th>std</th>\n",
       "      <td>2.219835e+06</td>\n",
       "      <td>8.897565</td>\n",
       "      <td>6451.282634</td>\n",
       "    </tr>\n",
       "    <tr>\n",
       "      <th>min</th>\n",
       "      <td>1.000000e+06</td>\n",
       "      <td>51.000000</td>\n",
       "      <td>55000.000000</td>\n",
       "    </tr>\n",
       "    <tr>\n",
       "      <th>25%</th>\n",
       "      <td>1.425000e+06</td>\n",
       "      <td>56.000000</td>\n",
       "      <td>60500.000000</td>\n",
       "    </tr>\n",
       "    <tr>\n",
       "      <th>50%</th>\n",
       "      <td>1.600000e+06</td>\n",
       "      <td>65.000000</td>\n",
       "      <td>65000.000000</td>\n",
       "    </tr>\n",
       "    <tr>\n",
       "      <th>75%</th>\n",
       "      <td>2.600000e+06</td>\n",
       "      <td>68.500000</td>\n",
       "      <td>69000.000000</td>\n",
       "    </tr>\n",
       "    <tr>\n",
       "      <th>max</th>\n",
       "      <td>8.400000e+06</td>\n",
       "      <td>78.000000</td>\n",
       "      <td>73000.000000</td>\n",
       "    </tr>\n",
       "  </tbody>\n",
       "</table>\n",
       "</div>"
      ],
      "text/plain": [
       "       Population (approx.)  Average Temperature (F)  Average Income (USD)\n",
       "count          1.000000e+01                10.000000              7.000000\n",
       "mean           2.590000e+06                63.500000          64571.428571\n",
       "std            2.219835e+06                 8.897565           6451.282634\n",
       "min            1.000000e+06                51.000000          55000.000000\n",
       "25%            1.425000e+06                56.000000          60500.000000\n",
       "50%            1.600000e+06                65.000000          65000.000000\n",
       "75%            2.600000e+06                68.500000          69000.000000\n",
       "max            8.400000e+06                78.000000          73000.000000"
      ]
     },
     "execution_count": 17,
     "metadata": {},
     "output_type": "execute_result"
    }
   ],
   "source": [
    "city_df.describe()"
   ]
  },
  {
   "cell_type": "markdown",
   "metadata": {},
   "source": [
    "#### `drop()`: Drops specified labels from rows or columns.<br>\n"
   ]
  },
  {
   "cell_type": "code",
   "execution_count": 18,
   "metadata": {},
   "outputs": [
    {
     "data": {
      "text/html": [
       "<div>\n",
       "<style scoped>\n",
       "    .dataframe tbody tr th:only-of-type {\n",
       "        vertical-align: middle;\n",
       "    }\n",
       "\n",
       "    .dataframe tbody tr th {\n",
       "        vertical-align: top;\n",
       "    }\n",
       "\n",
       "    .dataframe thead th {\n",
       "        text-align: right;\n",
       "    }\n",
       "</style>\n",
       "<table border=\"1\" class=\"dataframe\">\n",
       "  <thead>\n",
       "    <tr style=\"text-align: right;\">\n",
       "      <th></th>\n",
       "      <th>City Name</th>\n",
       "      <th>State Name</th>\n",
       "      <th>Population (approx.)</th>\n",
       "      <th>Average Temperature (F)</th>\n",
       "      <th>Average Income (USD)</th>\n",
       "    </tr>\n",
       "  </thead>\n",
       "  <tbody>\n",
       "    <tr>\n",
       "      <th>0</th>\n",
       "      <td>New York City</td>\n",
       "      <td>New York</td>\n",
       "      <td>8400000</td>\n",
       "      <td>52</td>\n",
       "      <td>73000.0</td>\n",
       "    </tr>\n",
       "    <tr>\n",
       "      <th>1</th>\n",
       "      <td>Los Angeles</td>\n",
       "      <td>California</td>\n",
       "      <td>4000000</td>\n",
       "      <td>64</td>\n",
       "      <td>68000.0</td>\n",
       "    </tr>\n",
       "    <tr>\n",
       "      <th>2</th>\n",
       "      <td>Chicago</td>\n",
       "      <td>Illinois</td>\n",
       "      <td>2700000</td>\n",
       "      <td>51</td>\n",
       "      <td>NaN</td>\n",
       "    </tr>\n",
       "    <tr>\n",
       "      <th>3</th>\n",
       "      <td>Houston</td>\n",
       "      <td>Texas</td>\n",
       "      <td>2300000</td>\n",
       "      <td>69</td>\n",
       "      <td>65000.0</td>\n",
       "    </tr>\n",
       "    <tr>\n",
       "      <th>4</th>\n",
       "      <td>Phoenix</td>\n",
       "      <td>Arizona</td>\n",
       "      <td>1600000</td>\n",
       "      <td>78</td>\n",
       "      <td>58000.0</td>\n",
       "    </tr>\n",
       "    <tr>\n",
       "      <th>5</th>\n",
       "      <td>Philadelphia</td>\n",
       "      <td>Pennsylvania</td>\n",
       "      <td>1600000</td>\n",
       "      <td>54</td>\n",
       "      <td>NaN</td>\n",
       "    </tr>\n",
       "    <tr>\n",
       "      <th>6</th>\n",
       "      <td>San Antonio</td>\n",
       "      <td>Texas</td>\n",
       "      <td>1500000</td>\n",
       "      <td>72</td>\n",
       "      <td>55000.0</td>\n",
       "    </tr>\n",
       "    <tr>\n",
       "      <th>7</th>\n",
       "      <td>San Diego</td>\n",
       "      <td>California</td>\n",
       "      <td>1400000</td>\n",
       "      <td>67</td>\n",
       "      <td>70000.0</td>\n",
       "    </tr>\n",
       "    <tr>\n",
       "      <th>8</th>\n",
       "      <td>Dallas</td>\n",
       "      <td>Texas</td>\n",
       "      <td>1400000</td>\n",
       "      <td>66</td>\n",
       "      <td>63000.0</td>\n",
       "    </tr>\n",
       "    <tr>\n",
       "      <th>9</th>\n",
       "      <td>San Jose</td>\n",
       "      <td>None</td>\n",
       "      <td>1000000</td>\n",
       "      <td>62</td>\n",
       "      <td>NaN</td>\n",
       "    </tr>\n",
       "  </tbody>\n",
       "</table>\n",
       "</div>"
      ],
      "text/plain": [
       "       City Name    State Name  Population (approx.)  Average Temperature (F)  \\\n",
       "0  New York City      New York               8400000                       52   \n",
       "1    Los Angeles    California               4000000                       64   \n",
       "2        Chicago      Illinois               2700000                       51   \n",
       "3        Houston         Texas               2300000                       69   \n",
       "4        Phoenix       Arizona               1600000                       78   \n",
       "5   Philadelphia  Pennsylvania               1600000                       54   \n",
       "6    San Antonio         Texas               1500000                       72   \n",
       "7      San Diego    California               1400000                       67   \n",
       "8         Dallas         Texas               1400000                       66   \n",
       "9       San Jose          None               1000000                       62   \n",
       "\n",
       "   Average Income (USD)  \n",
       "0               73000.0  \n",
       "1               68000.0  \n",
       "2                   NaN  \n",
       "3               65000.0  \n",
       "4               58000.0  \n",
       "5                   NaN  \n",
       "6               55000.0  \n",
       "7               70000.0  \n",
       "8               63000.0  \n",
       "9                   NaN  "
      ]
     },
     "execution_count": 18,
     "metadata": {},
     "output_type": "execute_result"
    }
   ],
   "source": [
    "# Let's delete the column 'Average Income(USD)'\n",
    "city_df.drop(columns = ['Average Income (USD)'],axis = 1,inplace = False) \n",
    "city_df\n",
    "\n",
    "#If the column does not exist it will throw an error.\n",
    "#modify the inplace = True and print the df(DataFrame) in the next cell to see the results\n",
    "#city_df.drop(5,axis=0)"
   ]
  },
  {
   "cell_type": "markdown",
   "metadata": {},
   "source": [
    "When `inplace = False` , which is the default, then the operation is performed and it returns a copy of the object. You then need to save it to something. When `inplace = True` , the data is modified in place, which means it will return nothing and the dataframe is now updated"
   ]
  },
  {
   "cell_type": "markdown",
   "metadata": {},
   "source": [
    "#### `value_counts()`: Returns a Series containing counts of unique values."
   ]
  },
  {
   "cell_type": "code",
   "execution_count": 19,
   "metadata": {},
   "outputs": [
    {
     "name": "stdout",
     "output_type": "stream",
     "text": [
      "object     2\n",
      "int64      2\n",
      "float64    1\n",
      "Name: count, dtype: int64\n",
      "\n",
      "State Name\n",
      "Texas           3\n",
      "California      2\n",
      "New York        1\n",
      "Illinois        1\n",
      "Arizona         1\n",
      "Pennsylvania    1\n",
      "Name: count, dtype: int64\n"
     ]
    }
   ],
   "source": [
    "#The .value_counts method returns the count of all the data types in the DataFrame \n",
    "# when called on the .dtypes attribute.\n",
    "dtypes_count=city_df.dtypes.value_counts() \n",
    "print(dtypes_count)\n",
    "\n",
    "print(f'')\n",
    "u_state_count=city_df['State Name'].value_counts() #gives count of unique states from the dataframe\n",
    "print(f'{u_state_count}')"
   ]
  },
  {
   "cell_type": "markdown",
   "metadata": {},
   "source": [
    "#### `rename()` - This method allows you to rename columns or index labels with a dictionary mapping of old names to new names."
   ]
  },
  {
   "cell_type": "code",
   "execution_count": 20,
   "metadata": {},
   "outputs": [
    {
     "data": {
      "text/html": [
       "<div>\n",
       "<style scoped>\n",
       "    .dataframe tbody tr th:only-of-type {\n",
       "        vertical-align: middle;\n",
       "    }\n",
       "\n",
       "    .dataframe tbody tr th {\n",
       "        vertical-align: top;\n",
       "    }\n",
       "\n",
       "    .dataframe thead th {\n",
       "        text-align: right;\n",
       "    }\n",
       "</style>\n",
       "<table border=\"1\" class=\"dataframe\">\n",
       "  <thead>\n",
       "    <tr style=\"text-align: right;\">\n",
       "      <th></th>\n",
       "      <th>city_name</th>\n",
       "      <th>state_name</th>\n",
       "      <th>population_approx</th>\n",
       "      <th>avg.temp_f</th>\n",
       "      <th>avg_income_usd</th>\n",
       "    </tr>\n",
       "  </thead>\n",
       "  <tbody>\n",
       "    <tr>\n",
       "      <th>0</th>\n",
       "      <td>New York City</td>\n",
       "      <td>New York</td>\n",
       "      <td>8400000</td>\n",
       "      <td>52</td>\n",
       "      <td>73000.0</td>\n",
       "    </tr>\n",
       "    <tr>\n",
       "      <th>1</th>\n",
       "      <td>Los Angeles</td>\n",
       "      <td>California</td>\n",
       "      <td>4000000</td>\n",
       "      <td>64</td>\n",
       "      <td>68000.0</td>\n",
       "    </tr>\n",
       "    <tr>\n",
       "      <th>2</th>\n",
       "      <td>Chicago</td>\n",
       "      <td>Illinois</td>\n",
       "      <td>2700000</td>\n",
       "      <td>51</td>\n",
       "      <td>NaN</td>\n",
       "    </tr>\n",
       "    <tr>\n",
       "      <th>3</th>\n",
       "      <td>Houston</td>\n",
       "      <td>Texas</td>\n",
       "      <td>2300000</td>\n",
       "      <td>69</td>\n",
       "      <td>65000.0</td>\n",
       "    </tr>\n",
       "    <tr>\n",
       "      <th>4</th>\n",
       "      <td>Phoenix</td>\n",
       "      <td>Arizona</td>\n",
       "      <td>1600000</td>\n",
       "      <td>78</td>\n",
       "      <td>58000.0</td>\n",
       "    </tr>\n",
       "    <tr>\n",
       "      <th>5</th>\n",
       "      <td>Philadelphia</td>\n",
       "      <td>Pennsylvania</td>\n",
       "      <td>1600000</td>\n",
       "      <td>54</td>\n",
       "      <td>NaN</td>\n",
       "    </tr>\n",
       "    <tr>\n",
       "      <th>6</th>\n",
       "      <td>San Antonio</td>\n",
       "      <td>Texas</td>\n",
       "      <td>1500000</td>\n",
       "      <td>72</td>\n",
       "      <td>55000.0</td>\n",
       "    </tr>\n",
       "    <tr>\n",
       "      <th>7</th>\n",
       "      <td>San Diego</td>\n",
       "      <td>California</td>\n",
       "      <td>1400000</td>\n",
       "      <td>67</td>\n",
       "      <td>70000.0</td>\n",
       "    </tr>\n",
       "    <tr>\n",
       "      <th>8</th>\n",
       "      <td>Dallas</td>\n",
       "      <td>Texas</td>\n",
       "      <td>1400000</td>\n",
       "      <td>66</td>\n",
       "      <td>63000.0</td>\n",
       "    </tr>\n",
       "    <tr>\n",
       "      <th>9</th>\n",
       "      <td>San Jose</td>\n",
       "      <td>None</td>\n",
       "      <td>1000000</td>\n",
       "      <td>62</td>\n",
       "      <td>NaN</td>\n",
       "    </tr>\n",
       "  </tbody>\n",
       "</table>\n",
       "</div>"
      ],
      "text/plain": [
       "       city_name    state_name  population_approx  avg.temp_f  avg_income_usd\n",
       "0  New York City      New York            8400000          52         73000.0\n",
       "1    Los Angeles    California            4000000          64         68000.0\n",
       "2        Chicago      Illinois            2700000          51             NaN\n",
       "3        Houston         Texas            2300000          69         65000.0\n",
       "4        Phoenix       Arizona            1600000          78         58000.0\n",
       "5   Philadelphia  Pennsylvania            1600000          54             NaN\n",
       "6    San Antonio         Texas            1500000          72         55000.0\n",
       "7      San Diego    California            1400000          67         70000.0\n",
       "8         Dallas         Texas            1400000          66         63000.0\n",
       "9       San Jose          None            1000000          62             NaN"
      ]
     },
     "execution_count": 20,
     "metadata": {},
     "output_type": "execute_result"
    }
   ],
   "source": [
    "# lets rename all the columns \n",
    "city_df.rename(columns={\n",
    "    'City Name':'city_name',\n",
    "    'State Name':'state_name',\n",
    "    'Population (approx.)':'population_approx',\n",
    "    'Average Temperature (F)':'avg.temp_f',\n",
    "    'Average Income (USD)':'avg_income_usd'\n",
    "    }, inplace = True)\n",
    "\n",
    "city_df"
   ]
  },
  {
   "cell_type": "markdown",
   "metadata": {},
   "source": [
    "#### `sort_values()`\n",
    "\n",
    "To sort a DataFrame by the values of a column, use the sort_values() method\n",
    "\n",
    "Parameters:\n",
    "\n",
    "* by: Column or list of columns to sort by.\n",
    "* axis: Specifies the axis to sort along. 0 for rows (default), 1 for columns.\n",
    "* ascending: Sort order for each column. Can be a boolean or a list of booleans.\n",
    "* inplace: If True, modify the DataFrame in place, otherwise return a copy.\n",
    "* na_position: Position of NaN values. Can be 'first' or 'last'."
   ]
  },
  {
   "cell_type": "code",
   "execution_count": 25,
   "metadata": {},
   "outputs": [
    {
     "data": {
      "text/html": [
       "<div>\n",
       "<style scoped>\n",
       "    .dataframe tbody tr th:only-of-type {\n",
       "        vertical-align: middle;\n",
       "    }\n",
       "\n",
       "    .dataframe tbody tr th {\n",
       "        vertical-align: top;\n",
       "    }\n",
       "\n",
       "    .dataframe thead th {\n",
       "        text-align: right;\n",
       "    }\n",
       "</style>\n",
       "<table border=\"1\" class=\"dataframe\">\n",
       "  <thead>\n",
       "    <tr style=\"text-align: right;\">\n",
       "      <th></th>\n",
       "      <th>city_name</th>\n",
       "      <th>state_name</th>\n",
       "      <th>population_approx</th>\n",
       "      <th>avg.temp_f</th>\n",
       "      <th>avg_income_usd</th>\n",
       "    </tr>\n",
       "  </thead>\n",
       "  <tbody>\n",
       "    <tr>\n",
       "      <th>4</th>\n",
       "      <td>Phoenix</td>\n",
       "      <td>Arizona</td>\n",
       "      <td>1600000</td>\n",
       "      <td>78</td>\n",
       "      <td>58000.0</td>\n",
       "    </tr>\n",
       "    <tr>\n",
       "      <th>6</th>\n",
       "      <td>San Antonio</td>\n",
       "      <td>Texas</td>\n",
       "      <td>1500000</td>\n",
       "      <td>72</td>\n",
       "      <td>55000.0</td>\n",
       "    </tr>\n",
       "    <tr>\n",
       "      <th>3</th>\n",
       "      <td>Houston</td>\n",
       "      <td>Texas</td>\n",
       "      <td>2300000</td>\n",
       "      <td>69</td>\n",
       "      <td>65000.0</td>\n",
       "    </tr>\n",
       "    <tr>\n",
       "      <th>7</th>\n",
       "      <td>San Diego</td>\n",
       "      <td>California</td>\n",
       "      <td>1400000</td>\n",
       "      <td>67</td>\n",
       "      <td>70000.0</td>\n",
       "    </tr>\n",
       "    <tr>\n",
       "      <th>8</th>\n",
       "      <td>Dallas</td>\n",
       "      <td>Texas</td>\n",
       "      <td>1400000</td>\n",
       "      <td>66</td>\n",
       "      <td>63000.0</td>\n",
       "    </tr>\n",
       "    <tr>\n",
       "      <th>1</th>\n",
       "      <td>Los Angeles</td>\n",
       "      <td>California</td>\n",
       "      <td>4000000</td>\n",
       "      <td>64</td>\n",
       "      <td>68000.0</td>\n",
       "    </tr>\n",
       "    <tr>\n",
       "      <th>9</th>\n",
       "      <td>San Jose</td>\n",
       "      <td>None</td>\n",
       "      <td>1000000</td>\n",
       "      <td>62</td>\n",
       "      <td>NaN</td>\n",
       "    </tr>\n",
       "    <tr>\n",
       "      <th>5</th>\n",
       "      <td>Philadelphia</td>\n",
       "      <td>Pennsylvania</td>\n",
       "      <td>1600000</td>\n",
       "      <td>54</td>\n",
       "      <td>NaN</td>\n",
       "    </tr>\n",
       "    <tr>\n",
       "      <th>0</th>\n",
       "      <td>New York City</td>\n",
       "      <td>New York</td>\n",
       "      <td>8400000</td>\n",
       "      <td>52</td>\n",
       "      <td>73000.0</td>\n",
       "    </tr>\n",
       "    <tr>\n",
       "      <th>2</th>\n",
       "      <td>Chicago</td>\n",
       "      <td>Illinois</td>\n",
       "      <td>2700000</td>\n",
       "      <td>51</td>\n",
       "      <td>NaN</td>\n",
       "    </tr>\n",
       "  </tbody>\n",
       "</table>\n",
       "</div>"
      ],
      "text/plain": [
       "       city_name    state_name  population_approx  avg.temp_f  avg_income_usd\n",
       "4        Phoenix       Arizona            1600000          78         58000.0\n",
       "6    San Antonio         Texas            1500000          72         55000.0\n",
       "3        Houston         Texas            2300000          69         65000.0\n",
       "7      San Diego    California            1400000          67         70000.0\n",
       "8         Dallas         Texas            1400000          66         63000.0\n",
       "1    Los Angeles    California            4000000          64         68000.0\n",
       "9       San Jose          None            1000000          62             NaN\n",
       "5   Philadelphia  Pennsylvania            1600000          54             NaN\n",
       "0  New York City      New York            8400000          52         73000.0\n",
       "2        Chicago      Illinois            2700000          51             NaN"
      ]
     },
     "execution_count": 25,
     "metadata": {},
     "output_type": "execute_result"
    }
   ],
   "source": [
    "# sorting based on one column\n",
    "city_df.sort_values('population_approx',ascending=True)\n",
    "\n",
    "\n",
    "# sorting based on multiple column\n",
    "city_df.sort_values(['avg.temp_f','population_approx'],ascending=False)"
   ]
  },
  {
   "cell_type": "markdown",
   "metadata": {},
   "source": [
    "#### `sort_index()`\n",
    "\n",
    "To sort a DataFrame by its index, use the sort_index() method\n",
    "\n",
    "Parameters:\n",
    "\n",
    "* axis: Specifies the axis to sort along. 0 for rows (default), 1 for columns.\n",
    "* level: Sort by a specific level in a MultiIndex.\n",
    "* ascending: Sort in ascending (True) or descending (False) order.\n",
    "* inplace: If True, modify the DataFrame in place, otherwise return a copy."
   ]
  },
  {
   "cell_type": "code",
   "execution_count": 28,
   "metadata": {},
   "outputs": [
    {
     "data": {
      "text/html": [
       "<div>\n",
       "<style scoped>\n",
       "    .dataframe tbody tr th:only-of-type {\n",
       "        vertical-align: middle;\n",
       "    }\n",
       "\n",
       "    .dataframe tbody tr th {\n",
       "        vertical-align: top;\n",
       "    }\n",
       "\n",
       "    .dataframe thead th {\n",
       "        text-align: right;\n",
       "    }\n",
       "</style>\n",
       "<table border=\"1\" class=\"dataframe\">\n",
       "  <thead>\n",
       "    <tr style=\"text-align: right;\">\n",
       "      <th></th>\n",
       "      <th>avg.temp_f</th>\n",
       "      <th>avg_income_usd</th>\n",
       "      <th>city_name</th>\n",
       "      <th>population_approx</th>\n",
       "      <th>state_name</th>\n",
       "    </tr>\n",
       "  </thead>\n",
       "  <tbody>\n",
       "    <tr>\n",
       "      <th>0</th>\n",
       "      <td>52</td>\n",
       "      <td>73000.0</td>\n",
       "      <td>New York City</td>\n",
       "      <td>8400000</td>\n",
       "      <td>New York</td>\n",
       "    </tr>\n",
       "    <tr>\n",
       "      <th>1</th>\n",
       "      <td>64</td>\n",
       "      <td>68000.0</td>\n",
       "      <td>Los Angeles</td>\n",
       "      <td>4000000</td>\n",
       "      <td>California</td>\n",
       "    </tr>\n",
       "    <tr>\n",
       "      <th>2</th>\n",
       "      <td>51</td>\n",
       "      <td>NaN</td>\n",
       "      <td>Chicago</td>\n",
       "      <td>2700000</td>\n",
       "      <td>Illinois</td>\n",
       "    </tr>\n",
       "    <tr>\n",
       "      <th>3</th>\n",
       "      <td>69</td>\n",
       "      <td>65000.0</td>\n",
       "      <td>Houston</td>\n",
       "      <td>2300000</td>\n",
       "      <td>Texas</td>\n",
       "    </tr>\n",
       "    <tr>\n",
       "      <th>4</th>\n",
       "      <td>78</td>\n",
       "      <td>58000.0</td>\n",
       "      <td>Phoenix</td>\n",
       "      <td>1600000</td>\n",
       "      <td>Arizona</td>\n",
       "    </tr>\n",
       "    <tr>\n",
       "      <th>5</th>\n",
       "      <td>54</td>\n",
       "      <td>NaN</td>\n",
       "      <td>Philadelphia</td>\n",
       "      <td>1600000</td>\n",
       "      <td>Pennsylvania</td>\n",
       "    </tr>\n",
       "    <tr>\n",
       "      <th>6</th>\n",
       "      <td>72</td>\n",
       "      <td>55000.0</td>\n",
       "      <td>San Antonio</td>\n",
       "      <td>1500000</td>\n",
       "      <td>Texas</td>\n",
       "    </tr>\n",
       "    <tr>\n",
       "      <th>7</th>\n",
       "      <td>67</td>\n",
       "      <td>70000.0</td>\n",
       "      <td>San Diego</td>\n",
       "      <td>1400000</td>\n",
       "      <td>California</td>\n",
       "    </tr>\n",
       "    <tr>\n",
       "      <th>8</th>\n",
       "      <td>66</td>\n",
       "      <td>63000.0</td>\n",
       "      <td>Dallas</td>\n",
       "      <td>1400000</td>\n",
       "      <td>Texas</td>\n",
       "    </tr>\n",
       "    <tr>\n",
       "      <th>9</th>\n",
       "      <td>62</td>\n",
       "      <td>NaN</td>\n",
       "      <td>San Jose</td>\n",
       "      <td>1000000</td>\n",
       "      <td>None</td>\n",
       "    </tr>\n",
       "  </tbody>\n",
       "</table>\n",
       "</div>"
      ],
      "text/plain": [
       "   avg.temp_f  avg_income_usd      city_name  population_approx    state_name\n",
       "0          52         73000.0  New York City            8400000      New York\n",
       "1          64         68000.0    Los Angeles            4000000    California\n",
       "2          51             NaN        Chicago            2700000      Illinois\n",
       "3          69         65000.0        Houston            2300000         Texas\n",
       "4          78         58000.0        Phoenix            1600000       Arizona\n",
       "5          54             NaN   Philadelphia            1600000  Pennsylvania\n",
       "6          72         55000.0    San Antonio            1500000         Texas\n",
       "7          67         70000.0      San Diego            1400000    California\n",
       "8          66         63000.0         Dallas            1400000         Texas\n",
       "9          62             NaN       San Jose            1000000          None"
      ]
     },
     "execution_count": 28,
     "metadata": {},
     "output_type": "execute_result"
    }
   ],
   "source": [
    "# sort index\n",
    "city_df.sort_index(ascending=False)\n",
    "\n",
    "# sort column index\n",
    "city_df.sort_index(axis=1)"
   ]
  },
  {
   "cell_type": "markdown",
   "metadata": {},
   "source": [
    "# Accesing Data, Quering Rows and Columns"
   ]
  },
  {
   "cell_type": "markdown",
   "metadata": {},
   "source": [
    "### Selecting Columns"
   ]
  },
  {
   "cell_type": "code",
   "execution_count": null,
   "metadata": {},
   "outputs": [],
   "source": [
    "city_df['state_name'] #selecting single column"
   ]
  },
  {
   "cell_type": "code",
   "execution_count": null,
   "metadata": {},
   "outputs": [],
   "source": [
    "city_df[['city_name','avg.temp_f','state_name']] #selecting multiple columns"
   ]
  },
  {
   "cell_type": "markdown",
   "metadata": {},
   "source": [
    "### `loc` Method\n",
    "\n",
    "loc is label-based, which means that you have to specify rows and columns based on their labels."
   ]
  },
  {
   "cell_type": "code",
   "execution_count": null,
   "metadata": {},
   "outputs": [],
   "source": [
    "#Let's Use the above city example\n",
    "city_df.loc[:,\"state_name\"] #print all the rows of the colum 'state_name'"
   ]
  },
  {
   "cell_type": "code",
   "execution_count": null,
   "metadata": {},
   "outputs": [],
   "source": [
    "city_df.loc[0] #Print only the first row"
   ]
  },
  {
   "cell_type": "code",
   "execution_count": null,
   "metadata": {},
   "outputs": [],
   "source": [
    "city_df.loc[0:5] #print the first 6 rows"
   ]
  },
  {
   "cell_type": "code",
   "execution_count": null,
   "metadata": {},
   "outputs": [],
   "source": [
    "city_df.loc[0:2,['city_name','population_approx']] #prints mutiple rows and columns"
   ]
  },
  {
   "cell_type": "markdown",
   "metadata": {},
   "source": [
    "### `iloc` Method\n",
    "\n",
    "It is an integer-based, which means you have to specify rows and columns by their integer position."
   ]
  },
  {
   "cell_type": "code",
   "execution_count": null,
   "metadata": {},
   "outputs": [],
   "source": [
    "city_df.iloc[4] #selecting a single row by interger position"
   ]
  },
  {
   "cell_type": "code",
   "execution_count": null,
   "metadata": {},
   "outputs": [],
   "source": [
    "city_df.iloc[2:5] #selecting multiple rows"
   ]
  },
  {
   "cell_type": "code",
   "execution_count": null,
   "metadata": {},
   "outputs": [],
   "source": [
    "city_df.iloc[:,3] #Selecting all rows but a single column"
   ]
  },
  {
   "cell_type": "code",
   "execution_count": null,
   "metadata": {},
   "outputs": [],
   "source": [
    "city_df.iloc[3:6,0:3] #selecting multiple rows and columns"
   ]
  },
  {
   "cell_type": "markdown",
   "metadata": {},
   "source": [
    "### `Boolean Indexing`\n",
    "\n",
    "Boolean indexing allows you to filter data based on conditions."
   ]
  },
  {
   "cell_type": "code",
   "execution_count": null,
   "metadata": {},
   "outputs": [],
   "source": [
    "city_df[city_df['state_name']=='Texas']"
   ]
  },
  {
   "cell_type": "code",
   "execution_count": null,
   "metadata": {},
   "outputs": [],
   "source": [
    "city_df[city_df['avg.temp_f']< 55]"
   ]
  },
  {
   "cell_type": "markdown",
   "metadata": {},
   "source": [
    "## Filtering Data"
   ]
  },
  {
   "cell_type": "code",
   "execution_count": null,
   "metadata": {},
   "outputs": [],
   "source": [
    "# Filtering Data using multiple conditions '&' and '|'\n",
    "city_df[(city_df['avg.temp_f'] < 65) & (city_df['state_name'] == 'California')]\n",
    "\n",
    "#city_df[(city_df['avg.temp_f'] < 60) | (city_df['state_name']=='California')]"
   ]
  },
  {
   "cell_type": "markdown",
   "metadata": {},
   "source": [
    "## Query Method\n",
    "The query method provides a way to select data using a query string."
   ]
  },
  {
   "cell_type": "code",
   "execution_count": null,
   "metadata": {},
   "outputs": [],
   "source": [
    "city_df.query('city_name==\"New York City\"')"
   ]
  },
  {
   "cell_type": "code",
   "execution_count": null,
   "metadata": {},
   "outputs": [],
   "source": [
    "city_df.query('state_name == \"Texas\" and population_approx >= 1500000\t')"
   ]
  },
  {
   "cell_type": "markdown",
   "metadata": {},
   "source": [
    "## Finding and Handling Missing Data "
   ]
  },
  {
   "cell_type": "markdown",
   "metadata": {},
   "source": [
    "#### `isna()` - .isna method can be used to determine whether each individual value is missing or not. \n",
    "\n",
    "NOTE: isnull() is an alias for isna() and you can use this as well"
   ]
  },
  {
   "cell_type": "code",
   "execution_count": null,
   "metadata": {},
   "outputs": [],
   "source": [
    "city_df.isna()\n",
    "\n",
    "# you can also chech it on a specific series \n",
    "#city_df.avg_income_usd.isna()"
   ]
  },
  {
   "cell_type": "markdown",
   "metadata": {},
   "source": [
    "#### `fillna()` - Used to replace missing values in a dataframe or series"
   ]
  },
  {
   "cell_type": "code",
   "execution_count": null,
   "metadata": {},
   "outputs": [],
   "source": [
    "city_df.avg_income_usd = city_df.avg_income_usd.fillna('10000') # filling the missing values in avg_income_usd to 10K\n",
    "city_df"
   ]
  },
  {
   "cell_type": "markdown",
   "metadata": {},
   "source": [
    "#### `dropna()` - deletes entries(rows) with missing values."
   ]
  },
  {
   "cell_type": "code",
   "execution_count": null,
   "metadata": {},
   "outputs": [],
   "source": [
    "city_df.dropna()"
   ]
  },
  {
   "cell_type": "markdown",
   "metadata": {},
   "source": [
    "# Operations Between Columns"
   ]
  },
  {
   "cell_type": "markdown",
   "metadata": {},
   "source": [
    "## Creating New Columns"
   ]
  },
  {
   "cell_type": "code",
   "execution_count": null,
   "metadata": {},
   "outputs": [],
   "source": [
    "# Creating new columns using direct assignment\n",
    "city_areas = [302.6, 503, 227.3, 637.4, 517.6, 134.2, 465.4, 372.4, 340.5, 180.5]\n",
    "\n",
    "city_df['city_area_sq_miles']=city_areas\n",
    "city_df"
   ]
  },
  {
   "cell_type": "code",
   "execution_count": null,
   "metadata": {},
   "outputs": [],
   "source": [
    "#you can perform some operation on other columns or apply conditions \n",
    "city_df['population_density'] = round(city_df['population_approx'] / city_df['city_area_sq_miles'],2)\n",
    "city_df"
   ]
  },
  {
   "cell_type": "code",
   "execution_count": null,
   "metadata": {},
   "outputs": [],
   "source": [
    "def temp_category(temp):\n",
    "    if temp < 60:\n",
    "        return 'Cold'\n",
    "    elif 60 <= temp <= 75:\n",
    "        return 'Moderate'\n",
    "    else:\n",
    "        return 'Hot'\n",
    "\n",
    "# Apply the function to the 'avg_temp_f' column\n",
    "city_df['temp_category'] = city_df['avg.temp_f'].apply(temp_category)\n",
    "print(city_df)"
   ]
  },
  {
   "cell_type": "markdown",
   "metadata": {},
   "source": [
    "## Arithmetic Operations "
   ]
  },
  {
   "cell_type": "code",
   "execution_count": null,
   "metadata": {},
   "outputs": [],
   "source": [
    "city_df['avg.temp_f'] = city_df['avg.temp_f']+ 1\n",
    "city_df"
   ]
  },
  {
   "cell_type": "code",
   "execution_count": null,
   "metadata": {},
   "outputs": [],
   "source": [
    "# Decrease the population by 100,000 for estimation correction\n",
    "city_df['population_approx'] = city_df['population_approx'] - 100000\n",
    "city_df"
   ]
  },
  {
   "cell_type": "code",
   "execution_count": null,
   "metadata": {},
   "outputs": [],
   "source": [
    "# Estimate population after 10% growth\n",
    "city_df['population_approx_growth'] = city_df['population_approx'] * 1.10\n",
    "city_df"
   ]
  },
  {
   "cell_type": "code",
   "execution_count": null,
   "metadata": {},
   "outputs": [],
   "source": [
    "# Convert population to millions\n",
    "city_df['population_millions'] = city_df['population_approx'] / 1000000"
   ]
  },
  {
   "cell_type": "markdown",
   "metadata": {},
   "source": [
    "# IO Operations"
   ]
  },
  {
   "cell_type": "markdown",
   "metadata": {},
   "source": [
    "## Reading a File"
   ]
  },
  {
   "cell_type": "code",
   "execution_count": null,
   "metadata": {},
   "outputs": [],
   "source": [
    "# Reading a csv file \n",
    "retails_sales_df = pd.read_csv('retail_sales_dataset.csv') \n",
    "retails_sales_df"
   ]
  },
  {
   "cell_type": "code",
   "execution_count": null,
   "metadata": {},
   "outputs": [],
   "source": [
    "# excel file"
   ]
  },
  {
   "cell_type": "markdown",
   "metadata": {},
   "source": [
    "## Saving a file"
   ]
  },
  {
   "cell_type": "code",
   "execution_count": null,
   "metadata": {},
   "outputs": [],
   "source": [
    "# to save the results of a dataframe into a csv file\n",
    "#pd.to_csv('filename to save', index=)\n",
    "\n",
    "# to save in excel\n",
    "#pd.to_excel('filename',index=,sheet_name='')"
   ]
  },
  {
   "cell_type": "markdown",
   "metadata": {},
   "source": [
    "# Data Aggregation and Group Operations\n"
   ]
  },
  {
   "cell_type": "markdown",
   "metadata": {},
   "source": [
    "## Group By Operations\n",
    "\n",
    "The groupby() function in Pandas allows you to split data into separate groups based on one or more keys, apply some operations to each group independently, and then combine the results back together. T"
   ]
  },
  {
   "cell_type": "code",
   "execution_count": null,
   "metadata": {},
   "outputs": [],
   "source": [
    "# Lets Take the retail sales dataset\n",
    "retails_sales_df\n",
    "age=retails_sales_df.groupby('Age')\n",
    "#gender #creates an object of groupby \n",
    "\n",
    "age.count()\n",
    "\n",
    "\n",
    "#Now I want to group by Gender and age\n",
    "gender_age=retails_sales_df.groupby(['Gender','Age'])\n",
    "gender_age.count()"
   ]
  },
  {
   "cell_type": "markdown",
   "metadata": {},
   "source": [
    "## Aggregation \n",
    "Pandas provides a wide array of built-in aggregation functions that can be applied to grouped data. These functions help to compute summary statistics on your data.\n",
    "\n",
    "![class 5](aggregate_functions.png)"
   ]
  },
  {
   "cell_type": "code",
   "execution_count": null,
   "metadata": {},
   "outputs": [],
   "source": [
    "# grouping product category and gender with Total amount spent\n",
    "prod_gen=retails_sales_df.groupby(['Product Category','Gender']).agg({\n",
    "    'Total Amount': 'sum'\n",
    "})\n",
    "\n",
    "print(prod_gen)\n",
    "\n",
    "#trying to count the no. of people by Gender and age\n",
    "gen_age=retails_sales_df.groupby(['Gender','Age']).agg(\n",
    "    {\n",
    "        'Customer ID':'count',\n",
    "        'Total Amount': 'sum'\n",
    "    }\n",
    ")\n",
    "print(gen_age)\n",
    "\n",
    "# trying to find the no. of customers by gender and the mean age\n",
    "gen=retails_sales_df.groupby('Gender').agg({\n",
    "    'Age': ['mean','min','max','median'] \n",
    "})\n",
    "print(gen)"
   ]
  },
  {
   "cell_type": "markdown",
   "metadata": {},
   "source": [
    "## Pivot Tables\n",
    "\n",
    "A pivot table is a powerful data analysis tool that allows you to summarize, explore, and manipulate data. It aggregates data according to specific categories, providing a multi-dimensional view of your dataset. While traditionally associated with spreadsheet software, Python offers efficient ways to create and manipulate pivot tables using the pandas library.\n",
    "\n",
    "![class 5](pivot_tables.png)"
   ]
  },
  {
   "cell_type": "code",
   "execution_count": null,
   "metadata": {},
   "outputs": [],
   "source": [
    "# converting the data from 'Date' Column into Month and year\n",
    "retails_sales_df['Date'] = pd.to_datetime(retails_sales_df['Date'])\n",
    "retails_sales_df['month_year'] = retails_sales_df['Date'].dt.strftime('%Y - %m')"
   ]
  },
  {
   "cell_type": "code",
   "execution_count": null,
   "metadata": {},
   "outputs": [],
   "source": [
    "# creating a pivot table with Product category as index and month_year as column and sum of total amount as values\n",
    "\n",
    "pv_tbl=retails_sales_df.pivot_table(index='Product Category', columns= 'month_year', values='Total Amount', aggfunc='sum')\n",
    "\n",
    "# sorting the column values in ascending order\n",
    "pv_tbl.sort_index(axis=1)"
   ]
  },
  {
   "cell_type": "markdown",
   "metadata": {},
   "source": [
    "## Crosstabulation\n",
    "\n",
    "Crosstabulation, or cross-tab, is a method to quantitatively analyze the relationship between multiple variables. It is similar to a pivot table but is more focused on the count of occurrences of combinations of categories."
   ]
  },
  {
   "cell_type": "markdown",
   "metadata": {},
   "source": [
    "The crosstab() function in Pandas is used to create a cross-tabulation of two or more factors. It’s primarily used for categorical data."
   ]
  },
  {
   "cell_type": "code",
   "execution_count": null,
   "metadata": {},
   "outputs": [],
   "source": [
    "# Simple cross-tab\n",
    "pro_gen_tab=pd.crosstab(retails_sales_df['Product Category'],retails_sales_df['Gender'])\n",
    "print(pro_gen_tab)"
   ]
  },
  {
   "cell_type": "code",
   "execution_count": null,
   "metadata": {},
   "outputs": [],
   "source": [
    "# cross-tab with aggregate function\n",
    "total_tab=pd.crosstab(retails_sales_df['Product Category'],retails_sales_df['Gender'],retails_sales_df['Total Amount'],aggfunc='sum')\n",
    "total_tab"
   ]
  },
  {
   "cell_type": "code",
   "execution_count": null,
   "metadata": {},
   "outputs": [],
   "source": [
    "# You can normalize the data to get the percentage or proportion of each category combination.\n",
    "nor_tab=pd.crosstab(retails_sales_df['Product Category'],retails_sales_df['Gender'],normalize=True)\n",
    "nor_tab"
   ]
  },
  {
   "cell_type": "code",
   "execution_count": null,
   "metadata": {},
   "outputs": [],
   "source": [
    "# multi-dimentional cross tabs\n",
    "multi_dim_tab=pd.crosstab([retails_sales_df['Product Category'],retails_sales_df['Gender']],retails_sales_df['Age'])\n",
    "multi_dim_tab"
   ]
  },
  {
   "cell_type": "markdown",
   "metadata": {},
   "source": []
  }
 ],
 "metadata": {
  "kernelspec": {
   "display_name": "Python 3",
   "language": "python",
   "name": "python3"
  },
  "language_info": {
   "codemirror_mode": {
    "name": "ipython",
    "version": 3
   },
   "file_extension": ".py",
   "mimetype": "text/x-python",
   "name": "python",
   "nbconvert_exporter": "python",
   "pygments_lexer": "ipython3",
   "version": "3.11.5"
  }
 },
 "nbformat": 4,
 "nbformat_minor": 2
}
